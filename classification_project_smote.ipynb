{
 "cells": [
  {
   "cell_type": "code",
   "execution_count": 1,
   "id": "d08e502b",
   "metadata": {},
   "outputs": [],
   "source": [
    "import pandas as pd\n",
    "import numpy as np\n",
    "import statsmodels.formula.api as smf\n",
    "import seaborn as sns\n",
    "import matplotlib.pyplot as plt\n",
    "from sklearn.metrics import roc_curve, auc\n",
    "import os\n",
    "import math"
   ]
  },
  {
   "cell_type": "markdown",
   "id": "815b6ef1",
   "metadata": {},
   "source": [
    "Response: imdb_score"
   ]
  },
  {
   "cell_type": "code",
   "execution_count": 2,
   "id": "22746968",
   "metadata": {},
   "outputs": [
    {
     "data": {
      "text/plain": [
       "['color',\n",
       " 'director_name',\n",
       " 'num_critic_for_reviews',\n",
       " 'duration',\n",
       " 'director_facebook_likes',\n",
       " 'actor_3_facebook_likes',\n",
       " 'actor_2_name',\n",
       " 'actor_1_facebook_likes',\n",
       " 'gross',\n",
       " 'genres',\n",
       " 'actor_1_name',\n",
       " 'movie_title',\n",
       " 'num_voted_users',\n",
       " 'cast_total_facebook_likes',\n",
       " 'actor_3_name',\n",
       " 'facenumber_in_poster',\n",
       " 'plot_keywords',\n",
       " 'movie_imdb_link',\n",
       " 'num_user_for_reviews',\n",
       " 'language',\n",
       " 'country',\n",
       " 'content_rating',\n",
       " 'budget',\n",
       " 'title_year',\n",
       " 'actor_2_facebook_likes',\n",
       " 'imdb_score',\n",
       " 'aspect_ratio',\n",
       " 'movie_facebook_likes']"
      ]
     },
     "execution_count": 2,
     "metadata": {},
     "output_type": "execute_result"
    }
   ],
   "source": [
    "movies = pd.read_csv('movie_metadata.csv')\n",
    "list(movies.columns)"
   ]
  },
  {
   "cell_type": "markdown",
   "id": "cc07e98c",
   "metadata": {},
   "source": [
    "# IMDB SCORE\n",
    "#### If score is above 75% quartile movie is good (1), else bad (0)"
   ]
  },
  {
   "cell_type": "code",
   "execution_count": 3,
   "id": "2d3a62ee",
   "metadata": {},
   "outputs": [],
   "source": [
    "movies = movies.dropna()"
   ]
  },
  {
   "cell_type": "code",
   "execution_count": 4,
   "id": "f756903e",
   "metadata": {},
   "outputs": [],
   "source": [
    "good_score = movies['imdb_score'].quantile(0.75)\n",
    "movies['good_movie'] = movies['imdb_score'].apply(lambda x: 1 if x >= good_score else 0)"
   ]
  },
  {
   "cell_type": "code",
   "execution_count": 5,
   "id": "fdd274fa",
   "metadata": {},
   "outputs": [
    {
     "data": {
      "text/plain": [
       "good_movie                   1.000000\n",
       "imdb_score                   0.681445\n",
       "num_voted_users              0.437163\n",
       "num_user_for_reviews         0.322559\n",
       "duration                     0.301424\n",
       "num_critic_for_reviews       0.283649\n",
       "movie_facebook_likes         0.268881\n",
       "director_facebook_likes      0.182985\n",
       "gross                        0.182888\n",
       "cast_total_facebook_likes    0.073699\n",
       "actor_2_facebook_likes       0.066739\n",
       "actor_1_facebook_likes       0.066040\n",
       "actor_3_facebook_likes       0.045431\n",
       "budget                       0.002025\n",
       "aspect_ratio                -0.029805\n",
       "facenumber_in_poster        -0.067898\n",
       "title_year                  -0.148343\n",
       "dtype: float64"
      ]
     },
     "execution_count": 5,
     "metadata": {},
     "output_type": "execute_result"
    }
   ],
   "source": [
    "movies.corrwith(movies.good_movie).sort_values(ascending = False)"
   ]
  },
  {
   "cell_type": "code",
   "execution_count": 6,
   "id": "4ba2f54f",
   "metadata": {},
   "outputs": [
    {
     "name": "stdout",
     "output_type": "stream",
     "text": [
      "color                        0\n",
      "director_name                0\n",
      "num_critic_for_reviews       0\n",
      "duration                     0\n",
      "director_facebook_likes      0\n",
      "actor_3_facebook_likes       0\n",
      "actor_2_name                 0\n",
      "actor_1_facebook_likes       0\n",
      "gross                        0\n",
      "genres                       0\n",
      "actor_1_name                 0\n",
      "movie_title                  0\n",
      "num_voted_users              0\n",
      "cast_total_facebook_likes    0\n",
      "actor_3_name                 0\n",
      "facenumber_in_poster         0\n",
      "plot_keywords                0\n",
      "movie_imdb_link              0\n",
      "num_user_for_reviews         0\n",
      "language                     0\n",
      "country                      0\n",
      "content_rating               0\n",
      "budget                       0\n",
      "title_year                   0\n",
      "actor_2_facebook_likes       0\n",
      "imdb_score                   0\n",
      "aspect_ratio                 0\n",
      "movie_facebook_likes         0\n",
      "good_movie                   0\n",
      "dtype: int64\n"
     ]
    }
   ],
   "source": [
    "missing_values_sum = movies.isna().sum()\n",
    "print(missing_values_sum)"
   ]
  },
  {
   "cell_type": "markdown",
   "id": "bd15aa9b",
   "metadata": {},
   "source": [
    "# EDA"
   ]
  },
  {
   "cell_type": "markdown",
   "id": "228d2c65",
   "metadata": {},
   "source": [
    "### GENRE"
   ]
  },
  {
   "cell_type": "code",
   "execution_count": 7,
   "id": "7ee7f719",
   "metadata": {
    "scrolled": true
   },
   "outputs": [
    {
     "data": {
      "image/png": "[encoded data removed]",
      "text/plain": [
       "<Figure size 1728x576 with 1 Axes>"
      ]
     },
     "metadata": {
      "needs_background": "light"
     },
     "output_type": "display_data"
    }
   ],
   "source": [
    "genres_df = movies.loc[:, [\"genres\", \"imdb_score\"]].copy()\n",
    "\n",
    "genres_df[\"Action\"] = [1 if \"Action\" in genre else 0 for genre in genres_df[\"genres\"]]\n",
    "genres_df[\"Adventure\"] = [1 if \"Adventure\" in genre else 0 for genre in genres_df[\"genres\"]]\n",
    "genres_df[\"Animation\"] = [1 if \"Animation\" in genre else 0 for genre in genres_df[\"genres\"]]\n",
    "genres_df[\"Biography\"] = [1 if \"Biography\" in genre else 0 for genre in genres_df[\"genres\"]]\n",
    "genres_df[\"Comedy\"] = [1 if \"Comedy\" in genre else 0 for genre in genres_df[\"genres\"]]\n",
    "genres_df[\"Crime\"] = [1 if \"Crime\" in genre else 0 for genre in genres_df[\"genres\"]]\n",
    "genres_df[\"Documentary\"] = [1 if \"Documentary\" in genre else 0 for genre in genres_df[\"genres\"]]\n",
    "genres_df[\"Drama\"] = [1 if \"Drama\" in genre else 0 for genre in genres_df[\"genres\"]]\n",
    "genres_df[\"Family\"] = [1 if \"Family\" in genre else 0 for genre in genres_df[\"genres\"]]\n",
    "genres_df[\"Fantasy\"] = [1 if \"Fantasy\" in genre else 0 for genre in genres_df[\"genres\"]]\n",
    "genres_df[\"Film-Noir\"] = [1 if \"Film-Noir\" in genre else 0 for genre in genres_df[\"genres\"]]\n",
    "genres_df[\"History\"] = [1 if \"History\" in genre else 0 for genre in genres_df[\"genres\"]]\n",
    "genres_df[\"Horror\"] = [1 if \"Horror\" in genre else 0 for genre in genres_df[\"genres\"]]\n",
    "genres_df[\"Musical\"] = [1 if \"Musical\" in genre else 0 for genre in genres_df[\"genres\"]]\n",
    "genres_df[\"Mystery\"] = [1 if \"Mystery\" in genre else 0 for genre in genres_df[\"genres\"]]\n",
    "genres_df[\"News\"] = [1 if \"News\" in genre else 0 for genre in genres_df[\"genres\"]]\n",
    "genres_df[\"Romance\"] = [1 if \"Romance\" in genre else 0 for genre in genres_df[\"genres\"]]\n",
    "genres_df[\"Sci-Fi\"] = [1 if \"Sci-Fi\" in genre else 0 for genre in genres_df[\"genres\"]]\n",
    "genres_df[\"Short\"] = [1 if \"Short\" in genre else 0 for genre in genres_df[\"genres\"]]\n",
    "genres_df[\"Sport\"] = [1 if \"Sport\" in genre else 0 for genre in genres_df[\"genres\"]]\n",
    "genres_df[\"Thriller\"] = [1 if \"Thriller\" in genre else 0 for genre in genres_df[\"genres\"]]\n",
    "genres_df[\"War\"] = [1 if \"War\" in genre else 0 for genre in genres_df[\"genres\"]]\n",
    "genres_df[\"Western\"] = [1 if \"Western\" in genre else 0 for genre in genres_df[\"genres\"]]\n",
    "\n",
    "\n",
    "means = []\n",
    "for column in genres_df.columns[2:]:\n",
    "    means.append(genres_df.loc[genres_df[column] == 1, \"imdb_score\"].mean())\n",
    "\n",
    "    \n",
    "fig, ax = plt.subplots(figsize=(24, 8))\n",
    "plt.bar(x=genres_df.columns[2:], height=means)\n",
    "plt.title(\"Average imdb scores for different genres\")\n",
    "plt.show()"
   ]
  },
  {
   "cell_type": "markdown",
   "id": "369342d2",
   "metadata": {},
   "source": [
    "### Country"
   ]
  },
  {
   "cell_type": "code",
   "execution_count": 8,
   "id": "07c92306",
   "metadata": {},
   "outputs": [],
   "source": [
    "movies['country'] = pd.Categorical(movies['country'])\n",
    "\n",
    "movies['country'] = movies['country'].cat.add_categories('Others')\n",
    "\n",
    "movies.loc[~movies['country'].isin(['USA', 'UK']), 'country'] = 'Others'\n",
    "\n",
    "movies['country'] = pd.Categorical(movies['country'])"
   ]
  },
  {
   "cell_type": "code",
   "execution_count": 9,
   "id": "ffcbcb83",
   "metadata": {},
   "outputs": [],
   "source": [
    "# Create dummy variables for the 'country' column\n",
    "dummies = pd.get_dummies(movies['country'], prefix = 'country')\n",
    "\n",
    "# Add the dummy variables to the original DataFrame\n",
    "movies = pd.concat([movies, dummies], axis=1)\n",
    "\n",
    "# Drop the original 'country' column\n",
    "movies.drop('country', axis=1, inplace=True)"
   ]
  },
  {
   "cell_type": "code",
   "execution_count": 10,
   "id": "ab5b3d6a",
   "metadata": {},
   "outputs": [
    {
     "data": {
      "text/plain": [
       "['color',\n",
       " 'director_name',\n",
       " 'num_critic_for_reviews',\n",
       " 'duration',\n",
       " 'director_facebook_likes',\n",
       " 'actor_3_facebook_likes',\n",
       " 'actor_2_name',\n",
       " 'actor_1_facebook_likes',\n",
       " 'gross',\n",
       " 'genres',\n",
       " 'actor_1_name',\n",
       " 'movie_title',\n",
       " 'num_voted_users',\n",
       " 'cast_total_facebook_likes',\n",
       " 'actor_3_name',\n",
       " 'facenumber_in_poster',\n",
       " 'plot_keywords',\n",
       " 'movie_imdb_link',\n",
       " 'num_user_for_reviews',\n",
       " 'language',\n",
       " 'content_rating',\n",
       " 'budget',\n",
       " 'title_year',\n",
       " 'actor_2_facebook_likes',\n",
       " 'imdb_score',\n",
       " 'aspect_ratio',\n",
       " 'movie_facebook_likes',\n",
       " 'good_movie',\n",
       " 'country_UK',\n",
       " 'country_USA',\n",
       " 'country_Others']"
      ]
     },
     "execution_count": 10,
     "metadata": {},
     "output_type": "execute_result"
    }
   ],
   "source": [
    "# create a list of columns to be removed\n",
    "cols_to_remove = [col for col in movies.columns if col.startswith('country') and col not in ['country_USA', 'country_UK', 'country_Others']]\n",
    "\n",
    "# drop the columns from the dataframe\n",
    "movies.drop(cols_to_remove, axis=1, inplace=True)\n",
    "\n",
    "list(movies.columns)"
   ]
  },
  {
   "cell_type": "markdown",
   "id": "946400cf",
   "metadata": {},
   "source": [
    "### Facebook likes"
   ]
  },
  {
   "cell_type": "code",
   "execution_count": 11,
   "id": "fe74d981",
   "metadata": {},
   "outputs": [],
   "source": [
    "#combining all actor facebook likes\n",
    "movies['actors_facebook_likes'] = movies['actor_1_facebook_likes'] + movies['actor_2_facebook_likes'] + movies['actor_3_facebook_likes']"
   ]
  },
  {
   "cell_type": "code",
   "execution_count": 12,
   "id": "c6e59a62",
   "metadata": {},
   "outputs": [
    {
     "data": {
      "text/plain": [
       "<seaborn.axisgrid.FacetGrid at 0x7fa3c8e94160>"
      ]
     },
     "execution_count": 12,
     "metadata": {},
     "output_type": "execute_result"
    },
    {
     "data": {
      "image/png": "[encoded data removed]",
      "text/plain": [
       "<Figure size 360x360 with 1 Axes>"
      ]
     },
     "metadata": {
      "needs_background": "light"
     },
     "output_type": "display_data"
    }
   ],
   "source": [
    "sns.displot(movies, x=\"actors_facebook_likes\")"
   ]
  },
  {
   "cell_type": "code",
   "execution_count": 13,
   "id": "dd2c757a",
   "metadata": {},
   "outputs": [],
   "source": [
    "# If the actors have facebook likes greater than 75% of the others, they are famous (1) else not (0)\n",
    "famous = movies['actors_facebook_likes'].quantile(0.7)\n",
    "movies['actors_facebook_likes'] = movies['actors_facebook_likes'].apply(lambda x: 1 if x > famous else 0)"
   ]
  },
  {
   "cell_type": "markdown",
   "id": "bb4a9b05",
   "metadata": {},
   "source": [
    "### Budget"
   ]
  },
  {
   "cell_type": "code",
   "execution_count": 14,
   "id": "a074d96d",
   "metadata": {},
   "outputs": [
    {
     "data": {
      "text/plain": [
       "<seaborn.axisgrid.FacetGrid at 0x7fa3b8257940>"
      ]
     },
     "execution_count": 14,
     "metadata": {},
     "output_type": "execute_result"
    },
    {
     "data": {
      "image/png": "[encoded data removed]",
      "text/plain": [
       "<Figure size 360x360 with 1 Axes>"
      ]
     },
     "metadata": {
      "needs_background": "light"
     },
     "output_type": "display_data"
    }
   ],
   "source": [
    "sns.displot(movies, x=\"budget\")"
   ]
  },
  {
   "cell_type": "code",
   "execution_count": 15,
   "id": "729335cd",
   "metadata": {},
   "outputs": [],
   "source": [
    "movies.dropna(inplace = True)"
   ]
  },
  {
   "cell_type": "markdown",
   "id": "7a172c9e",
   "metadata": {},
   "source": [
    "## Check correlation"
   ]
  },
  {
   "cell_type": "code",
   "execution_count": 16,
   "id": "0ab93b2a",
   "metadata": {},
   "outputs": [
    {
     "data": {
      "text/plain": [
       "good_movie                   1.000000\n",
       "imdb_score                   0.681445\n",
       "num_voted_users              0.437163\n",
       "num_user_for_reviews         0.322559\n",
       "duration                     0.301424\n",
       "num_critic_for_reviews       0.283649\n",
       "movie_facebook_likes         0.268881\n",
       "director_facebook_likes      0.182985\n",
       "gross                        0.182888\n",
       "country_Others               0.100260\n",
       "actors_facebook_likes        0.097273\n",
       "country_UK                   0.096814\n",
       "cast_total_facebook_likes    0.073699\n",
       "actor_2_facebook_likes       0.066739\n",
       "actor_1_facebook_likes       0.066040\n",
       "actor_3_facebook_likes       0.045431\n",
       "budget                       0.002025\n",
       "aspect_ratio                -0.029805\n",
       "facenumber_in_poster        -0.067898\n",
       "country_USA                 -0.147556\n",
       "title_year                  -0.148343\n",
       "dtype: float64"
      ]
     },
     "execution_count": 16,
     "metadata": {},
     "output_type": "execute_result"
    }
   ],
   "source": [
    "movies.corrwith(movies.good_movie).sort_values(ascending = False)"
   ]
  },
  {
   "cell_type": "markdown",
   "id": "e8c3d18b",
   "metadata": {},
   "source": [
    "# CREATING THE MODEL"
   ]
  },
  {
   "cell_type": "code",
   "execution_count": 17,
   "id": "092fbdce",
   "metadata": {},
   "outputs": [],
   "source": [
    "def confusion_matrix_data(data, actual_values, model, cutoff = 0.5):\n",
    "# Predict the values using the Logit model\n",
    "    pred_values = model.predict(data)\n",
    "# Specify the bins\n",
    "    bins = np.array([0,cutoff,1])\n",
    "# Confusion matrix\n",
    "    cm = np.histogram2d(actual_values, pred_values, bins=bins)[0]\n",
    "    cm_df = pd.DataFrame(cm)\n",
    "    cm_df.columns = ['Predicted 0','Predicted 1']\n",
    "    cm_df = cm_df.rename(index = {0: 'Actual 0',1:'Actual 1'})\n",
    "# Calculate the accuracy\n",
    "    accuracy = (cm[0,0]+cm[1,1])/cm.sum()\n",
    "    fnr = (cm[1,0])/(cm[1,0]+cm[1,1])\n",
    "    precision = (cm[1,1])/(cm[0,1]+cm[1,1])\n",
    "    fpr = (cm[0,1])/(cm[0,0]+cm[0,1])\n",
    "    tpr = (cm[1,1])/(cm[1,0]+cm[1,1])\n",
    "    fpr_roc, tpr_roc, auc_thresholds = roc_curve(actual_values, pred_values)\n",
    "    auc_value = (auc(fpr_roc, tpr_roc))# AUC of ROC\n",
    "    sns.heatmap(cm_df, annot=True, cmap='Blues', fmt='g')\n",
    "    plt.ylabel(\"Actual Values\")\n",
    "    plt.xlabel(\"Predicted Values\")\n",
    "    print(\"Classification accuracy = {:.1%}\".format(accuracy))\n",
    "    print(\"Precision = {:.1%}\".format(precision))\n",
    "    print(\"TPR or Recall = {:.1%}\".format(tpr))\n",
    "    print(\"FNR = {:.1%}\".format(fnr))\n",
    "    print(\"FPR = {:.1%}\".format(fpr))\n",
    "    print(\"ROC-AUC = {:.1%}\".format(auc_value))"
   ]
  },
  {
   "cell_type": "markdown",
   "id": "26e3a4c4",
   "metadata": {},
   "source": [
    "### Model 1 (all predictors)"
   ]
  },
  {
   "cell_type": "code",
   "execution_count": 18,
   "id": "0f66faf6",
   "metadata": {},
   "outputs": [
    {
     "name": "stdout",
     "output_type": "stream",
     "text": [
      "Optimization terminated successfully.\n",
      "         Current function value: 0.506683\n",
      "         Iterations 9\n",
      "                           Logit Regression Results                           \n",
      "==============================================================================\n",
      "Dep. Variable:             good_movie   No. Observations:                 3756\n",
      "Model:                          Logit   Df Residuals:                     3747\n",
      "Method:                           MLE   Df Model:                            8\n",
      "Date:                Tue, 14 Mar 2023   Pseudo R-squ.:                  0.1281\n",
      "Time:                        19:25:47   Log-Likelihood:                -1903.1\n",
      "converged:                       True   LL-Null:                       -2182.6\n",
      "Covariance Type:            nonrobust   LLR p-value:                1.519e-115\n",
      "===========================================================================================\n",
      "                              coef    std err          z      P>|z|      [0.025      0.975]\n",
      "-------------------------------------------------------------------------------------------\n",
      "Intercept                  -1.4239        nan        nan        nan         nan         nan\n",
      "duration                    0.0322      0.002     15.335      0.000       0.028       0.036\n",
      "director_facebook_likes  9.198e-05   1.25e-05      7.374      0.000    6.75e-05       0.000\n",
      "country_UK                 -0.1544        nan        nan        nan         nan         nan\n",
      "country_USA                -1.0962        nan        nan        nan         nan         nan\n",
      "country_Others             -0.1733        nan        nan        nan         nan         nan\n",
      "aspect_ratio               -1.1303      0.156     -7.253      0.000      -1.436      -0.825\n",
      "actors_facebook_likes       0.3762      0.088      4.275      0.000       0.204       0.549\n",
      "budget                  -6.947e-10   4.61e-10     -1.507      0.132    -1.6e-09    2.09e-10\n",
      "facenumber_in_poster       -0.0966      0.024     -4.038      0.000      -0.143      -0.050\n",
      "===========================================================================================\n"
     ]
    }
   ],
   "source": [
    "# creating a model using predictors with high correlation\n",
    "logit_model1 = smf.logit(data = movies, formula = 'good_movie ~ duration + director_facebook_likes + country_UK + country_USA + country_Others + aspect_ratio + actors_facebook_likes + budget + facenumber_in_poster').fit()\n",
    "print(logit_model1.summary())"
   ]
  },
  {
   "cell_type": "code",
   "execution_count": 19,
   "id": "28ef1af1",
   "metadata": {},
   "outputs": [
    {
     "name": "stdout",
     "output_type": "stream",
     "text": [
      "Classification accuracy = 76.7%\n",
      "Precision = 63.4%\n",
      "TPR or Recall = 30.3%\n",
      "FNR = 69.7%\n",
      "FPR = 6.4%\n",
      "ROC-AUC = 74.4%\n"
     ]
    },
    {
     "data": {
      "image/png": "[encoded data removed]",
      "text/plain": [
       "<Figure size 432x288 with 2 Axes>"
      ]
     },
     "metadata": {
      "needs_background": "light"
     },
     "output_type": "display_data"
    }
   ],
   "source": [
    "confusion_matrix_data(movies, movies.good_movie, logit_model1, cutoff = 0.46)"
   ]
  },
  {
   "cell_type": "markdown",
   "id": "f67b70ba",
   "metadata": {},
   "source": [
    "### Model 2"
   ]
  },
  {
   "cell_type": "code",
   "execution_count": 20,
   "id": "474d93d2",
   "metadata": {
    "scrolled": true
   },
   "outputs": [
    {
     "name": "stdout",
     "output_type": "stream",
     "text": [
      "Optimization terminated successfully.\n",
      "         Current function value: 0.522054\n",
      "         Iterations 7\n",
      "                           Logit Regression Results                           \n",
      "==============================================================================\n",
      "Dep. Variable:             good_movie   No. Observations:                 3756\n",
      "Model:                          Logit   Df Residuals:                     3750\n",
      "Method:                           MLE   Df Model:                            5\n",
      "Date:                Tue, 14 Mar 2023   Pseudo R-squ.:                  0.1016\n",
      "Time:                        19:25:47   Log-Likelihood:                -1960.8\n",
      "converged:                       True   LL-Null:                       -2182.6\n",
      "Covariance Type:            nonrobust   LLR p-value:                 1.223e-93\n",
      "===========================================================================================\n",
      "                              coef    std err          z      P>|z|      [0.025      0.975]\n",
      "-------------------------------------------------------------------------------------------\n",
      "Intercept                  49.4559      7.860      6.292      0.000      34.050      64.861\n",
      "duration                    0.0279      0.002     13.810      0.000       0.024       0.032\n",
      "title_year                 -0.0268      0.004     -6.847      0.000      -0.035      -0.019\n",
      "director_facebook_likes  7.958e-05   1.23e-05      6.454      0.000    5.54e-05       0.000\n",
      "actors_facebook_likes       0.2876      0.086      3.343      0.001       0.119       0.456\n",
      "budget                  -4.289e-10   4.56e-10     -0.941      0.347   -1.32e-09    4.65e-10\n",
      "===========================================================================================\n"
     ]
    }
   ],
   "source": [
    "logit_model2 = smf.logit(formula= 'good_movie ~ duration + title_year + director_facebook_likes + actors_facebook_likes + budget', data = movies).fit()\n",
    "print(logit_model2.summary())"
   ]
  },
  {
   "cell_type": "code",
   "execution_count": 21,
   "id": "30960832",
   "metadata": {},
   "outputs": [
    {
     "name": "stdout",
     "output_type": "stream",
     "text": [
      "Classification accuracy = 76.3%\n",
      "Precision = 68.5%\n",
      "TPR or Recall = 21.4%\n",
      "FNR = 78.6%\n",
      "FPR = 3.6%\n",
      "ROC-AUC = 71.1%\n"
     ]
    },
    {
     "data": {
      "image/png": "[encoded data removed]",
      "text/plain": [
       "<Figure size 432x288 with 2 Axes>"
      ]
     },
     "metadata": {
      "needs_background": "light"
     },
     "output_type": "display_data"
    }
   ],
   "source": [
    "confusion_matrix_data(movies, movies.good_movie, logit_model2, cutoff = 0.49)"
   ]
  },
  {
   "cell_type": "markdown",
   "id": "eff3196c",
   "metadata": {},
   "source": [
    "### Model 3"
   ]
  },
  {
   "cell_type": "code",
   "execution_count": 22,
   "id": "8ab35f37",
   "metadata": {},
   "outputs": [
    {
     "name": "stdout",
     "output_type": "stream",
     "text": [
      "Optimization terminated successfully.\n",
      "         Current function value: 0.505843\n",
      "         Iterations 6\n",
      "                           Logit Regression Results                           \n",
      "==============================================================================\n",
      "Dep. Variable:             good_movie   No. Observations:                 3756\n",
      "Model:                          Logit   Df Residuals:                     3749\n",
      "Method:                           MLE   Df Model:                            6\n",
      "Date:                Tue, 14 Mar 2023   Pseudo R-squ.:                  0.1295\n",
      "Time:                        19:25:47   Log-Likelihood:                -1899.9\n",
      "converged:                       True   LL-Null:                       -2182.6\n",
      "Covariance Type:            nonrobust   LLR p-value:                7.067e-119\n",
      "=================================================================================================================\n",
      "                                                    coef    std err          z      P>|z|      [0.025      0.975]\n",
      "-----------------------------------------------------------------------------------------------------------------\n",
      "Intercept                                         0.9374      0.458      2.045      0.041       0.039       1.836\n",
      "duration                                          0.0381      0.002     17.038      0.000       0.034       0.042\n",
      "director_facebook_likes                           0.0001   1.95e-05      5.584      0.000    7.07e-05       0.000\n",
      "actors_facebook_likes                             0.4813      0.093      5.183      0.000       0.299       0.663\n",
      "director_facebook_likes:actors_facebook_likes -3.429e-05   2.54e-05     -1.349      0.177   -8.41e-05    1.55e-05\n",
      "budget                                          3.17e-10   1.58e-10      2.009      0.045     7.7e-12    6.26e-10\n",
      "np.log(budget)                                   -0.3871      0.030    -12.781      0.000      -0.446      -0.328\n",
      "=================================================================================================================\n"
     ]
    }
   ],
   "source": [
    "logit_model3 = smf.logit(formula= 'good_movie ~ duration + director_facebook_likes * actors_facebook_likes + budget + np.log(budget)', data = movies).fit()\n",
    "print(logit_model3.summary())"
   ]
  },
  {
   "cell_type": "code",
   "execution_count": 23,
   "id": "e90e12c2",
   "metadata": {},
   "outputs": [],
   "source": [
    "from sklearn.metrics import precision_recall_curve, auc\n",
    "\n",
    "y = movies.good_movie\n",
    "y_pred = logit_model3.predict(movies)\n",
    "\n",
    "precision, recall, thresholds = precision_recall_curve(y, y_pred)\n",
    "pr_auc = auc(recall, precision)\n",
    "\n",
    "max_precision_index = np.argmax(precision[:-1])\n",
    "decision_threshold = thresholds[max_precision_index]"
   ]
  },
  {
   "cell_type": "code",
   "execution_count": 24,
   "id": "dd029ac9",
   "metadata": {},
   "outputs": [
    {
     "name": "stdout",
     "output_type": "stream",
     "text": [
      "Classification accuracy = 75.0%\n",
      "Precision = 81.3%\n",
      "TPR or Recall = 8.6%\n",
      "FNR = 91.4%\n",
      "FPR = 0.7%\n",
      "ROC-AUC = 75.2%\n"
     ]
    },
    {
     "data": {
      "image/png": "[encoded data removed]",
      "text/plain": [
       "<Figure size 432x288 with 2 Axes>"
      ]
     },
     "metadata": {
      "needs_background": "light"
     },
     "output_type": "display_data"
    }
   ],
   "source": [
    "confusion_matrix_data(movies, movies.good_movie, logit_model3, cutoff = decision_threshold)"
   ]
  },
  {
   "cell_type": "markdown",
   "id": "e7b0c6ce",
   "metadata": {},
   "source": [
    "### Model 4"
   ]
  },
  {
   "cell_type": "markdown",
   "id": "79fa9522",
   "metadata": {},
   "source": [
    "#### Best subset selection"
   ]
  },
  {
   "cell_type": "code",
   "execution_count": 25,
   "id": "34cdfd75",
   "metadata": {},
   "outputs": [],
   "source": [
    "np.random.seed(2)\n",
    "\n",
    "# 75% to be training\n",
    "train = movies.sample(round(movies.shape[0]*.75))\n",
    "# drop the train data from the test df\n",
    "test = movies.drop(train.index)"
   ]
  },
  {
   "cell_type": "code",
   "execution_count": 26,
   "id": "f0682766",
   "metadata": {
    "scrolled": true
   },
   "outputs": [
    {
     "name": "stdout",
     "output_type": "stream",
     "text": [
      "Optimization terminated successfully.\n",
      "         Current function value: 0.542218\n",
      "         Iterations 6\n",
      "Optimization terminated successfully.\n",
      "         Current function value: 0.570571\n",
      "         Iterations 5\n",
      "Optimization terminated successfully.\n",
      "         Current function value: 0.585886\n",
      "         Iterations 5\n",
      "Optimization terminated successfully.\n",
      "         Current function value: 0.581955\n",
      "         Iterations 5\n",
      "Optimization terminated successfully.\n",
      "         Current function value: 0.586548\n",
      "         Iterations 5\n",
      "Optimization terminated successfully.\n",
      "         Current function value: 0.584432\n",
      "         Iterations 5\n",
      "Optimization terminated successfully.\n",
      "         Current function value: 0.577354\n",
      "         Iterations 5\n",
      "Optimization terminated successfully.\n",
      "         Current function value: 0.582216\n",
      "         Iterations 5\n",
      "Processed 8 models on 1 predictors in 0.029233932495117188 seconds.\n",
      "Optimization terminated successfully.\n",
      "         Current function value: 0.533914\n",
      "         Iterations 6\n",
      "Optimization terminated successfully.\n",
      "         Current function value: 0.536185\n",
      "         Iterations 6\n",
      "Optimization terminated successfully.\n",
      "         Current function value: 0.540652\n",
      "         Iterations 6\n",
      "Optimization terminated successfully.\n",
      "         Current function value: 0.542052\n",
      "         Iterations 7\n",
      "Optimization terminated successfully.\n",
      "         Current function value: 0.539152\n",
      "         Iterations 6\n",
      "Optimization terminated successfully.\n",
      "         Current function value: 0.533930\n",
      "         Iterations 6\n",
      "Optimization terminated successfully.\n",
      "         Current function value: 0.537882\n",
      "         Iterations 6\n",
      "Optimization terminated successfully.\n",
      "         Current function value: 0.569361\n",
      "         Iterations 5\n",
      "Optimization terminated successfully.\n",
      "         Current function value: 0.567988\n",
      "         Iterations 5\n",
      "Optimization terminated successfully.\n",
      "         Current function value: 0.570571\n",
      "         Iterations 5\n",
      "Optimization terminated successfully.\n",
      "         Current function value: 0.569109\n",
      "         Iterations 5\n",
      "Optimization terminated successfully.\n",
      "         Current function value: 0.559109\n",
      "         Iterations 5\n",
      "Optimization terminated successfully.\n",
      "         Current function value: 0.565288\n",
      "         Iterations 5\n",
      "Optimization terminated successfully.\n",
      "         Current function value: 0.580551\n",
      "         Iterations 5\n",
      "Optimization terminated successfully.\n",
      "         Current function value: 0.585877\n",
      "         Iterations 5\n",
      "Optimization terminated successfully.\n",
      "         Current function value: 0.583835\n",
      "         Iterations 5\n",
      "Optimization terminated successfully.\n",
      "         Current function value: 0.576302\n",
      "         Iterations 5\n",
      "Optimization terminated successfully.\n",
      "         Current function value: 0.581392\n",
      "         Iterations 5\n",
      "Optimization terminated successfully.\n",
      "         Current function value: 0.581955\n",
      "         Iterations 5\n",
      "Optimization terminated successfully.\n",
      "         Current function value: 0.579461\n",
      "         Iterations 5\n",
      "Optimization terminated successfully.\n",
      "         Current function value: 0.571465\n",
      "         Iterations 5\n",
      "Optimization terminated successfully.\n",
      "         Current function value: 0.576881\n",
      "         Iterations 5\n",
      "Optimization terminated successfully.\n",
      "         Current function value: 0.584430\n",
      "         Iterations 5\n",
      "Optimization terminated successfully.\n",
      "         Current function value: 0.577351\n",
      "         Iterations 5\n",
      "Optimization terminated successfully.\n",
      "         Current function value: 0.582211\n",
      "         Iterations 5\n",
      "Optimization terminated successfully.\n",
      "         Current function value: 0.575486\n",
      "         Iterations 5\n",
      "Optimization terminated successfully.\n",
      "         Current function value: 0.580307\n",
      "         Iterations 5\n",
      "Optimization terminated successfully.\n",
      "         Current function value: 0.577340\n",
      "         Iterations 5\n",
      "Processed 28 models on 2 predictors in 0.10659027099609375 seconds.\n",
      "Optimization terminated successfully.\n",
      "         Current function value: 0.527495\n",
      "         Iterations 6\n",
      "Optimization terminated successfully.\n",
      "         Current function value: 0.533011\n",
      "         Iterations 6\n",
      "Optimization terminated successfully.\n",
      "         Current function value: 0.533712\n",
      "         Iterations 7\n",
      "Optimization terminated successfully.\n",
      "         Current function value: 0.531570\n",
      "         Iterations 6\n",
      "Optimization terminated successfully.\n",
      "         Current function value: 0.524012\n",
      "         Iterations 6\n",
      "Optimization terminated successfully.\n",
      "         Current function value: 0.528930\n",
      "         Iterations 6\n",
      "Optimization terminated successfully.\n",
      "         Current function value: 0.533645\n",
      "         Iterations 6\n",
      "Optimization terminated successfully.\n",
      "         Current function value: 0.536089\n",
      "         Iterations 6\n",
      "Optimization terminated successfully.\n",
      "         Current function value: 0.533274\n",
      "         Iterations 6\n",
      "Optimization terminated successfully.\n",
      "         Current function value: 0.527022\n",
      "         Iterations 6\n",
      "Optimization terminated successfully.\n",
      "         Current function value: 0.531362\n",
      "         Iterations 6\n",
      "Optimization terminated successfully.\n",
      "         Current function value: 0.540427\n",
      "         Iterations 7\n",
      "Optimization terminated successfully.\n",
      "         Current function value: 0.537369\n",
      "         Iterations 6\n",
      "Optimization terminated successfully.\n",
      "         Current function value: 0.531558\n",
      "         Iterations 6\n",
      "Optimization terminated successfully.\n",
      "         Current function value: 0.535851\n",
      "         Iterations 6\n",
      "Optimization terminated successfully.\n",
      "         Current function value: 0.538950\n",
      "         Iterations 7\n",
      "Optimization terminated successfully.\n",
      "         Current function value: 0.533691\n",
      "         Iterations 7\n",
      "Optimization terminated successfully.\n",
      "         Current function value: 0.537594\n",
      "         Iterations 7\n",
      "Optimization terminated successfully.\n",
      "         Current function value: 0.531159\n",
      "         Iterations 6\n",
      "Optimization terminated successfully.\n",
      "         Current function value: 0.535066\n",
      "         Iterations 6\n",
      "Optimization terminated successfully.\n",
      "         Current function value: 0.533926\n",
      "         Iterations 6\n",
      "Optimization terminated successfully.\n",
      "         Current function value: 0.566115\n",
      "         Iterations 5\n",
      "Optimization terminated successfully.\n",
      "         Current function value: 0.569360\n",
      "         Iterations 5\n",
      "Optimization terminated successfully.\n",
      "         Current function value: 0.567987\n",
      "         Iterations 5\n",
      "Optimization terminated successfully.\n",
      "         Current function value: 0.557270\n",
      "         Iterations 5\n",
      "Optimization terminated successfully.\n",
      "         Current function value: 0.563825\n",
      "         Iterations 5\n",
      "Optimization terminated successfully.\n",
      "         Current function value: 0.567987\n",
      "         Iterations 5\n",
      "Optimization terminated successfully.\n",
      "         Current function value: 0.566258\n",
      "         Iterations 5\n",
      "Optimization terminated successfully.\n",
      "         Current function value: 0.555564\n",
      "         Iterations 5\n",
      "Optimization terminated successfully.\n",
      "         Current function value: 0.562144\n",
      "         Iterations 5\n",
      "Optimization terminated successfully.\n",
      "         Current function value: 0.569108\n",
      "         Iterations 5\n",
      "Optimization terminated successfully.\n",
      "         Current function value: 0.559089\n",
      "         Iterations 5\n",
      "Optimization terminated successfully.\n",
      "         Current function value: 0.565263\n",
      "         Iterations 5\n",
      "Optimization terminated successfully.\n",
      "         Current function value: 0.557920\n",
      "         Iterations 5\n",
      "Optimization terminated successfully.\n",
      "         Current function value: 0.564039\n",
      "         Iterations 5\n",
      "Optimization terminated successfully.\n",
      "         Current function value: 0.559083\n",
      "         Iterations 5\n",
      "Optimization terminated successfully.\n",
      "         Current function value: 0.580548\n",
      "         Iterations 5\n",
      "Optimization terminated successfully.\n",
      "         Current function value: 0.578134\n",
      "         Iterations 5\n",
      "Optimization terminated successfully.\n",
      "         Current function value: 0.569327\n",
      "         Iterations 5\n",
      "Optimization terminated successfully.\n",
      "         Current function value: 0.575141\n",
      "         Iterations 5\n",
      "Optimization terminated successfully.\n",
      "         Current function value: 0.583831\n",
      "         Iterations 5\n",
      "Optimization terminated successfully.\n",
      "         Current function value: 0.576301\n",
      "         Iterations 5\n",
      "Optimization terminated successfully.\n",
      "         Current function value: 0.581390\n",
      "         Iterations 5\n",
      "Optimization terminated successfully.\n",
      "         Current function value: 0.574531\n",
      "         Iterations 5\n",
      "Optimization terminated successfully.\n",
      "         Current function value: 0.579565\n",
      "         Iterations 5\n",
      "Optimization terminated successfully.\n",
      "         Current function value: 0.576286\n",
      "         Iterations 5\n",
      "Optimization terminated successfully.\n",
      "         Current function value: 0.579461\n",
      "         Iterations 5\n",
      "Optimization terminated successfully.\n",
      "         Current function value: 0.571453\n",
      "         Iterations 5\n",
      "Optimization terminated successfully.\n",
      "         Current function value: 0.576864\n",
      "         Iterations 5\n",
      "Optimization terminated successfully.\n",
      "         Current function value: 0.569182\n",
      "         Iterations 5\n",
      "Optimization terminated successfully.\n",
      "         Current function value: 0.574597\n",
      "         Iterations 5\n",
      "Optimization terminated successfully.\n",
      "         Current function value: 0.571460\n",
      "         Iterations 5\n",
      "Optimization terminated successfully.\n",
      "         Current function value: 0.575480\n",
      "         Iterations 5\n",
      "Optimization terminated successfully.\n",
      "         Current function value: 0.580298\n",
      "         Iterations 5\n",
      "Optimization terminated successfully.\n",
      "         Current function value: 0.577337\n",
      "         Iterations 5\n",
      "Optimization terminated successfully.\n",
      "         Current function value: 0.575464\n",
      "         Iterations 5\n",
      "Processed 56 models on 3 predictors in 0.2461848258972168 seconds.\n",
      "Optimization terminated successfully.\n",
      "         Current function value: 0.525810\n",
      "         Iterations 6\n",
      "Optimization terminated successfully.\n",
      "         Current function value: 0.527380\n",
      "         Iterations 6\n",
      "Optimization terminated successfully.\n",
      "         Current function value: 0.525318\n",
      "         Iterations 6\n",
      "Optimization terminated successfully.\n",
      "         Current function value: 0.516533\n",
      "         Iterations 6\n",
      "Optimization terminated successfully.\n",
      "         Current function value: 0.521949\n",
      "         Iterations 6\n"
     ]
    },
    {
     "name": "stdout",
     "output_type": "stream",
     "text": [
      "Optimization terminated successfully.\n",
      "         Current function value: 0.532756\n",
      "         Iterations 7\n",
      "Optimization terminated successfully.\n",
      "         Current function value: 0.530494\n",
      "         Iterations 6\n",
      "Optimization terminated successfully.\n",
      "         Current function value: 0.522499\n",
      "         Iterations 6\n",
      "Optimization terminated successfully.\n",
      "         Current function value: 0.527671\n",
      "         Iterations 6\n",
      "Optimization terminated successfully.\n",
      "         Current function value: 0.531335\n",
      "         Iterations 7\n",
      "Optimization terminated successfully.\n",
      "         Current function value: 0.523724\n",
      "         Iterations 7\n",
      "Optimization terminated successfully.\n",
      "         Current function value: 0.528584\n",
      "         Iterations 7\n",
      "Optimization terminated successfully.\n",
      "         Current function value: 0.522012\n",
      "         Iterations 6\n",
      "Optimization terminated successfully.\n",
      "         Current function value: 0.526845\n",
      "         Iterations 6\n",
      "Optimization terminated successfully.\n",
      "         Current function value: 0.524012\n",
      "         Iterations 6\n",
      "Optimization terminated successfully.\n",
      "         Current function value: 0.533520\n",
      "         Iterations 7\n",
      "Optimization terminated successfully.\n",
      "         Current function value: 0.530483\n",
      "         Iterations 6\n",
      "Optimization terminated successfully.\n",
      "         Current function value: 0.523291\n",
      "         Iterations 6\n",
      "Optimization terminated successfully.\n",
      "         Current function value: 0.528107\n",
      "         Iterations 6\n",
      "Optimization terminated successfully.\n",
      "         Current function value: 0.533151\n",
      "         Iterations 6\n",
      "Optimization terminated successfully.\n",
      "         Current function value: 0.526851\n",
      "         Iterations 6\n",
      "Optimization terminated successfully.\n",
      "         Current function value: 0.531157\n",
      "         Iterations 6\n",
      "Optimization terminated successfully.\n",
      "         Current function value: 0.524450\n",
      "         Iterations 6\n",
      "Optimization terminated successfully.\n",
      "         Current function value: 0.528725\n",
      "         Iterations 6\n",
      "Optimization terminated successfully.\n",
      "         Current function value: 0.527017\n",
      "         Iterations 6\n",
      "Optimization terminated successfully.\n",
      "         Current function value: 0.537097\n",
      "         Iterations 7\n",
      "Optimization terminated successfully.\n",
      "         Current function value: 0.531253\n",
      "         Iterations 7\n",
      "Optimization terminated successfully.\n",
      "         Current function value: 0.535480\n",
      "         Iterations 7\n",
      "Optimization terminated successfully.\n",
      "         Current function value: 0.528531\n",
      "         Iterations 6\n",
      "Optimization terminated successfully.\n",
      "         Current function value: 0.532815\n",
      "         Iterations 6\n",
      "Optimization terminated successfully.\n",
      "         Current function value: 0.531550\n",
      "         Iterations 6\n",
      "Optimization terminated successfully.\n",
      "         Current function value: 0.530879\n",
      "         Iterations 7\n",
      "Optimization terminated successfully.\n",
      "         Current function value: 0.534734\n",
      "         Iterations 7\n",
      "Optimization terminated successfully.\n",
      "         Current function value: 0.533682\n",
      "         Iterations 7\n",
      "Optimization terminated successfully.\n",
      "         Current function value: 0.531159\n",
      "         Iterations 6\n",
      "Optimization terminated successfully.\n",
      "         Current function value: 0.566115\n",
      "         Iterations 5\n",
      "Optimization terminated successfully.\n",
      "         Current function value: 0.564472\n",
      "         Iterations 5\n",
      "Optimization terminated successfully.\n",
      "         Current function value: 0.552713\n",
      "         Iterations 5\n",
      "Optimization terminated successfully.\n",
      "         Current function value: 0.559837\n",
      "         Iterations 5\n",
      "Optimization terminated successfully.\n",
      "         Current function value: 0.567987\n",
      "         Iterations 5\n",
      "Optimization terminated successfully.\n",
      "         Current function value: 0.557257\n",
      "         Iterations 5\n",
      "Optimization terminated successfully.\n",
      "         Current function value: 0.563808\n",
      "         Iterations 5\n",
      "Optimization terminated successfully.\n",
      "         Current function value: 0.556195\n",
      "         Iterations 5\n",
      "Optimization terminated successfully.\n",
      "         Current function value: 0.562674\n",
      "         Iterations 5\n",
      "Optimization terminated successfully.\n",
      "         Current function value: 0.557240\n",
      "         Iterations 5\n",
      "Optimization terminated successfully.\n",
      "         Current function value: 0.566255\n",
      "         Iterations 5\n",
      "Optimization terminated successfully.\n",
      "         Current function value: 0.555530\n",
      "         Iterations 5\n",
      "Optimization terminated successfully.\n",
      "         Current function value: 0.562103\n",
      "         Iterations 5\n",
      "Optimization terminated successfully.\n",
      "         Current function value: 0.554077\n",
      "         Iterations 5\n",
      "Optimization terminated successfully.\n",
      "         Current function value: 0.560624\n",
      "         Iterations 5\n",
      "Optimization terminated successfully.\n",
      "         Current function value: 0.555549\n",
      "         Iterations 5\n",
      "Optimization terminated successfully.\n",
      "         Current function value: 0.557893\n",
      "         Iterations 5\n",
      "Optimization terminated successfully.\n",
      "         Current function value: 0.564008\n",
      "         Iterations 5\n",
      "Optimization terminated successfully.\n",
      "         Current function value: 0.559065\n",
      "         Iterations 5\n",
      "Optimization terminated successfully.\n",
      "         Current function value: 0.557885\n",
      "         Iterations 5\n",
      "Optimization terminated successfully.\n",
      "         Current function value: 0.578133\n",
      "         Iterations 5\n",
      "Optimization terminated successfully.\n",
      "         Current function value: 0.569320\n",
      "         Iterations 5\n",
      "Optimization terminated successfully.\n",
      "         Current function value: 0.575131\n",
      "         Iterations 5\n",
      "Optimization terminated successfully.\n",
      "         Current function value: 0.567152\n",
      "         Iterations 5\n",
      "Optimization terminated successfully.\n",
      "         Current function value: 0.572949\n",
      "         Iterations 5\n",
      "Optimization terminated successfully.\n",
      "         Current function value: 0.569320\n",
      "         Iterations 5\n",
      "Optimization terminated successfully.\n",
      "         Current function value: 0.574527\n",
      "         Iterations 5\n",
      "Optimization terminated successfully.\n",
      "         Current function value: 0.579559\n",
      "         Iterations 5\n",
      "Optimization terminated successfully.\n",
      "         Current function value: 0.576285\n",
      "         Iterations 5\n",
      "Optimization terminated successfully.\n",
      "         Current function value: 0.574506\n",
      "         Iterations 5\n",
      "Optimization terminated successfully.\n",
      "         Current function value: 0.569161\n",
      "         Iterations 5\n",
      "Optimization terminated successfully.\n",
      "         Current function value: 0.574571\n",
      "         Iterations 5\n",
      "Optimization terminated successfully.\n",
      "         Current function value: 0.571448\n",
      "         Iterations 5\n",
      "Optimization terminated successfully.\n",
      "         Current function value: 0.569170\n",
      "         Iterations 5\n",
      "Optimization terminated successfully.\n",
      "         Current function value: 0.575459\n",
      "         Iterations 5\n",
      "Processed 70 models on 4 predictors in 0.315748929977417 seconds.\n",
      "Optimization terminated successfully.\n",
      "         Current function value: 0.525668\n",
      "         Iterations 7\n",
      "Optimization terminated successfully.\n",
      "         Current function value: 0.523423\n",
      "         Iterations 6\n",
      "Optimization terminated successfully.\n",
      "         Current function value: 0.513872\n",
      "         Iterations 6\n",
      "Optimization terminated successfully.\n",
      "         Current function value: 0.519674\n",
      "         Iterations 6\n",
      "Optimization terminated successfully.\n",
      "         Current function value: 0.525179\n",
      "         Iterations 6\n",
      "Optimization terminated successfully.\n",
      "         Current function value: 0.516332\n",
      "         Iterations 6\n",
      "Optimization terminated successfully.\n",
      "         Current function value: 0.521711\n",
      "         Iterations 6\n",
      "Optimization terminated successfully.\n",
      "         Current function value: 0.514744\n",
      "         Iterations 6\n",
      "Optimization terminated successfully.\n",
      "         Current function value: 0.520052\n",
      "         Iterations 6\n",
      "Optimization terminated successfully.\n",
      "         Current function value: 0.516532\n",
      "         Iterations 6\n",
      "Optimization terminated successfully.\n",
      "         Current function value: 0.530197\n",
      "         Iterations 7\n",
      "Optimization terminated successfully.\n",
      "         Current function value: 0.522149\n",
      "         Iterations 7\n",
      "Optimization terminated successfully.\n",
      "         Current function value: 0.527250\n",
      "         Iterations 7\n",
      "Optimization terminated successfully.\n",
      "         Current function value: 0.520291\n",
      "         Iterations 6\n",
      "Optimization terminated successfully.\n",
      "         Current function value: 0.525407\n",
      "         Iterations 6\n",
      "Optimization terminated successfully.\n",
      "         Current function value: 0.522497\n",
      "         Iterations 6\n",
      "Optimization terminated successfully.\n",
      "         Current function value: 0.521688\n",
      "         Iterations 7\n",
      "Optimization terminated successfully.\n",
      "         Current function value: 0.526461\n",
      "         Iterations 7\n",
      "Optimization terminated successfully.\n",
      "         Current function value: 0.523722\n",
      "         Iterations 7\n",
      "Optimization terminated successfully.\n",
      "         Current function value: 0.522011\n",
      "         Iterations 6\n",
      "Optimization terminated successfully.\n",
      "         Current function value: 0.530326\n",
      "         Iterations 7\n",
      "Optimization terminated successfully.\n",
      "         Current function value: 0.523082\n",
      "         Iterations 6\n"
     ]
    },
    {
     "name": "stdout",
     "output_type": "stream",
     "text": [
      "Optimization terminated successfully.\n",
      "         Current function value: 0.527853\n",
      "         Iterations 7\n",
      "Optimization terminated successfully.\n",
      "         Current function value: 0.520435\n",
      "         Iterations 6\n",
      "Optimization terminated successfully.\n",
      "         Current function value: 0.525223\n",
      "         Iterations 6\n",
      "Optimization terminated successfully.\n",
      "         Current function value: 0.523278\n",
      "         Iterations 6\n",
      "Optimization terminated successfully.\n",
      "         Current function value: 0.524246\n",
      "         Iterations 6\n",
      "Optimization terminated successfully.\n",
      "         Current function value: 0.528485\n",
      "         Iterations 6\n",
      "Optimization terminated successfully.\n",
      "         Current function value: 0.526842\n",
      "         Iterations 6\n",
      "Optimization terminated successfully.\n",
      "         Current function value: 0.524449\n",
      "         Iterations 6\n",
      "Optimization terminated successfully.\n",
      "         Current function value: 0.528172\n",
      "         Iterations 7\n",
      "Optimization terminated successfully.\n",
      "         Current function value: 0.532386\n",
      "         Iterations 7\n",
      "Optimization terminated successfully.\n",
      "         Current function value: 0.531238\n",
      "         Iterations 7\n",
      "Optimization terminated successfully.\n",
      "         Current function value: 0.528529\n",
      "         Iterations 6\n",
      "Optimization terminated successfully.\n",
      "         Current function value: 0.530876\n",
      "         Iterations 7\n",
      "Optimization terminated successfully.\n",
      "         Current function value: 0.564471\n",
      "         Iterations 5\n",
      "Optimization terminated successfully.\n",
      "         Current function value: 0.552690\n",
      "         Iterations 5\n",
      "Optimization terminated successfully.\n",
      "         Current function value: 0.559808\n",
      "         Iterations 5\n",
      "Optimization terminated successfully.\n",
      "         Current function value: 0.551345\n",
      "         Iterations 6\n",
      "Optimization terminated successfully.\n",
      "         Current function value: 0.558417\n",
      "         Iterations 5\n",
      "Optimization terminated successfully.\n",
      "         Current function value: 0.552695\n",
      "         Iterations 5\n",
      "Optimization terminated successfully.\n",
      "         Current function value: 0.556177\n",
      "         Iterations 5\n",
      "Optimization terminated successfully.\n",
      "         Current function value: 0.562652\n",
      "         Iterations 5\n",
      "Optimization terminated successfully.\n",
      "         Current function value: 0.557229\n",
      "         Iterations 5\n",
      "Optimization terminated successfully.\n",
      "         Current function value: 0.556156\n",
      "         Iterations 5\n",
      "Optimization terminated successfully.\n",
      "         Current function value: 0.554033\n",
      "         Iterations 5\n",
      "Optimization terminated successfully.\n",
      "         Current function value: 0.560574\n",
      "         Iterations 5\n",
      "Optimization terminated successfully.\n",
      "         Current function value: 0.555517\n",
      "         Iterations 5\n",
      "Optimization terminated successfully.\n",
      "         Current function value: 0.554054\n",
      "         Iterations 5\n",
      "Optimization terminated successfully.\n",
      "         Current function value: 0.557861\n",
      "         Iterations 5\n",
      "Optimization terminated successfully.\n",
      "         Current function value: 0.567140\n",
      "         Iterations 5\n",
      "Optimization terminated successfully.\n",
      "         Current function value: 0.572932\n",
      "         Iterations 5\n",
      "Optimization terminated successfully.\n",
      "         Current function value: 0.569315\n",
      "         Iterations 5\n",
      "Optimization terminated successfully.\n",
      "         Current function value: 0.567139\n",
      "         Iterations 5\n",
      "Optimization terminated successfully.\n",
      "         Current function value: 0.574503\n",
      "         Iterations 5\n",
      "Optimization terminated successfully.\n",
      "         Current function value: 0.569151\n",
      "         Iterations 5\n",
      "Processed 56 models on 5 predictors in 0.26036500930786133 seconds.\n",
      "Optimization terminated successfully.\n",
      "         Current function value: 0.523253\n",
      "         Iterations 7\n",
      "Optimization terminated successfully.\n",
      "         Current function value: 0.513634\n",
      "         Iterations 7\n",
      "Optimization terminated successfully.\n",
      "         Current function value: 0.519389\n",
      "         Iterations 7\n",
      "Optimization terminated successfully.\n",
      "         Current function value: 0.511845\n",
      "         Iterations 6\n",
      "Optimization terminated successfully.\n",
      "         Current function value: 0.517567\n",
      "         Iterations 6\n",
      "Optimization terminated successfully.\n",
      "         Current function value: 0.513868\n",
      "         Iterations 6\n",
      "Optimization terminated successfully.\n",
      "         Current function value: 0.514516\n",
      "         Iterations 6\n",
      "Optimization terminated successfully.\n",
      "         Current function value: 0.519784\n",
      "         Iterations 6\n",
      "Optimization terminated successfully.\n",
      "         Current function value: 0.516330\n",
      "         Iterations 6\n",
      "Optimization terminated successfully.\n",
      "         Current function value: 0.514744\n",
      "         Iterations 6\n",
      "Optimization terminated successfully.\n",
      "         Current function value: 0.519895\n",
      "         Iterations 7\n",
      "Optimization terminated successfully.\n",
      "         Current function value: 0.524936\n",
      "         Iterations 7\n",
      "Optimization terminated successfully.\n",
      "         Current function value: 0.522144\n",
      "         Iterations 7\n",
      "Optimization terminated successfully.\n",
      "         Current function value: 0.520291\n",
      "         Iterations 6\n",
      "Optimization terminated successfully.\n",
      "         Current function value: 0.521687\n",
      "         Iterations 7\n",
      "Optimization terminated successfully.\n",
      "         Current function value: 0.520186\n",
      "         Iterations 6\n",
      "Optimization terminated successfully.\n",
      "         Current function value: 0.524927\n",
      "         Iterations 7\n",
      "Optimization terminated successfully.\n",
      "         Current function value: 0.523062\n",
      "         Iterations 6\n",
      "Optimization terminated successfully.\n",
      "         Current function value: 0.520430\n",
      "         Iterations 6\n",
      "Optimization terminated successfully.\n",
      "         Current function value: 0.524242\n",
      "         Iterations 6\n",
      "Optimization terminated successfully.\n",
      "         Current function value: 0.528165\n",
      "         Iterations 7\n",
      "Optimization terminated successfully.\n",
      "         Current function value: 0.551314\n",
      "         Iterations 6\n",
      "Optimization terminated successfully.\n",
      "         Current function value: 0.558380\n",
      "         Iterations 5\n",
      "Optimization terminated successfully.\n",
      "         Current function value: 0.552675\n",
      "         Iterations 5\n",
      "Optimization terminated successfully.\n",
      "         Current function value: 0.551320\n",
      "         Iterations 6\n",
      "Optimization terminated successfully.\n",
      "         Current function value: 0.556141\n",
      "         Iterations 5\n",
      "Optimization terminated successfully.\n",
      "         Current function value: 0.554013\n",
      "         Iterations 5\n",
      "Optimization terminated successfully.\n",
      "         Current function value: 0.567128\n",
      "         Iterations 5\n",
      "Processed 28 models on 6 predictors in 0.14487409591674805 seconds.\n",
      "Optimization terminated successfully.\n",
      "         Current function value: 0.511574\n",
      "         Iterations 7\n",
      "Optimization terminated successfully.\n",
      "         Current function value: 0.517245\n",
      "         Iterations 7\n",
      "Optimization terminated successfully.\n",
      "         Current function value: 0.513627\n",
      "         Iterations 7\n",
      "Optimization terminated successfully.\n",
      "         Current function value: 0.511844\n",
      "         Iterations 6\n",
      "Optimization terminated successfully.\n",
      "         Current function value: 0.514515\n",
      "         Iterations 6\n",
      "Optimization terminated successfully.\n",
      "         Current function value: 0.519893\n",
      "         Iterations 7\n",
      "Optimization terminated successfully.\n",
      "         Current function value: 0.520175\n",
      "         Iterations 7\n",
      "Optimization terminated successfully.\n",
      "         Current function value: 0.551292\n",
      "         Iterations 6\n",
      "Processed 8 models on 7 predictors in 0.04745912551879883 seconds.\n",
      "Optimization terminated successfully.\n",
      "         Current function value: 0.511571\n",
      "         Iterations 7\n",
      "Processed 1 models on 8 predictors in 0.007266998291015625 seconds.\n",
      "Total elapsed time: 1.1658260822296143 seconds.\n"
     ]
    },
    {
     "data": {
      "image/png": "[encoded data removed]",
      "text/plain": [
       "<Figure size 1440x720 with 4 Axes>"
      ]
     },
     "metadata": {
      "needs_background": "light"
     },
     "output_type": "display_data"
    }
   ],
   "source": [
    "import pandas as pd\n",
    "import numpy as np\n",
    "import statsmodels.api as sm\n",
    "import seaborn as sns\n",
    "import matplotlib.pyplot as plt\n",
    "import itertools\n",
    "import time\n",
    "\n",
    "#Creating a set of predictors from which we need to find the best subset of predictors\n",
    "X = train[['duration', 'director_facebook_likes', 'aspect_ratio', 'actors_facebook_likes', 'budget', 'facenumber_in_poster', 'country_USA', 'country_Others']]\n",
    "y = train['good_movie']\n",
    "\n",
    "#Function to develop a model based on all predictors in predictor_subset\n",
    "def processSubset(predictor_subset):\n",
    "    # Fit model on feature_set and calculate log-likelihood\n",
    "    model = sm.Logit(y, sm.add_constant(train[predictor_subset])).fit()\n",
    "    log_likelihood = model.llf\n",
    "    return {\"model\":model, \"log_likelihood\":log_likelihood}\n",
    "\n",
    "#Function to select the best model amongst all models with 'k' predictors\n",
    "def getBest_model(k):\n",
    "    tic = time.time()\n",
    "    results = []\n",
    "    for combo in itertools.combinations(X.columns, k):\n",
    "        results.append(processSubset((list(combo))))\n",
    "\n",
    "    # Wrap everything up in a dataframe\n",
    "    models = pd.DataFrame(results)\n",
    "\n",
    "    # Choose the model with the highest log-likelihood\n",
    "    best_model = models.loc[models['log_likelihood'].argmax()]\n",
    "\n",
    "    toc = time.time()\n",
    "    print(\"Processed\", models.shape[0], \"models on\", k, \"predictors in\", (toc-tic), \"seconds.\")\n",
    "    return best_model\n",
    "\n",
    "#Function to select the best model amongst the best models for 'k' predictors, where k = 1,2,3,..\n",
    "models_best = pd.DataFrame(columns=[\"log_likelihood\", \"model\"])\n",
    "\n",
    "tic = time.time()\n",
    "for i in range(1,1+X.shape[1]):\n",
    "    models_best.loc[i] = getBest_model(i)\n",
    "\n",
    "toc = time.time()\n",
    "print(\"Total elapsed time:\", (toc-tic), \"seconds.\")\n",
    "\n",
    "def best_sub_plots():\n",
    "    plt.figure(figsize=(20,10))\n",
    "    plt.rcParams.update({'font.size': 18, 'lines.markersize': 10})\n",
    "\n",
    "    # Set up a 2x2 grid so we can look at 4 plots at once\n",
    "    plt.subplot(2, 2, 1)\n",
    "\n",
    "    # We will now plot a red dot to indicate the model with the largest adjusted R^2 statistic.\n",
    "    # The argmax() function can be used to identify the location of the maximum point of a vector\n",
    "    plt.plot(models_best[\"log_likelihood\"])\n",
    "    plt.xlabel('# Predictors')\n",
    "    plt.ylabel('Log-Likelihood')\n",
    "\n",
    "    # We will now plot a red dot to indicate the model with the largest adjusted R^2 statistic.\n",
    "    # The argmax() function can be used to identify the location of the maximum point of a vector\n",
    "\n",
    "    aic = models_best.apply(lambda row: row[1].aic, axis=1)\n",
    "\n",
    "    plt.subplot(2, 2, 2)\n",
    "    plt.plot(aic)\n",
    "    plt.plot(1+aic.argmin(), aic.min(), \"or\")\n",
    "    plt.xlabel('# Predictors')\n",
    "    plt.ylabel('AIC')\n",
    "\n",
    "    bic = models_best.apply(lambda row: row[1].bic, axis=1)\n",
    "\n",
    "    plt.subplot(2, 2, 3)\n",
    "    plt.plot(bic)\n",
    "    plt.plot(1+bic.argmin(), bic.min(), \"or\")\n",
    "    plt.xlabel('# Predictors')\n",
    "    plt.ylabel('BIC')\n",
    "\n",
    "    llf = models_best.apply(lambda row: row[1].llf, axis=1)\n",
    "\n",
    "    plt.subplot(2, 2, 4)\n",
    "    plt.plot(llf)\n",
    "    plt.plot(1+llf.argmax(), llf.max(), \"or\")\n",
    "    plt.xlabel('# Predictors')\n",
    "    plt.ylabel('Log-Likelihood')\n",
    "\n",
    "    plt.show()\n",
    "    \n",
    "best_sub_plots()"
   ]
  },
  {
   "cell_type": "markdown",
   "id": "fec1cae3",
   "metadata": {},
   "source": [
    "#### Forward stepwise selection"
   ]
  },
  {
   "cell_type": "code",
   "execution_count": 27,
   "id": "de22d741",
   "metadata": {},
   "outputs": [
    {
     "name": "stdout",
     "output_type": "stream",
     "text": [
      "Optimization terminated successfully.\n",
      "         Current function value: 0.542218\n",
      "         Iterations 6\n",
      "Optimization terminated successfully.\n",
      "         Current function value: 0.570571\n",
      "         Iterations 5\n",
      "Optimization terminated successfully.\n",
      "         Current function value: 0.585886\n",
      "         Iterations 5\n",
      "Optimization terminated successfully.\n",
      "         Current function value: 0.581955\n",
      "         Iterations 5\n",
      "Optimization terminated successfully.\n",
      "         Current function value: 0.586548\n",
      "         Iterations 5\n",
      "Optimization terminated successfully.\n",
      "         Current function value: 0.584432\n",
      "         Iterations 5\n",
      "Optimization terminated successfully.\n",
      "         Current function value: 0.577354\n",
      "         Iterations 5\n",
      "Optimization terminated successfully.\n",
      "         Current function value: 0.582216\n",
      "         Iterations 5\n",
      "Processed  8 models on 1 predictors in 0.03167319297790527 seconds.\n",
      "Optimization terminated successfully.\n",
      "         Current function value: 0.533914\n",
      "         Iterations 6\n",
      "Optimization terminated successfully.\n",
      "         Current function value: 0.536185\n",
      "         Iterations 6\n",
      "Optimization terminated successfully.\n",
      "         Current function value: 0.540652\n",
      "         Iterations 6\n",
      "Optimization terminated successfully.\n",
      "         Current function value: 0.542052\n",
      "         Iterations 7\n",
      "Optimization terminated successfully.\n",
      "         Current function value: 0.539152\n",
      "         Iterations 6\n",
      "Optimization terminated successfully.\n",
      "         Current function value: 0.533930\n",
      "         Iterations 6\n",
      "Optimization terminated successfully.\n",
      "         Current function value: 0.537882\n",
      "         Iterations 6\n",
      "Processed  7 models on 2 predictors in 0.02713298797607422 seconds.\n",
      "Optimization terminated successfully.\n",
      "         Current function value: 0.527495\n",
      "         Iterations 6\n",
      "Optimization terminated successfully.\n",
      "         Current function value: 0.533011\n",
      "         Iterations 6\n",
      "Optimization terminated successfully.\n",
      "         Current function value: 0.533712\n",
      "         Iterations 7\n",
      "Optimization terminated successfully.\n",
      "         Current function value: 0.531570\n",
      "         Iterations 6\n",
      "Optimization terminated successfully.\n",
      "         Current function value: 0.524012\n",
      "         Iterations 6\n",
      "Optimization terminated successfully.\n",
      "         Current function value: 0.528930\n",
      "         Iterations 6\n",
      "Processed  6 models on 3 predictors in 0.025763988494873047 seconds.\n",
      "Optimization terminated successfully.\n",
      "         Current function value: 0.516533\n",
      "         Iterations 6\n",
      "Optimization terminated successfully.\n",
      "         Current function value: 0.522499\n",
      "         Iterations 6\n",
      "Optimization terminated successfully.\n",
      "         Current function value: 0.523724\n",
      "         Iterations 7\n",
      "Optimization terminated successfully.\n",
      "         Current function value: 0.522012\n",
      "         Iterations 6\n",
      "Optimization terminated successfully.\n",
      "         Current function value: 0.524012\n",
      "         Iterations 6\n",
      "Processed  5 models on 4 predictors in 0.022411823272705078 seconds.\n",
      "Optimization terminated successfully.\n",
      "         Current function value: 0.513872\n",
      "         Iterations 6\n",
      "Optimization terminated successfully.\n",
      "         Current function value: 0.516332\n",
      "         Iterations 6\n",
      "Optimization terminated successfully.\n",
      "         Current function value: 0.514744\n",
      "         Iterations 6\n",
      "Optimization terminated successfully.\n",
      "         Current function value: 0.516532\n",
      "         Iterations 6\n",
      "Processed  4 models on 5 predictors in 0.020208120346069336 seconds.\n",
      "Optimization terminated successfully.\n",
      "         Current function value: 0.513634\n",
      "         Iterations 7\n",
      "Optimization terminated successfully.\n",
      "         Current function value: 0.511845\n",
      "         Iterations 6\n",
      "Optimization terminated successfully.\n",
      "         Current function value: 0.513868\n",
      "         Iterations 6\n",
      "Processed  3 models on 6 predictors in 0.014460086822509766 seconds.\n",
      "Optimization terminated successfully.\n",
      "         Current function value: 0.511574\n",
      "         Iterations 7\n",
      "Optimization terminated successfully.\n",
      "         Current function value: 0.511844\n",
      "         Iterations 6\n",
      "Processed  2 models on 7 predictors in 0.012954235076904297 seconds.\n",
      "Optimization terminated successfully.\n",
      "         Current function value: 0.511571\n",
      "         Iterations 7\n",
      "Processed  1 models on 8 predictors in 0.00928807258605957 seconds.\n",
      "Total elapsed time: 0.1727612018585205 seconds.\n"
     ]
    },
    {
     "data": {
      "image/png": "[encoded data removed]",
      "text/plain": [
       "<Figure size 1440x720 with 4 Axes>"
      ]
     },
     "metadata": {
      "needs_background": "light"
     },
     "output_type": "display_data"
    }
   ],
   "source": [
    "X = train[['duration', 'director_facebook_likes', 'aspect_ratio', 'actors_facebook_likes', 'budget', 'facenumber_in_poster', 'country_USA', 'country_Others']]\n",
    "\n",
    "#Function to find the best predictor out of p-k predictors and add it to the model containing the k predictors\n",
    "def forward(predictors):\n",
    "\n",
    "    # Pull out predictors we still need to process\n",
    "    remaining_predictors = [p for p in X.columns if p not in predictors]\n",
    "\n",
    "    tic = time.time()\n",
    "    \n",
    "    results = []\n",
    "    \n",
    "    for p in remaining_predictors:\n",
    "        results.append(processSubset(predictors+[p]))\n",
    "    \n",
    "    # Wrap everything up in a nice dataframe\n",
    "    models = pd.DataFrame(results)\n",
    "    \n",
    "    # Choose the model with the highest RSS\n",
    "    best_model = models.loc[models['log_likelihood'].argmax()]\n",
    "    \n",
    "    toc = time.time()\n",
    "    print(\"Processed \", models.shape[0], \"models on\", len(predictors)+1, \"predictors in\", (toc-tic), \"seconds.\")\n",
    "    \n",
    "    # Return the best model, along with some other useful information about the model\n",
    "    return best_model\n",
    "\n",
    "\n",
    "def forward_selection():\n",
    "    models_best = pd.DataFrame(columns=[\"log_likelihood\", \"model\"])\n",
    "\n",
    "    tic = time.time()\n",
    "    predictors = []\n",
    "\n",
    "    for i in range(1,len(X.columns)+1):    \n",
    "        models_best.loc[i] = forward(predictors)\n",
    "        predictors = list(models_best.loc[i][\"model\"].params.index[1:])\n",
    "\n",
    "    toc = time.time()\n",
    "    print(\"Total elapsed time:\", (toc-tic), \"seconds.\")\n",
    "    return models_best\n",
    "\n",
    "models_best = forward_selection()\n",
    "\n",
    "best_sub_plots()"
   ]
  },
  {
   "cell_type": "code",
   "execution_count": 28,
   "id": "ed1cfcc5",
   "metadata": {},
   "outputs": [
    {
     "data": {
      "text/html": [
       "<table class=\"simpletable\">\n",
       "<caption>Logit Regression Results</caption>\n",
       "<tr>\n",
       "  <th>Dep. Variable:</th>      <td>good_movie</td>    <th>  No. Observations:  </th>  <td>  2817</td>  \n",
       "</tr>\n",
       "<tr>\n",
       "  <th>Model:</th>                 <td>Logit</td>      <th>  Df Residuals:      </th>  <td>  2810</td>  \n",
       "</tr>\n",
       "<tr>\n",
       "  <th>Method:</th>                 <td>MLE</td>       <th>  Df Model:          </th>  <td>     6</td>  \n",
       "</tr>\n",
       "<tr>\n",
       "  <th>Date:</th>            <td>Tue, 14 Mar 2023</td> <th>  Pseudo R-squ.:     </th>  <td>0.1274</td>  \n",
       "</tr>\n",
       "<tr>\n",
       "  <th>Time:</th>                <td>19:25:50</td>     <th>  Log-Likelihood:    </th> <td> -1441.9</td> \n",
       "</tr>\n",
       "<tr>\n",
       "  <th>converged:</th>             <td>True</td>       <th>  LL-Null:           </th> <td> -1652.3</td> \n",
       "</tr>\n",
       "<tr>\n",
       "  <th>Covariance Type:</th>     <td>nonrobust</td>    <th>  LLR p-value:       </th> <td>8.937e-88</td>\n",
       "</tr>\n",
       "</table>\n",
       "<table class=\"simpletable\">\n",
       "<tr>\n",
       "             <td></td>                <th>coef</th>     <th>std err</th>      <th>z</th>      <th>P>|z|</th>  <th>[0.025</th>    <th>0.975]</th>  \n",
       "</tr>\n",
       "<tr>\n",
       "  <th>const</th>                   <td>   -1.4580</td> <td>    0.409</td> <td>   -3.566</td> <td> 0.000</td> <td>   -2.259</td> <td>   -0.657</td>\n",
       "</tr>\n",
       "<tr>\n",
       "  <th>duration</th>                <td>    0.0322</td> <td>    0.002</td> <td>   13.445</td> <td> 0.000</td> <td>    0.028</td> <td>    0.037</td>\n",
       "</tr>\n",
       "<tr>\n",
       "  <th>director_facebook_likes</th> <td>    0.0001</td> <td> 1.54e-05</td> <td>    6.626</td> <td> 0.000</td> <td> 7.19e-05</td> <td>    0.000</td>\n",
       "</tr>\n",
       "<tr>\n",
       "  <th>country_USA</th>             <td>   -0.8739</td> <td>    0.107</td> <td>   -8.172</td> <td> 0.000</td> <td>   -1.084</td> <td>   -0.664</td>\n",
       "</tr>\n",
       "<tr>\n",
       "  <th>aspect_ratio</th>            <td>   -1.2270</td> <td>    0.180</td> <td>   -6.831</td> <td> 0.000</td> <td>   -1.579</td> <td>   -0.875</td>\n",
       "</tr>\n",
       "<tr>\n",
       "  <th>actors_facebook_likes</th>   <td>    0.4070</td> <td>    0.100</td> <td>    4.065</td> <td> 0.000</td> <td>    0.211</td> <td>    0.603</td>\n",
       "</tr>\n",
       "<tr>\n",
       "  <th>facenumber_in_poster</th>    <td>   -0.0833</td> <td>    0.026</td> <td>   -3.172</td> <td> 0.002</td> <td>   -0.135</td> <td>   -0.032</td>\n",
       "</tr>\n",
       "</table>"
      ],
      "text/plain": [
       "<class 'statsmodels.iolib.summary.Summary'>\n",
       "\"\"\"\n",
       "                           Logit Regression Results                           \n",
       "==============================================================================\n",
       "Dep. Variable:             good_movie   No. Observations:                 2817\n",
       "Model:                          Logit   Df Residuals:                     2810\n",
       "Method:                           MLE   Df Model:                            6\n",
       "Date:                Tue, 14 Mar 2023   Pseudo R-squ.:                  0.1274\n",
       "Time:                        19:25:50   Log-Likelihood:                -1441.9\n",
       "converged:                       True   LL-Null:                       -1652.3\n",
       "Covariance Type:            nonrobust   LLR p-value:                 8.937e-88\n",
       "===========================================================================================\n",
       "                              coef    std err          z      P>|z|      [0.025      0.975]\n",
       "-------------------------------------------------------------------------------------------\n",
       "const                      -1.4580      0.409     -3.566      0.000      -2.259      -0.657\n",
       "duration                    0.0322      0.002     13.445      0.000       0.028       0.037\n",
       "director_facebook_likes     0.0001   1.54e-05      6.626      0.000    7.19e-05       0.000\n",
       "country_USA                -0.8739      0.107     -8.172      0.000      -1.084      -0.664\n",
       "aspect_ratio               -1.2270      0.180     -6.831      0.000      -1.579      -0.875\n",
       "actors_facebook_likes       0.4070      0.100      4.065      0.000       0.211       0.603\n",
       "facenumber_in_poster       -0.0833      0.026     -3.172      0.002      -0.135      -0.032\n",
       "===========================================================================================\n",
       "\"\"\""
      ]
     },
     "execution_count": 28,
     "metadata": {},
     "output_type": "execute_result"
    }
   ],
   "source": [
    "best_fwd_reg_model = models_best['model'][6]\n",
    "best_fwd_reg_model.summary()"
   ]
  },
  {
   "cell_type": "code",
   "execution_count": 29,
   "id": "68965fad",
   "metadata": {},
   "outputs": [
    {
     "name": "stdout",
     "output_type": "stream",
     "text": [
      "Optimization terminated successfully.\n",
      "         Current function value: 0.511845\n",
      "         Iterations 6\n",
      "                           Logit Regression Results                           \n",
      "==============================================================================\n",
      "Dep. Variable:             good_movie   No. Observations:                 2817\n",
      "Model:                          Logit   Df Residuals:                     2810\n",
      "Method:                           MLE   Df Model:                            6\n",
      "Date:                Tue, 14 Mar 2023   Pseudo R-squ.:                  0.1274\n",
      "Time:                        19:25:50   Log-Likelihood:                -1441.9\n",
      "converged:                       True   LL-Null:                       -1652.3\n",
      "Covariance Type:            nonrobust   LLR p-value:                 8.937e-88\n",
      "===========================================================================================\n",
      "                              coef    std err          z      P>|z|      [0.025      0.975]\n",
      "-------------------------------------------------------------------------------------------\n",
      "Intercept                  -1.4580      0.409     -3.566      0.000      -2.259      -0.657\n",
      "director_facebook_likes     0.0001   1.54e-05      6.626      0.000    7.19e-05       0.000\n",
      "country_USA                -0.8739      0.107     -8.172      0.000      -1.084      -0.664\n",
      "duration                    0.0322      0.002     13.445      0.000       0.028       0.037\n",
      "aspect_ratio               -1.2270      0.180     -6.831      0.000      -1.579      -0.875\n",
      "facenumber_in_poster       -0.0833      0.026     -3.172      0.002      -0.135      -0.032\n",
      "actors_facebook_likes       0.4070      0.100      4.065      0.000       0.211       0.603\n",
      "===========================================================================================\n"
     ]
    }
   ],
   "source": [
    "logit_model4 = smf.logit(formula= 'good_movie ~ director_facebook_likes + country_USA + duration + aspect_ratio + facenumber_in_poster + actors_facebook_likes', data = train).fit()\n",
    "print(logit_model4.summary())"
   ]
  },
  {
   "cell_type": "code",
   "execution_count": 30,
   "id": "7bf31574",
   "metadata": {},
   "outputs": [
    {
     "name": "stdout",
     "output_type": "stream",
     "text": [
      "Classification accuracy = 74.4%\n",
      "Precision = 83.6%\n",
      "TPR or Recall = 7.9%\n",
      "FNR = 92.1%\n",
      "FPR = 0.6%\n",
      "ROC-AUC = 74.1%\n"
     ]
    },
    {
     "data": {
      "image/png": "[encoded data removed]",
      "text/plain": [
       "<Figure size 432x288 with 2 Axes>"
      ]
     },
     "metadata": {
      "needs_background": "light"
     },
     "output_type": "display_data"
    }
   ],
   "source": [
    "confusion_matrix_data(train, train.good_movie, logit_model4, cutoff = decision_threshold)"
   ]
  },
  {
   "cell_type": "code",
   "execution_count": 31,
   "id": "1b517bdd",
   "metadata": {},
   "outputs": [
    {
     "data": {
      "text/plain": [
       "1.5023363695388048"
      ]
     },
     "execution_count": 31,
     "metadata": {},
     "output_type": "execute_result"
    }
   ],
   "source": [
    "math.exp(logit_model4.params['actors_facebook_likes'])"
   ]
  },
  {
   "cell_type": "markdown",
   "id": "72ffaadf",
   "metadata": {},
   "source": [
    "# Training on Oversampled Data"
   ]
  },
  {
   "cell_type": "code",
   "execution_count": 32,
   "id": "86927024",
   "metadata": {},
   "outputs": [],
   "source": [
    "import pandas as pd\n",
    "from sklearn.model_selection import train_test_split\n",
    "from imblearn.over_sampling import SMOTE\n",
    "from sklearn.linear_model import LogisticRegression\n",
    "from sklearn.metrics import accuracy_score\n",
    "\n",
    "# Define the target variable and the features\n",
    "target = 'good_movie'\n",
    "features = ['duration', 'director_facebook_likes', 'aspect_ratio', 'actors_facebook_likes', 'budget', 'facenumber_in_poster', 'country_USA', 'country_Others']\n",
    "\n",
    "# Split the dataset into training and testing sets\n",
    "X_train, X_test, y_train, y_test = train_test_split(movies[features], movies[target], test_size=0.3, random_state=42)\n",
    "\n",
    "# Apply SMOTE to the training set to oversample the minority class\n",
    "smote = SMOTE(random_state=42)\n",
    "X_train_resampled, y_train_resampled = smote.fit_resample(X_train, y_train)\n",
    "\n",
    "X_test_resampled, y_test_resampled = smote.fit_resample(X_test, y_test)\n",
    "\n",
    "train_resampled = pd.concat([X_train_resampled, y_train_resampled.rename('good_movie')], axis=1)\n",
    "\n",
    "test_resampled = pd.concat([X_test_resampled, y_test_resampled.rename('good_movie')], axis=1)\n"
   ]
  },
  {
   "cell_type": "code",
   "execution_count": 33,
   "id": "ebe319c6",
   "metadata": {},
   "outputs": [
    {
     "name": "stdout",
     "output_type": "stream",
     "text": [
      "Optimization terminated successfully.\n",
      "         Current function value: 0.568162\n",
      "         Iterations 6\n",
      "                           Logit Regression Results                           \n",
      "==============================================================================\n",
      "Dep. Variable:             good_movie   No. Observations:                 3868\n",
      "Model:                          Logit   Df Residuals:                     3861\n",
      "Method:                           MLE   Df Model:                            6\n",
      "Date:                Tue, 14 Mar 2023   Pseudo R-squ.:                  0.1803\n",
      "Time:                        19:25:50   Log-Likelihood:                -2197.7\n",
      "converged:                       True   LL-Null:                       -2681.1\n",
      "Covariance Type:            nonrobust   LLR p-value:                1.299e-205\n",
      "===========================================================================================\n",
      "                              coef    std err          z      P>|z|      [0.025      0.975]\n",
      "-------------------------------------------------------------------------------------------\n",
      "Intercept                  -0.3668      0.339     -1.082      0.279      -1.031       0.298\n",
      "director_facebook_likes     0.0001   1.49e-05      7.393      0.000    8.07e-05       0.000\n",
      "country_USA                -1.4244      0.083    -17.109      0.000      -1.588      -1.261\n",
      "duration                    0.0402      0.002     17.978      0.000       0.036       0.045\n",
      "aspect_ratio               -1.4414      0.150     -9.634      0.000      -1.735      -1.148\n",
      "facenumber_in_poster       -0.1091      0.022     -4.966      0.000      -0.152      -0.066\n",
      "actors_facebook_likes      -0.2640      0.088     -2.997      0.003      -0.437      -0.091\n",
      "===========================================================================================\n"
     ]
    }
   ],
   "source": [
    "logit_model4 = smf.logit(formula= 'good_movie ~ director_facebook_likes + country_USA + duration + aspect_ratio + facenumber_in_poster + actors_facebook_likes', data = train_resampled).fit()\n",
    "print(logit_model4.summary())"
   ]
  },
  {
   "cell_type": "code",
   "execution_count": 34,
   "id": "f8162736",
   "metadata": {},
   "outputs": [
    {
     "name": "stdout",
     "output_type": "stream",
     "text": [
      "Classification accuracy = 65.0%\n",
      "Precision = 86.7%\n",
      "TPR or Recall = 35.3%\n",
      "FNR = 64.7%\n",
      "FPR = 5.4%\n",
      "ROC-AUC = 78.9%\n"
     ]
    },
    {
     "data": {
      "image/png": "[encoded data removed]",
      "text/plain": [
       "<Figure size 432x288 with 2 Axes>"
      ]
     },
     "metadata": {
      "needs_background": "light"
     },
     "output_type": "display_data"
    }
   ],
   "source": [
    "confusion_matrix_data(test_resampled, test_resampled.good_movie, logit_model4, cutoff = decision_threshold)"
   ]
  },
  {
   "cell_type": "code",
   "execution_count": 35,
   "id": "91a1f528",
   "metadata": {},
   "outputs": [
    {
     "name": "stdout",
     "output_type": "stream",
     "text": [
      "Classification accuracy = 63.1%\n",
      "Precision = 85.3%\n",
      "TPR or Recall = 31.5%\n",
      "FNR = 68.5%\n",
      "FPR = 5.4%\n",
      "ROC-AUC = 78.0%\n"
     ]
    },
    {
     "data": {
      "image/png": "[encoded data removed]",
      "text/plain": [
       "<Figure size 432x288 with 2 Axes>"
      ]
     },
     "metadata": {
      "needs_background": "light"
     },
     "output_type": "display_data"
    }
   ],
   "source": [
    "confusion_matrix_data(train_resampled, train_resampled.good_movie, logit_model4, cutoff = decision_threshold)"
   ]
  }
 ],
 "metadata": {
  "kernelspec": {
   "display_name": "Python 3 (ipykernel)",
   "language": "python",
   "name": "python3"
  },
  "language_info": {
   "codemirror_mode": {
    "name": "ipython",
    "version": 3
   },
   "file_extension": ".py",
   "mimetype": "text/x-python",
   "name": "python",
   "nbconvert_exporter": "python",
   "pygments_lexer": "ipython3",
   "version": "3.9.12"
  }
 },
 "nbformat": 4,
 "nbformat_minor": 5
}
