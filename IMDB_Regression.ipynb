{
 "cells": [
  {
   "cell_type": "markdown",
   "id": "9d4560ca",
   "metadata": {},
   "source": [
    "## Lila and Gabby: Regression {-}\n"
   ]
  },
  {
   "cell_type": "code",
   "execution_count": 3,
   "id": "b1ad9f72",
   "metadata": {},
   "outputs": [],
   "source": [
    "import pandas as pd\n",
    "import numpy as np\n",
    "import seaborn as sns\n",
    "import matplotlib.pyplot as plt\n",
    "import statsmodels.formula.api as smf"
   ]
  },
  {
   "cell_type": "code",
   "execution_count": 4,
   "id": "3ea076f1",
   "metadata": {},
   "outputs": [],
   "source": [
    "#Lila's filepath for the movie dataset\n",
    "movies = pd.read_csv('Desktop/STAT3032/movie_metadata.csv')\n",
    "\n",
    "#Gabby's filepath for the movie dataset:"
   ]
  },
  {
   "cell_type": "code",
   "execution_count": 5,
   "id": "09e4da98",
   "metadata": {},
   "outputs": [
    {
     "data": {
      "text/plain": [
       "Index(['color', 'director_name', 'num_critic_for_reviews', 'duration',\n",
       "       'director_facebook_likes', 'actor_3_facebook_likes', 'actor_2_name',\n",
       "       'actor_1_facebook_likes', 'gross', 'genres', 'actor_1_name',\n",
       "       'movie_title', 'num_voted_users', 'cast_total_facebook_likes',\n",
       "       'actor_3_name', 'facenumber_in_poster', 'plot_keywords',\n",
       "       'movie_imdb_link', 'num_user_for_reviews', 'language', 'country',\n",
       "       'content_rating', 'budget', 'title_year', 'actor_2_facebook_likes',\n",
       "       'imdb_score', 'aspect_ratio', 'movie_facebook_likes'],\n",
       "      dtype='object')"
      ]
     },
     "execution_count": 5,
     "metadata": {},
     "output_type": "execute_result"
    }
   ],
   "source": [
    "movies.columns"
   ]
  },
  {
   "cell_type": "code",
   "execution_count": 13,
   "id": "b3041971",
   "metadata": {},
   "outputs": [
    {
     "data": {
      "text/plain": [
       "English       4704\n",
       "French          73\n",
       "Spanish         40\n",
       "Hindi           28\n",
       "Mandarin        26\n",
       "German          19\n",
       "Japanese        18\n",
       "Cantonese       11\n",
       "Russian         11\n",
       "Italian         11\n",
       "Portuguese       8\n",
       "Korean           8\n",
       "Arabic           5\n",
       "Danish           5\n",
       "Hebrew           5\n",
       "Swedish          5\n",
       "Polish           4\n",
       "Norwegian        4\n",
       "Persian          4\n",
       "Dutch            4\n",
       "Thai             3\n",
       "Chinese          3\n",
       "Icelandic        2\n",
       "None             2\n",
       "Indonesian       2\n",
       "Aboriginal       2\n",
       "Romanian         2\n",
       "Dari             2\n",
       "Zulu             2\n",
       "Panjabi          1\n",
       "Urdu             1\n",
       "Vietnamese       1\n",
       "Slovenian        1\n",
       "Greek            1\n",
       "Dzongkha         1\n",
       "Tamil            1\n",
       "Telugu           1\n",
       "Kannada          1\n",
       "Czech            1\n",
       "Hungarian        1\n",
       "Bosnian          1\n",
       "Filipino         1\n",
       "Mongolian        1\n",
       "Maya             1\n",
       "Aramaic          1\n",
       "Kazakh           1\n",
       "Swahili          1\n",
       "Name: language, dtype: int64"
      ]
     },
     "execution_count": 13,
     "metadata": {},
     "output_type": "execute_result"
    }
   ],
   "source": [
    "movies['language'].value_counts()\n",
    "#The majority of the movies are in English...but we could do a comparison of success based on english vs not english."
   ]
  },
  {
   "cell_type": "code",
   "execution_count": 26,
   "id": "e3d9b160",
   "metadata": {},
   "outputs": [
    {
     "data": {
      "text/plain": [
       "['one', 'two', 'three']"
      ]
     },
     "execution_count": 26,
     "metadata": {},
     "output_type": "execute_result"
    }
   ],
   "source": [
    "movies['plot_keywords'].value_counts()\n",
    "#pick certain words that come up often... 'love', 'illegal','money', 'superhero'\n",
    "#can we isolate each word, and then find the value counts from there?\n",
    "\n",
    "string = \"one,two,three\"\n",
    "words = string.split(',')\n",
    "words"
   ]
  },
  {
   "cell_type": "code",
   "execution_count": 100,
   "id": "af231177",
   "metadata": {},
   "outputs": [
    {
     "data": {
      "text/plain": [
       "love                       198\n",
       "friend                     166\n",
       "murder                     161\n",
       "death                      132\n",
       "police                     126\n",
       "                          ... \n",
       "high society                 1\n",
       "high school sweethearts      1\n",
       "high school romance          1\n",
       "high school prom             1\n",
       "lightning bolt               1\n",
       "Length: 8086, dtype: int64"
      ]
     },
     "execution_count": 100,
     "metadata": {},
     "output_type": "execute_result"
    }
   ],
   "source": [
    "keywords_list = movies['plot_keywords'].to_list()\n",
    "len(keywords_list)\n",
    "\n",
    "list_of_lists = []\n",
    "for i in range(5043):\n",
    "    if type(keywords_list[i])== str:\n",
    "        z = keywords_list[i].split('|')\n",
    "        list_of_lists.append(z)\n",
    "#this returns a lists of lists, containing all of the keywords separately\n",
    "\n",
    "list_of_keywords = []\n",
    "for i in list_of_lists:\n",
    "    for j in i:\n",
    "        list_of_keywords.append(j)\n",
    "#this new list is a list of every single keyword in the dataframe. Now let's see which ones are the most common\n",
    "\n",
    "df_of_keywords = pd.DataFrame(list_of_keywords)\n",
    "df_of_keywords.value_counts()\n",
    "\n",
    "#these are the most popular keywords. We will do something with them"
   ]
  },
  {
   "cell_type": "code",
   "execution_count": 9,
   "id": "1981362c",
   "metadata": {},
   "outputs": [
    {
     "data": {
      "text/plain": [
       "0       Action|Adventure|Fantasy|Sci-Fi\n",
       "1              Action|Adventure|Fantasy\n",
       "2             Action|Adventure|Thriller\n",
       "3                       Action|Thriller\n",
       "4                           Documentary\n",
       "                     ...               \n",
       "5038                       Comedy|Drama\n",
       "5039       Crime|Drama|Mystery|Thriller\n",
       "5040              Drama|Horror|Thriller\n",
       "5041               Comedy|Drama|Romance\n",
       "5042                        Documentary\n",
       "Name: genres, Length: 5043, dtype: object"
      ]
     },
     "execution_count": 9,
     "metadata": {},
     "output_type": "execute_result"
    }
   ],
   "source": [
    "movies['genres']\n",
    "#we should simplify this variable... as there are many different combos"
   ]
  },
  {
   "cell_type": "markdown",
   "id": "a57407a7",
   "metadata": {},
   "source": [
    "We want to initially explore what predictors should be used, regarding a regression model where gross is the response."
   ]
  },
  {
   "cell_type": "code",
   "execution_count": 11,
   "id": "a701c40c",
   "metadata": {},
   "outputs": [
    {
     "data": {
      "text/plain": [
       "num_critic_for_reviews       0.480601\n",
       "duration                     0.250298\n",
       "director_facebook_likes      0.144945\n",
       "actor_3_facebook_likes       0.308026\n",
       "actor_1_facebook_likes       0.154468\n",
       "gross                        1.000000\n",
       "num_voted_users              0.637271\n",
       "cast_total_facebook_likes    0.247400\n",
       "facenumber_in_poster        -0.027755\n",
       "num_user_for_reviews         0.559958\n",
       "budget                       0.102179\n",
       "title_year                   0.030886\n",
       "actor_2_facebook_likes       0.262768\n",
       "imdb_score                   0.198021\n",
       "aspect_ratio                 0.069346\n",
       "movie_facebook_likes         0.378082\n",
       "dtype: float64"
      ]
     },
     "execution_count": 11,
     "metadata": {},
     "output_type": "execute_result"
    }
   ],
   "source": [
    "movies.shape\n",
    "#5,043 movies, 28 variables\n",
    "\n",
    "movies.head()\n",
    "\n",
    "movies.corrwith(movies.gross)"
   ]
  },
  {
   "cell_type": "markdown",
   "id": "d22e4c8c",
   "metadata": {},
   "source": [
    "It seems like num_voted_users, num_user_for_reviews, and num_critic_for_reviews are the three variables with the highest correlation with gross. These variables are defined as:<br>\n",
    "**num_voted_users:** The total number of users who interacted with the movie? <br>\n",
    "**num_user_for_reviews:** The number of user reviews for a certain movie. <br>\n",
    "**num_critic_for_reviews:** The number of critic reviews for a certain movie. <br>\n",
    "\n",
    "These three variabes can not be used for prediction, as they are all measures recorded after a movie is already made. "
   ]
  },
  {
   "cell_type": "code",
   "execution_count": 6,
   "id": "30fe4efe",
   "metadata": {},
   "outputs": [
    {
     "data": {
      "text/html": [
       "<table class=\"simpletable\">\n",
       "<caption>OLS Regression Results</caption>\n",
       "<tr>\n",
       "  <th>Dep. Variable:</th>          <td>gross</td>      <th>  R-squared:         </th> <td>   0.172</td> \n",
       "</tr>\n",
       "<tr>\n",
       "  <th>Model:</th>                   <td>OLS</td>       <th>  Adj. R-squared:    </th> <td>   0.172</td> \n",
       "</tr>\n",
       "<tr>\n",
       "  <th>Method:</th>             <td>Least Squares</td>  <th>  F-statistic:       </th> <td>   433.0</td> \n",
       "</tr>\n",
       "<tr>\n",
       "  <th>Date:</th>             <td>Mon, 27 Feb 2023</td> <th>  Prob (F-statistic):</th> <td>1.50e-171</td>\n",
       "</tr>\n",
       "<tr>\n",
       "  <th>Time:</th>                 <td>14:20:26</td>     <th>  Log-Likelihood:    </th> <td> -80542.</td> \n",
       "</tr>\n",
       "<tr>\n",
       "  <th>No. Observations:</th>      <td>  4159</td>      <th>  AIC:               </th> <td>1.611e+05</td>\n",
       "</tr>\n",
       "<tr>\n",
       "  <th>Df Residuals:</th>          <td>  4156</td>      <th>  BIC:               </th> <td>1.611e+05</td>\n",
       "</tr>\n",
       "<tr>\n",
       "  <th>Df Model:</th>              <td>     2</td>      <th>                     </th>     <td> </td>    \n",
       "</tr>\n",
       "<tr>\n",
       "  <th>Covariance Type:</th>      <td>nonrobust</td>    <th>                     </th>     <td> </td>    \n",
       "</tr>\n",
       "</table>\n",
       "<table class=\"simpletable\">\n",
       "<tr>\n",
       "              <td></td>                 <th>coef</th>     <th>std err</th>      <th>t</th>      <th>P>|t|</th>  <th>[0.025</th>    <th>0.975]</th>  \n",
       "</tr>\n",
       "<tr>\n",
       "  <th>Intercept</th>                 <td> 3.159e+07</td> <td> 1.16e+06</td> <td>   27.283</td> <td> 0.000</td> <td> 2.93e+07</td> <td> 3.39e+07</td>\n",
       "</tr>\n",
       "<tr>\n",
       "  <th>movie_facebook_likes</th>      <td> 1123.3754</td> <td>   47.527</td> <td>   23.636</td> <td> 0.000</td> <td> 1030.196</td> <td> 1216.555</td>\n",
       "</tr>\n",
       "<tr>\n",
       "  <th>cast_total_facebook_likes</th> <td>  649.4919</td> <td>   53.356</td> <td>   12.173</td> <td> 0.000</td> <td>  544.885</td> <td>  754.099</td>\n",
       "</tr>\n",
       "</table>\n",
       "<table class=\"simpletable\">\n",
       "<tr>\n",
       "  <th>Omnibus:</th>       <td>2479.216</td> <th>  Durbin-Watson:     </th> <td>   1.043</td> \n",
       "</tr>\n",
       "<tr>\n",
       "  <th>Prob(Omnibus):</th>  <td> 0.000</td>  <th>  Jarque-Bera (JB):  </th> <td>34219.840</td>\n",
       "</tr>\n",
       "<tr>\n",
       "  <th>Skew:</th>           <td> 2.597</td>  <th>  Prob(JB):          </th> <td>    0.00</td> \n",
       "</tr>\n",
       "<tr>\n",
       "  <th>Kurtosis:</th>       <td>16.057</td>  <th>  Cond. No.          </th> <td>3.09e+04</td> \n",
       "</tr>\n",
       "</table><br/><br/>Notes:<br/>[1] Standard Errors assume that the covariance matrix of the errors is correctly specified.<br/>[2] The condition number is large, 3.09e+04. This might indicate that there are<br/>strong multicollinearity or other numerical problems."
      ],
      "text/plain": [
       "<class 'statsmodels.iolib.summary.Summary'>\n",
       "\"\"\"\n",
       "                            OLS Regression Results                            \n",
       "==============================================================================\n",
       "Dep. Variable:                  gross   R-squared:                       0.172\n",
       "Model:                            OLS   Adj. R-squared:                  0.172\n",
       "Method:                 Least Squares   F-statistic:                     433.0\n",
       "Date:                Mon, 27 Feb 2023   Prob (F-statistic):          1.50e-171\n",
       "Time:                        14:20:26   Log-Likelihood:                -80542.\n",
       "No. Observations:                4159   AIC:                         1.611e+05\n",
       "Df Residuals:                    4156   BIC:                         1.611e+05\n",
       "Df Model:                           2                                         \n",
       "Covariance Type:            nonrobust                                         \n",
       "=============================================================================================\n",
       "                                coef    std err          t      P>|t|      [0.025      0.975]\n",
       "---------------------------------------------------------------------------------------------\n",
       "Intercept                  3.159e+07   1.16e+06     27.283      0.000    2.93e+07    3.39e+07\n",
       "movie_facebook_likes       1123.3754     47.527     23.636      0.000    1030.196    1216.555\n",
       "cast_total_facebook_likes   649.4919     53.356     12.173      0.000     544.885     754.099\n",
       "==============================================================================\n",
       "Omnibus:                     2479.216   Durbin-Watson:                   1.043\n",
       "Prob(Omnibus):                  0.000   Jarque-Bera (JB):            34219.840\n",
       "Skew:                           2.597   Prob(JB):                         0.00\n",
       "Kurtosis:                      16.057   Cond. No.                     3.09e+04\n",
       "==============================================================================\n",
       "\n",
       "Notes:\n",
       "[1] Standard Errors assume that the covariance matrix of the errors is correctly specified.\n",
       "[2] The condition number is large, 3.09e+04. This might indicate that there are\n",
       "strong multicollinearity or other numerical problems.\n",
       "\"\"\""
      ]
     },
     "execution_count": 6,
     "metadata": {},
     "output_type": "execute_result"
    }
   ],
   "source": [
    "model = smf.ols('gross~movie_facebook_likes+cast_total_facebook_likes', data=movies).fit()\n",
    "model.summary()"
   ]
  },
  {
   "cell_type": "code",
   "execution_count": 7,
   "id": "a0c18b92",
   "metadata": {},
   "outputs": [
    {
     "data": {
      "text/plain": [
       "<AxesSubplot:xlabel='movie_facebook_likes', ylabel='gross'>"
      ]
     },
     "execution_count": 7,
     "metadata": {},
     "output_type": "execute_result"
    },
    {
     "data": {
      "image/png": "[encoded data removed]",
      "text/plain": [
       "<Figure size 720x432 with 1 Axes>"
      ]
     },
     "metadata": {
      "needs_background": "light"
     },
     "output_type": "display_data"
    }
   ],
   "source": [
    "plt.rcParams[\"figure.figsize\"] = (10,6)\n",
    "sns.scatterplot(x ='movie_facebook_likes',y = 'gross',data = movies)"
   ]
  },
  {
   "cell_type": "code",
   "execution_count": 8,
   "id": "92b09721",
   "metadata": {},
   "outputs": [
    {
     "data": {
      "text/plain": [
       "<AxesSubplot:xlabel='cast_total_facebook_likes', ylabel='gross'>"
      ]
     },
     "execution_count": 8,
     "metadata": {},
     "output_type": "execute_result"
    },
    {
     "data": {
      "image/png": "[encoded data removed]",
      "text/plain": [
       "<Figure size 720x432 with 1 Axes>"
      ]
     },
     "metadata": {
      "needs_background": "light"
     },
     "output_type": "display_data"
    }
   ],
   "source": [
    "plt.rcParams[\"figure.figsize\"] = (10,6)\n",
    "sns.scatterplot(x ='cast_total_facebook_likes',y = 'gross',data = movies)"
   ]
  },
  {
   "cell_type": "code",
   "execution_count": null,
   "id": "57b28b9a",
   "metadata": {},
   "outputs": [],
   "source": []
  }
 ],
 "metadata": {
  "kernelspec": {
   "display_name": "Python 3 (ipykernel)",
   "language": "python",
   "name": "python3"
  },
  "language_info": {
   "codemirror_mode": {
    "name": "ipython",
    "version": 3
   },
   "file_extension": ".py",
   "mimetype": "text/x-python",
   "name": "python",
   "nbconvert_exporter": "python",
   "pygments_lexer": "ipython3",
   "version": "3.9.12"
  }
 },
 "nbformat": 4,
 "nbformat_minor": 5
}
