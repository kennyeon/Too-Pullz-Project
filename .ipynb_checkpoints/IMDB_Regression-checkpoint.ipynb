{
 "cells": [
  {
   "cell_type": "markdown",
   "id": "9d4560ca",
   "metadata": {},
   "source": [
    "## Lila and Gabby: Regression {-}\n"
   ]
  },
  {
   "cell_type": "code",
   "execution_count": 1,
   "id": "b1ad9f72",
   "metadata": {},
   "outputs": [],
   "source": [
    "import pandas as pd\n",
    "import numpy as np\n",
    "import seaborn as sns\n",
    "import matplotlib.pyplot as plt\n",
    "import statsmodels.formula.api as smf"
   ]
  },
  {
   "cell_type": "code",
   "execution_count": 3,
   "id": "3ea076f1",
   "metadata": {},
   "outputs": [],
   "source": [
    "#Lila's filepath for the movie dataset\n",
    "movies = pd.read_csv('Desktop/STAT3032/movie_metadata.csv')\n",
    "\n",
    "#Gabby's filepath for the movie dataset"
   ]
  },
  {
   "cell_type": "markdown",
   "id": "a57407a7",
   "metadata": {},
   "source": [
    "We want to initially explore what predictors should be used, regarding a regression model where gross is the response."
   ]
  },
  {
   "cell_type": "code",
   "execution_count": 11,
   "id": "a701c40c",
   "metadata": {},
   "outputs": [
    {
     "data": {
      "text/plain": [
       "num_critic_for_reviews       0.480601\n",
       "duration                     0.250298\n",
       "director_facebook_likes      0.144945\n",
       "actor_3_facebook_likes       0.308026\n",
       "actor_1_facebook_likes       0.154468\n",
       "gross                        1.000000\n",
       "num_voted_users              0.637271\n",
       "cast_total_facebook_likes    0.247400\n",
       "facenumber_in_poster        -0.027755\n",
       "num_user_for_reviews         0.559958\n",
       "budget                       0.102179\n",
       "title_year                   0.030886\n",
       "actor_2_facebook_likes       0.262768\n",
       "imdb_score                   0.198021\n",
       "aspect_ratio                 0.069346\n",
       "movie_facebook_likes         0.378082\n",
       "dtype: float64"
      ]
     },
     "execution_count": 11,
     "metadata": {},
     "output_type": "execute_result"
    }
   ],
   "source": [
    "movies.shape\n",
    "#5,043 movies, 28 variables\n",
    "\n",
    "movies.head()\n",
    "\n",
    "movies.corrwith(movies.gross)"
   ]
  },
  {
   "cell_type": "markdown",
   "id": "d22e4c8c",
   "metadata": {},
   "source": [
    "It seems like num_voted_users, num_user_for_reviews, and num_critic_for_reviews are the three variables with the highest correlation with gross. These variables are defined as:<br>\n",
    "**num_voted_users:** The total number of users who interacted with the movie? <br>\n",
    "**num_user_for_reviews:** The number of user reviews for a certain movie. <br>\n",
    "**num_critic_for_reviews:** The number of critic reviews for a certain movie. <br>\n",
    "\n",
    "These three variabes can not be used for prediction, as they are all measures recorded after a movie is already made. "
   ]
  },
  {
   "cell_type": "code",
   "execution_count": null,
   "id": "30fe4efe",
   "metadata": {},
   "outputs": [],
   "source": []
  }
 ],
 "metadata": {
  "kernelspec": {
   "display_name": "Python 3 (ipykernel)",
   "language": "python",
   "name": "python3"
  },
  "language_info": {
   "codemirror_mode": {
    "name": "ipython",
    "version": 3
   },
   "file_extension": ".py",
   "mimetype": "text/x-python",
   "name": "python",
   "nbconvert_exporter": "python",
   "pygments_lexer": "ipython3",
   "version": "3.9.12"
  }
 },
 "nbformat": 4,
 "nbformat_minor": 5
}
