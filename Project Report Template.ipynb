{
 "cells": [
  {
   "cell_type": "raw",
   "id": "33dd6c4c",
   "metadata": {},
   "source": [
    "---\n",
    "title: \"Project Report\"\n",
    "subtitle: Team Too-pullz\n",
    "author: Lila Weiner, Gabrielle Bliss, Riley Otsuki, and Kenneth Yeon\n",
    "date: 03/15/2023\n",
    "number-sections: true\n",
    "abstract: _This project aims to predict the gross of a movie through multivariate linear regression to inform stakeholders about profitability, as some highly grossing films result in huge net losses. We also aim to predict, through multivariate logistic regression, whether a movie will be highly rated on the IMDB platform to inform stakeholders of projected audience opinion. The two response variables of interest are predicted based on a dataset containing predictors such as actor facebook likes, country of origin, release year, and production budget. Simple regression and logistic models for gross and IMDB score were created to maximize inference and prediction. A tentative logistic model classifying highly profitable movies was also explored for a more complete analysis through the lens of inference. Our regression model aims to minimize MAE, while the logistic model aims to optimize the precision and FPR metrics. Lasso and forward stepwise selection were used to further optimize variable selection and inference after initial analysis and transformations of categorical and numerical predictors. Greater popularity of actors and slightly higher durations of films seemed to contribute most beneficially to both high gross and high ratings, while budget had a more significant impact in predicting gross_.\n",
    "format: \n",
    "  html:\n",
    "    toc: true\n",
    "    toc-title: Contents\n",
    "    self-contained: true\n",
    "    font-size: 100%\n",
    "    toc-depth: 4\n",
    "    mainfont: serif\n",
    "execute:\n",
    "    echo: false\n",
    "jupyter: python3\n",
    "---"
   ]
  },
  {
   "cell_type": "markdown",
   "id": "aba5ee91",
   "metadata": {},
   "source": [
    "## Length of the report {-}\n",
    "The length of the report must be no more than 15 pages, when printed as PDF. However, there is no requirement on the minimum number of pages.\n",
    "\n",
    "You may put additional stuff as Appendix. You may refer to the Appendix in the main report to support your arguments. However, your appendix is unlikely to be checked while grading, unless the grader deems it necessary. The appendix, references, and information about GitHub and individual contribution will not be included in the page count, and there is no limit on the length of the appendix.\n",
    "\n",
    "**Delete this section from the report, when using this template.** "
   ]
  },
  {
   "cell_type": "markdown",
   "id": "93d3d9ed",
   "metadata": {},
   "source": [
    "## Code should be put separately in the code template {-}\n",
    "Your report should be in a research-paper like style. If there is something that can only be explained by showing the code, then you may put it, otherwise do not put the code in the report. We will check your code in the code template. \n",
    "\n",
    "**Delete this section from the report, when using this template.** "
   ]
  },
  {
   "cell_type": "code",
   "execution_count": 3,
   "id": "e9187c8d",
   "metadata": {},
   "outputs": [],
   "source": [
    "import pandas as pd\n",
    "import numpy as np\n",
    "import seaborn as sns\n",
    "import matplotlib.pyplot as plt\n",
    "import statsmodels.formula.api as smf\n",
    "\n",
    "movies = pd.read_csv('movie_metadata.csv')"
   ]
  },
  {
   "cell_type": "markdown",
   "id": "0116f49b",
   "metadata": {},
   "source": [
    "## Background / Motivation\n",
    "\n",
    "What motivated you to work on this problem?\n",
    "\n",
    "Mention any background about the problem, if it is required to understand your analysis later on."
   ]
  },
  {
   "cell_type": "markdown",
   "id": "420f7759",
   "metadata": {},
   "source": [
    ">The economics of Hollywood and the international film industry is not always as straightforward as it seems. Movies that gross highly are not always profitable, even if they make more money than their production budget. For example, the movie “‘Harry Potter and the Order of the Phoenix’, [...] ended up with a $167 million \"loss\" even though it's one of the top grossing films of the last decade.” [1]. Thus, actors, producers, and investing studios who’s salaries and pay have relationships to the profitability of movies are at risk. The profitability of a movie takes into account many expenses (not just production budget), and would be beneficial to predict beforehand in order to allocate money accordingly [2]. Additionally, over the past several years, the movie industry has undergone other immense changes. Streaming services have become the primary mode of movie watching for viewers, at the expense of the in-person movie theater experience. Amidst these changes in the industry, movie makers are faced with uncertainty regarding the success of their product—in the financial sense, but also in the sense of critics and public opinion. Our group was interested in performing an analysis on film data, as we all enjoy watching movies, but were also concerned with mediating these risks regarding gross, profitability, and assessment of success for the concerned parties. Upon finding our dataset on Kaggle, we wondered if we could determine what, if any, cultural factors contribute to a movie’s success, as it pertains to money and IMDB rating. Our resulting models (linear regression and logistic regression, respectively) for the prediction and inference of total film gross and IMDB rating aim to assess these pertinent cultural issues as well as provide our team with a more comprehensive insight to a topic we possess interest in. Our models, as they predict quantitative success and qualitative success, can thus be used as a basis to make decisions on how to increase gross or ratings in order to create a more successful movie, financially and culturally, and ideally mediate the issues the film industry might have with profitability and low success rates through public opinion. "
   ]
  },
  {
   "cell_type": "markdown",
   "id": "84ff1421",
   "metadata": {},
   "source": [
    "## Problem statement \n",
    "\n",
    "Describe your problem statement. Articulate your objectives using absolutely no jargon. Interpret the problem as inference and/or prediction."
   ]
  },
  {
   "cell_type": "markdown",
   "id": "e323bddf",
   "metadata": {},
   "source": [
    "> We are working to identify and predict a movie’s success, financially and through the lens of public opinion, based on its relationship to a collection of predictors in our data. We considered gross income and IMDB rating as the two main metrics of success. Our problem is a combination of inference and prediction. For both metrics, we utilized inference to obtain an understanding of which variables are most pertinent when determining the success of a movie. Our problem also involves prediction as an objective of ours is to predict the gross income that a movie would generate based on the possible predictor variables in the dataset, as described previously. Within our focus of IMDB regression, we wanted our model to predict the probability in which a movie is given a high rating, and then classify the movie as predicted to be highly rated by the public IMDB scores, or not. Since gross is a continuous variable, we aimed to predict its response using a linear regression model. On the contrary, even though IMDB rating is numeric, it is a discrete response variable that is better fitted into the binary category as highly rated or not. Thus, a logistic regression model was used for this objective. \n"
   ]
  },
  {
   "cell_type": "markdown",
   "id": "38c7b95f",
   "metadata": {},
   "source": [
    "## Data sources\n",
    "What data did you use? Provide details about your data. Include links to data if you are using open-access data."
   ]
  },
  {
   "cell_type": "markdown",
   "id": "9bc8f342",
   "metadata": {},
   "source": [
    "> Our model(s) are based on a dataset found on Kaggle, which contains approximately n = 5,000 observations, each corresponding to a different movie and its cultural characteristics as presented on the IMDB platform. Of these film observations, 3,756 have no missing values. Within our dataset, we identified two response variables: gross income and IMDB rating. There are 25 other variables in the dataset, which had the potential to be possible predictors in our models. These predictors include various facebook-like counts for the director, actor, and movie itself, the genres of the film, the aspect ratio, year of release, production budget, keywords, duration, country of origin, and so on. Notably, the dataset does not include comprehensive financial data on total film expenditure or a comprehensive set of predictors that might be more intuitively used to predict our responses. Therefore, we have framed our objectives as an attempt to predict and explain gross and IMDB rating with cultural predictors in order to mitigate losses and detriments that could occur to concerned parties if a film does not make enough money to be profitable or has a low success rate in terms of public opinion and reviews.\n",
    "<br><br>\n",
    "[Link to our open-access dataset](https://www.kaggle.com/carolzhangdc/imdb-5000-movie-dataset)"
   ]
  },
  {
   "cell_type": "markdown",
   "id": "8c255035",
   "metadata": {},
   "source": [
    "## Stakeholders\n",
    "Who cares? If you are successful, what difference will it make to them?"
   ]
  },
  {
   "cell_type": "markdown",
   "id": "b1f4bab0",
   "metadata": {},
   "source": [
    "> Our model(s) primarily serve to benefit movie directors, producers, and investors. These groups are our target stakeholders, as they are all involved in the creation of movies and have something at stake in regards to a film’s success—financially or in the eyes of public opinion. Movie directors and producers can use our findings to determine the amount and viability of their production budgets, as well as the ‘wiggle room’ they have to spend on marketing and other areas important to moviemaking to maximize success. These stakeholders also have their reputations at stake; a highly rated movie in the eyes of public opinion and critics is essential to furthering their careers. Private investors will also gain insights from our analyses, as they will obtain newfound guidance regarding the safety/risk in a potential movie investment. With a deeper understanding of what characteristics contribute to a successful movie, our stakeholders will be able to make well informed decisions regarding casting, marketing, and overall movie creation. Although we are interested in prediction, we also are concerned heavily with inference so that our stakeholder might know what cultural predictors could correspond to a higher success rate (whether this be  in terms of gross or ratings) for their movie."
   ]
  },
  {
   "cell_type": "markdown",
   "id": "fe7ea9bb",
   "metadata": {},
   "source": [
    "## Data quality check / cleaning / preparation \n",
    "\n",
    "In a tabular form, show the distribution of values of each variable used in the analysis - for both categorical and continuous variables. Distribution of a categorical variable must include the number of missing values, the number of unique values, the frequency of all its levels. If a categorical variable has too many levels, you may just include the counts of the top 3-5 levels. \n",
    "\n",
    "If the tables in this section take too much space, you may put them in the appendix, and just mention any useful insights you obtained from the data quality check that helped you develop the model or helped you realize the necessary data cleaning / preparation.\n",
    "\n",
    "Were there any potentially incorrect values of variables that required cleaning? If yes, how did you clean them? \n",
    "\n",
    "Did you do any data wrangling or data preparation before the data was ready to use for model development? Did you create any new predictors from exisiting predictors? For example, if you have number of transactions and spend in a credit card dataset, you may create spend per transaction for predicting if a customer pays their credit card bill. Mention the steps at a broad level, you may put minor details in the appendix. Only mention the steps that ended up being useful towards developing your final model(s)."
   ]
  },
  {
   "cell_type": "markdown",
   "id": "fbb11c9b",
   "metadata": {},
   "source": [
    "## Exploratory data analysis"
   ]
  },
  {
   "cell_type": "markdown",
   "id": "e4bd74a9",
   "metadata": {},
   "source": [
    "Put the relevant EDA here (visualizations, tables, etc.) that helped you figure out useful predictors for developing the model(s). Only put the EDA that ended up being useful towards developing your final model(s). \n",
    "\n",
    "List the insights (as bullet points) you got from EDA that ended up being useful towards developing your final model. \n",
    "\n",
    "Again, if there are too many plots / tables, you may put them into appendix, and just mention the insights you got from them."
   ]
  },
  {
   "cell_type": "code",
   "execution_count": 5,
   "id": "99c9c772",
   "metadata": {},
   "outputs": [
    {
     "data": {
      "text/plain": [
       "facenumber_in_poster        -0.027755\n",
       "title_year                   0.030886\n",
       "aspect_ratio                 0.069346\n",
       "budget                       0.102179\n",
       "director_facebook_likes      0.144945\n",
       "actor_1_facebook_likes       0.154468\n",
       "imdb_score                   0.198021\n",
       "cast_total_facebook_likes    0.247400\n",
       "duration                     0.250298\n",
       "actor_2_facebook_likes       0.262768\n",
       "actor_3_facebook_likes       0.308026\n",
       "movie_facebook_likes         0.378082\n",
       "num_critic_for_reviews       0.480601\n",
       "num_user_for_reviews         0.559958\n",
       "num_voted_users              0.637271\n",
       "gross                        1.000000\n",
       "dtype: float64"
      ]
     },
     "execution_count": 5,
     "metadata": {},
     "output_type": "execute_result"
    }
   ],
   "source": [
    "movies.corrwith(movies.gross).sort_values(ascending = True)"
   ]
  },
  {
   "cell_type": "markdown",
   "id": "5e5984ff",
   "metadata": {},
   "source": [
    "> The variables representing user and critic reviews had the strongest correlations with gross, but were unable to be used in our linear regression problem because they are known after the movie’s release. Following these variables, we observed that facebook likes for the actors, cast and director were all moderately correlated with gross, and thus, we plotted scatterplots to observe relationships."
   ]
  },
  {
   "cell_type": "code",
   "execution_count": 7,
   "id": "659fc2ba",
   "metadata": {},
   "outputs": [
    {
     "data": {
      "text/plain": [
       "<AxesSubplot:xlabel='duration', ylabel='gross'>"
      ]
     },
     "execution_count": 7,
     "metadata": {},
     "output_type": "execute_result"
    },
    {
     "data": {
      "image/png": "[encoded data removed]",
      "text/plain": [
       "<Figure size 648x360 with 1 Axes>"
      ]
     },
     "metadata": {
      "needs_background": "light"
     },
     "output_type": "display_data"
    }
   ],
   "source": [
    "plt.rcParams[\"figure.figsize\"] = (9,5)\n",
    "sns.barplot(x ='duration',y = 'gross',data = movies)"
   ]
  },
  {
   "cell_type": "markdown",
   "id": "19cedfe7",
   "metadata": {},
   "source": [
    "> Duration could benefit from being binned before model development, as the distribution shows that different durations have different relationships with gross. Four bins captured the general trend of gross vs. duration."
   ]
  },
  {
   "cell_type": "code",
   "execution_count": 8,
   "id": "1e2d8cca",
   "metadata": {},
   "outputs": [
    {
     "data": {
      "text/plain": [
       "<AxesSubplot:xlabel='title_year'>"
      ]
     },
     "execution_count": 8,
     "metadata": {},
     "output_type": "execute_result"
    },
    {
     "data": {
      "image/png": "[encoded data removed]",
      "text/plain": [
       "<Figure size 648x360 with 1 Axes>"
      ]
     },
     "metadata": {
      "needs_background": "light"
     },
     "output_type": "display_data"
    }
   ],
   "source": [
    "#calculate sum of points for each team\n",
    "df_groups = movies.groupby('title_year')['movie_title'].count()\n",
    "\n",
    "#create bar plot by group\n",
    "df_groups.plot(kind='bar')"
   ]
  },
  {
   "cell_type": "markdown",
   "id": "d165c269",
   "metadata": {},
   "source": [
    "> The majority of the movies in our dataset were created in the 21st century, and thus gross values might be subject to other factors we do not have the predictors for, such as inflation, etc. Thus, `title_year` might be important to interact with other predictors in our final model. "
   ]
  },
  {
   "cell_type": "code",
   "execution_count": 13,
   "id": "75c0bb77",
   "metadata": {},
   "outputs": [
    {
     "data": {
      "image/png": "[encoded data removed]",
      "text/plain": [
       "<Figure size 1728x576 with 1 Axes>"
      ]
     },
     "metadata": {
      "needs_background": "light"
     },
     "output_type": "display_data"
    }
   ],
   "source": [
    "genres = movies.genres.str.split(\"|\", expand = True)\n",
    "gen = [] \n",
    "for x in range(genres.shape[1]):\n",
    "    u = genres.iloc[:, x].unique()\n",
    "    gen = gen + list(u)\n",
    "    \n",
    "genre_list = list(pd.DataFrame(gen).iloc[:, 0].unique())\n",
    "genre_list.remove(None)\n",
    "genre_list\n",
    "genre_list = ' '.join(genre_list).replace('-','_').split()\n",
    "genre_list\n",
    "for i in range(len(genre_list)):\n",
    "    movies[str(genre_list[i])] = movies.genres.apply(lambda x: 1 if str(genre_list[i]) in x else 0)\n",
    "\n",
    "genres_df = movies[[str(x) for x in genre_list]]\n",
    "genres_df = pd.concat([genres_df, movies.gross], axis = 1)\n",
    "genres_df\n",
    "means = []\n",
    "for column in genres_df.columns:\n",
    "    means.append(genres_df.loc[genres_df[column] == 1, \"gross\"].mean())\n",
    "\n",
    "    \n",
    "fig, ax = plt.subplots(figsize=(24, 8))\n",
    "plt.bar(x=genres_df.columns, height=means)\n",
    "plt.title(\"Average gross for different genres\")\n",
    "plt.show()"
   ]
  },
  {
   "cell_type": "markdown",
   "id": "e8f625e9",
   "metadata": {},
   "source": [
    "> Animation, Adventure, and Family, Action, Fantasy were the top five highest grossing genres. These were also the five genres with the strongest correlation to gross, as we will see in Model Development as well.\n"
   ]
  },
  {
   "cell_type": "markdown",
   "id": "d39c782c",
   "metadata": {},
   "source": [
    "## Approach\n",
    "\n",
    "What kind of a model (linear / logistic / other) did you use? What performance metric(s) did you optimize and why?\n",
    "\n",
    "Is there anything unorthodox / new in your approach? \n",
    "\n",
    "What problems did you anticipate? What problems did you encounter? Did the very first model you tried work? \n",
    "\n",
    "Did your problem already have solution(s) (posted on Kaggle or elsewhere). If yes, then how did you build upon those solutions, what did you do differently? Is your model better as compared to those solutions in terms of prediction / inference?\n",
    "\n",
    "**Important: Mention any code repositories (with citations) or other sources that you used, and specifically what changes you made to them for your project.**"
   ]
  },
  {
   "cell_type": "markdown",
   "id": "acab331a",
   "metadata": {},
   "source": [
    "## Developing the model"
   ]
  },
  {
   "cell_type": "markdown",
   "id": "ae5ec4c9",
   "metadata": {},
   "source": [
    "Explain the steps taken to develop and improve the base model - informative visualizations / addressing modeling assumption violations / variable transformation / interactions / outlier treatment / influential points treatment / addressing over-fitting / addressing multicollinearity / variable selection - stepwise regression, lasso, ridge regression). \n",
    "\n",
    "Did you succeed in achieving your goal, or did you fail? Why?\n",
    "\n",
    "**Put the final model equation**.\n",
    "\n",
    "**Important: This section should be rigorous and thorough. Present detailed information about decision you made, why you made them, and any evidence/experimentation to back them up.**"
   ]
  },
  {
   "cell_type": "markdown",
   "id": "1b46343d",
   "metadata": {},
   "source": [
    "## Limitations of the model with regard to inference / prediction"
   ]
  },
  {
   "cell_type": "markdown",
   "id": "c85ead90",
   "metadata": {},
   "source": [
    "If it is inference, will the inference hold for a certain period of time, for a certain subset of population, and / or for certain conditions.\n",
    "\n",
    "If it is prediction, then will it be possible / convenient / expensive for the stakeholders to collect the data relating to the predictors in the model. Using your model, how soon will the stakeholder be able to predict the outcome before the outcome occurs. For example, if the model predicts the number of bikes people will rent in Evanston on a certain day, then how many days before that day will your model be able to make the prediction. This will depend on how soon the data that your model uses becomes available. If you are predicting election results, how many days / weeks / months / years before the election can you predict the results. \n",
    "\n",
    "When will your model become too obsolete to be useful?"
   ]
  },
  {
   "cell_type": "markdown",
   "id": "f6026cb7",
   "metadata": {},
   "source": [
    "## Other sections *(optional)*\n",
    "\n",
    "You are welcome to introduce additional sections or subsections, if required, to address any specific aspects of your project in detail. For example, you may briefly discuss potential future work that the research community could focus on to make further progress in the direction of your project's topic."
   ]
  },
  {
   "cell_type": "markdown",
   "id": "62a185cb",
   "metadata": {},
   "source": [
    "## Conclusions and Recommendations to stakeholder(s)\n",
    "\n",
    "What conclusions do you draw based on your model? If it is inference you may draw conclusions based on the coefficients, statistical significance of predictors / interactions, etc. If it is prediction, you may draw conclusions based on prediction accuracy, or other performance metrics.\n",
    "\n",
    "How do you use those conclusions to come up with meaningful recommendations for stakeholders? The recommendations must be action-items for stakeholders that they can directly implement without any further analysis. Be as precise as possible. The stakeholder(s) are depending on you to come up with practically implementable recommendations, instead of having to think for themselves.\n",
    "\n",
    "If your recommendations are not practically implementable by stakeholders, how will they help them? Is there some additional data / analysis / domain expertise you need to do to make the recommendations implementable? \n",
    "\n",
    "Do the stakeholder(s) need to be aware about some limitations of your model? Is your model only good for one-time use, or is it possible to update your model at a certain frequency (based on recent data) to keep using it in the future? If it can be used in the future, then for how far into the future?"
   ]
  },
  {
   "cell_type": "markdown",
   "id": "9c44497c",
   "metadata": {},
   "source": [
    "## GitHub and individual contribution {-}"
   ]
  },
  {
   "cell_type": "markdown",
   "id": "4e6144ac",
   "metadata": {},
   "source": [
    "[Link to GitHub **Repository**](https://github.com/kennyeon/Too-Pullz-Project)"
   ]
  },
  {
   "cell_type": "markdown",
   "id": "5505da5c",
   "metadata": {},
   "source": [
    "<html>\n",
    "<style>\n",
    "table, td, th {\n",
    "  border: 1px solid black;\n",
    "}\n",
    "\n",
    "table {\n",
    "  border-collapse: collapse;\n",
    "  width: 100%;\n",
    "}\n",
    "\n",
    "th {\n",
    "  text-align: left;\n",
    "}\n",
    "    \n",
    "\n",
    "</style>\n",
    "<body>\n",
    "\n",
    "<h3>Individual contributions</h3>\n",
    "\n",
    "<table style=\"width:100%\">\n",
    "     <colgroup>\n",
    "       <col span=\"1\" style=\"width: 15%;\">\n",
    "       <col span=\"1\" style=\"width: 20%;\">\n",
    "       <col span=\"1\" style=\"width: 50%;\">\n",
    "       <col span=\"1\" style=\"width: 15%;\"> \n",
    "    </colgroup>\n",
    "  <tr>\n",
    "    <th>Team member</th>\n",
    "    <th>Contributed aspects</th>\n",
    "    <th>Details</th>\n",
    "  </tr>\n",
    "  <tr>\n",
    "    <td>Lila Weiner</td>\n",
    "    <td>Data cleaning, EDA, linear regression model development, expository ADD HERE</td>\n",
    "    <td>Developed visualizations to identify appropriate binning transformations, created EDA scatterplots for linear regression, co-wrote all sections pertaining to linear regression as well as introductory sections ADD HERE</td>\n",
    "  </tr>\n",
    "  <tr>\n",
    "    <td>Gabrielle Bliss</td>\n",
    "    <td>Data cleaning, EDA, assumptions and interactions, linear regression model development (lasso, removing influential points), expository ADD HERE</td>\n",
    "    <td>Cleaned data to create dummy variables for genres, worked on transformations for budget, used KFoldCV function to assess accuracy, attempted lasso, co-wrote all sections pertaining to linear regression as well as parts of introductory sections ADD HERE</td>\n",
    "  </tr>\n",
    "    <tr>\n",
    "    <td>Riley Otsuki</td>\n",
    "    <td>Data cleaning/prep, Logistic model development ADD HERE</td>\n",
    "    <td>EXAMPLE! ADD HERE Identified outliers/influential points and analayzed their effect on the model.</td>   \n",
    "  </tr>\n",
    "    <tr>\n",
    "    <td>Kenneth Yeon</td>\n",
    "    <td>Logistic model development ADD HERE</td>\n",
    "    <td>EXAMPLE! ADD HERE Performed variable selection on an exhaustive set of predictors to address multicollinearity and overfitting.</td>   \n",
    "  </tr>\n",
    "</table>"
   ]
  },
  {
   "cell_type": "markdown",
   "id": "4d5f9ea0",
   "metadata": {},
   "source": [
    "[Link to GitHub **Insights and Commits**](https://github.com/kennyeon/Too-Pullz-Project/graphs/contributors)"
   ]
  },
  {
   "cell_type": "markdown",
   "id": "192bbd23",
   "metadata": {},
   "source": [
    "List the **challenges** you faced when collaborating with the team on GitHub. Are you comfortable using GitHub? \n",
    "Do you feel GitHuB made collaboration easier? If not, then why? *(Individual team members can put their opinion separately, if different from the rest of the team)*"
   ]
  },
  {
   "cell_type": "markdown",
   "id": "d7167f2b",
   "metadata": {},
   "source": [
    "> **Gabby:** I think I am still a little rusty on the branching aspect of GitHub and how to successfully commit and push to the main. It was easiest for me to just push to the main while coordinating with my group separately about when I was doing so in order to make sure we were not losing work. For a while, my GitHub desktop was giving me issues, and so I had Lila commit my new files for me by sending them over to her. While it was not the easiest of roads, I think I am more comfortable with GitHub as we are ending the quarter. I think I could definitely use GitHub on my own with a branch; the stress of making sure we were coordinating pushes, pulls, and merges accordingly as a group was the most concerning part about using the platform. In my opinion, GitHub did make things easier in the end, but I can see how if the whole group was 100% comfortable using it it would be even more useful."
   ]
  },
  {
   "cell_type": "markdown",
   "id": "45bce7b4",
   "metadata": {},
   "source": [
    "> **Lila:**"
   ]
  },
  {
   "cell_type": "markdown",
   "id": "80c236e5",
   "metadata": {},
   "source": [
    "> **Kenny:**"
   ]
  },
  {
   "cell_type": "markdown",
   "id": "ed456a80",
   "metadata": {},
   "source": [
    "> **Riley:**"
   ]
  },
  {
   "cell_type": "markdown",
   "id": "00b1cafe",
   "metadata": {},
   "source": [
    "## References {-}"
   ]
  },
  {
   "cell_type": "markdown",
   "id": "ebdb1aad",
   "metadata": {},
   "source": [
    "List and number all bibliographical references. When referenced in the text, enclose the citation number in square brackets, for example [1].\n",
    "\n",
    "[1] Authors. The frobnicatable foo filter, 2014. Face and Gesture submission ID 324. Supplied as additional material\n",
    "fg324.pdf. 3\n"
   ]
  },
  {
   "cell_type": "markdown",
   "id": "5831751c",
   "metadata": {},
   "source": [
    "## Appendix {-}"
   ]
  },
  {
   "cell_type": "markdown",
   "id": "d13d374d",
   "metadata": {},
   "source": [
    "You may put additional stuff here as Appendix. You may refer to the Appendix in the main report to support your arguments. However, the appendix section is unlikely to be checked while grading, unless the grader deems it necessary."
   ]
  },
  {
   "cell_type": "markdown",
   "id": "94b2fae3",
   "metadata": {},
   "source": [
    "##### Data Quality Check, Categorical Variables"
   ]
  },
  {
   "cell_type": "code",
   "execution_count": 16,
   "id": "a324b940",
   "metadata": {},
   "outputs": [
    {
     "data": {
      "text/html": [
       "<div>\n",
       "<style scoped>\n",
       "    .dataframe tbody tr th:only-of-type {\n",
       "        vertical-align: middle;\n",
       "    }\n",
       "\n",
       "    .dataframe tbody tr th {\n",
       "        vertical-align: top;\n",
       "    }\n",
       "\n",
       "    .dataframe thead th {\n",
       "        text-align: right;\n",
       "    }\n",
       "</style>\n",
       "<table border=\"1\" class=\"dataframe\">\n",
       "  <thead>\n",
       "    <tr style=\"text-align: right;\">\n",
       "      <th></th>\n",
       "      <th></th>\n",
       "      <th>Top 3 Value Counts, Categorical</th>\n",
       "    </tr>\n",
       "  </thead>\n",
       "  <tbody>\n",
       "    <tr>\n",
       "      <th rowspan=\"2\" valign=\"top\">color</th>\n",
       "      <th>Color</th>\n",
       "      <td>4815</td>\n",
       "    </tr>\n",
       "    <tr>\n",
       "      <th>Black and White</th>\n",
       "      <td>209</td>\n",
       "    </tr>\n",
       "    <tr>\n",
       "      <th rowspan=\"3\" valign=\"top\">director_name</th>\n",
       "      <th>Steven Spielberg</th>\n",
       "      <td>26</td>\n",
       "    </tr>\n",
       "    <tr>\n",
       "      <th>Woody Allen</th>\n",
       "      <td>22</td>\n",
       "    </tr>\n",
       "    <tr>\n",
       "      <th>Clint Eastwood</th>\n",
       "      <td>20</td>\n",
       "    </tr>\n",
       "    <tr>\n",
       "      <th rowspan=\"3\" valign=\"top\">actor_2_name</th>\n",
       "      <th>Morgan Freeman</th>\n",
       "      <td>20</td>\n",
       "    </tr>\n",
       "    <tr>\n",
       "      <th>Charlize Theron</th>\n",
       "      <td>15</td>\n",
       "    </tr>\n",
       "    <tr>\n",
       "      <th>Brad Pitt</th>\n",
       "      <td>14</td>\n",
       "    </tr>\n",
       "    <tr>\n",
       "      <th rowspan=\"3\" valign=\"top\">genres</th>\n",
       "      <th>Drama</th>\n",
       "      <td>236</td>\n",
       "    </tr>\n",
       "    <tr>\n",
       "      <th>Comedy</th>\n",
       "      <td>209</td>\n",
       "    </tr>\n",
       "    <tr>\n",
       "      <th>Comedy|Drama</th>\n",
       "      <td>191</td>\n",
       "    </tr>\n",
       "    <tr>\n",
       "      <th rowspan=\"3\" valign=\"top\">actor_1_name</th>\n",
       "      <th>Robert De Niro</th>\n",
       "      <td>49</td>\n",
       "    </tr>\n",
       "    <tr>\n",
       "      <th>Johnny Depp</th>\n",
       "      <td>41</td>\n",
       "    </tr>\n",
       "    <tr>\n",
       "      <th>Nicolas Cage</th>\n",
       "      <td>33</td>\n",
       "    </tr>\n",
       "    <tr>\n",
       "      <th rowspan=\"3\" valign=\"top\">movie_title</th>\n",
       "      <th>Ben-Hur</th>\n",
       "      <td>3</td>\n",
       "    </tr>\n",
       "    <tr>\n",
       "      <th>Pan</th>\n",
       "      <td>3</td>\n",
       "    </tr>\n",
       "    <tr>\n",
       "      <th>King Kong</th>\n",
       "      <td>3</td>\n",
       "    </tr>\n",
       "    <tr>\n",
       "      <th rowspan=\"3\" valign=\"top\">actor_3_name</th>\n",
       "      <th>John Heard</th>\n",
       "      <td>8</td>\n",
       "    </tr>\n",
       "    <tr>\n",
       "      <th>Ben Mendelsohn</th>\n",
       "      <td>8</td>\n",
       "    </tr>\n",
       "    <tr>\n",
       "      <th>Steve Coogan</th>\n",
       "      <td>8</td>\n",
       "    </tr>\n",
       "    <tr>\n",
       "      <th rowspan=\"3\" valign=\"top\">plot_keywords</th>\n",
       "      <th>based on novel</th>\n",
       "      <td>4</td>\n",
       "    </tr>\n",
       "    <tr>\n",
       "      <th>one word title</th>\n",
       "      <td>3</td>\n",
       "    </tr>\n",
       "    <tr>\n",
       "      <th>assistant|experiment|frankenstein|medical student|scientist</th>\n",
       "      <td>3</td>\n",
       "    </tr>\n",
       "    <tr>\n",
       "      <th rowspan=\"3\" valign=\"top\">movie_imdb_link</th>\n",
       "      <th>http://www.imdb.com/title/tt0232500/?ref_=fn_tt_tt_1</th>\n",
       "      <td>3</td>\n",
       "    </tr>\n",
       "    <tr>\n",
       "      <th>http://www.imdb.com/title/tt3332064/?ref_=fn_tt_tt_1</th>\n",
       "      <td>3</td>\n",
       "    </tr>\n",
       "    <tr>\n",
       "      <th>http://www.imdb.com/title/tt0360717/?ref_=fn_tt_tt_1</th>\n",
       "      <td>3</td>\n",
       "    </tr>\n",
       "    <tr>\n",
       "      <th rowspan=\"3\" valign=\"top\">language</th>\n",
       "      <th>English</th>\n",
       "      <td>4704</td>\n",
       "    </tr>\n",
       "    <tr>\n",
       "      <th>French</th>\n",
       "      <td>73</td>\n",
       "    </tr>\n",
       "    <tr>\n",
       "      <th>Spanish</th>\n",
       "      <td>40</td>\n",
       "    </tr>\n",
       "    <tr>\n",
       "      <th rowspan=\"3\" valign=\"top\">country</th>\n",
       "      <th>USA</th>\n",
       "      <td>3807</td>\n",
       "    </tr>\n",
       "    <tr>\n",
       "      <th>UK</th>\n",
       "      <td>448</td>\n",
       "    </tr>\n",
       "    <tr>\n",
       "      <th>France</th>\n",
       "      <td>154</td>\n",
       "    </tr>\n",
       "    <tr>\n",
       "      <th rowspan=\"3\" valign=\"top\">content_rating</th>\n",
       "      <th>R</th>\n",
       "      <td>2118</td>\n",
       "    </tr>\n",
       "    <tr>\n",
       "      <th>PG-13</th>\n",
       "      <td>1461</td>\n",
       "    </tr>\n",
       "    <tr>\n",
       "      <th>PG</th>\n",
       "      <td>701</td>\n",
       "    </tr>\n",
       "  </tbody>\n",
       "</table>\n",
       "</div>"
      ],
      "text/plain": [
       "                                                                    Top 3 Value Counts, Categorical\n",
       "color           Color                                                                          4815\n",
       "                 Black and White                                                                209\n",
       "director_name   Steven Spielberg                                                                 26\n",
       "                Woody Allen                                                                      22\n",
       "                Clint Eastwood                                                                   20\n",
       "actor_2_name    Morgan Freeman                                                                   20\n",
       "                Charlize Theron                                                                  15\n",
       "                Brad Pitt                                                                        14\n",
       "genres          Drama                                                                           236\n",
       "                Comedy                                                                          209\n",
       "                Comedy|Drama                                                                    191\n",
       "actor_1_name    Robert De Niro                                                                   49\n",
       "                Johnny Depp                                                                      41\n",
       "                Nicolas Cage                                                                     33\n",
       "movie_title     Ben-Hur                                                                           3\n",
       "                Pan                                                                               3\n",
       "                King Kong                                                                         3\n",
       "actor_3_name    John Heard                                                                        8\n",
       "                Ben Mendelsohn                                                                    8\n",
       "                Steve Coogan                                                                      8\n",
       "plot_keywords   based on novel                                                                    4\n",
       "                one word title                                                                    3\n",
       "                assistant|experiment|frankenstein|medical stude...                                3\n",
       "movie_imdb_link http://www.imdb.com/title/tt0232500/?ref_=fn_tt...                                3\n",
       "                http://www.imdb.com/title/tt3332064/?ref_=fn_tt...                                3\n",
       "                http://www.imdb.com/title/tt0360717/?ref_=fn_tt...                                3\n",
       "language        English                                                                        4704\n",
       "                French                                                                           73\n",
       "                Spanish                                                                          40\n",
       "country         USA                                                                            3807\n",
       "                UK                                                                              448\n",
       "                France                                                                          154\n",
       "content_rating  R                                                                              2118\n",
       "                PG-13                                                                          1461\n",
       "                PG                                                                              701"
      ]
     },
     "execution_count": 16,
     "metadata": {},
     "output_type": "execute_result"
    }
   ],
   "source": [
    "values = pd.Series(dtype = object)\n",
    "for i in movies.columns[movies.dtypes == object]: \n",
    "    ser = movies[str(i)].value_counts().sort_values(ascending = False)[0:3]\n",
    "    values = pd.concat([values, ser])\n",
    "    \n",
    "values = pd.DataFrame(values) \n",
    "varr = np.array(values.iloc[:, 0])\n",
    "vals = pd.DataFrame(varr, index = [['color']*2+['director_name']*3+['actor_2_name']*3+['genres']*3+['actor_1_name']*3\n",
    "                              +['movie_title']*3+['actor_3_name']*3+['plot_keywords']*3+['movie_imdb_link']*3+\n",
    "                              ['language']*3+['country']*3+['content_rating']*3, values.index], columns = ['Top 3 Value Counts, Categorical'])\n",
    "vals"
   ]
  },
  {
   "cell_type": "code",
   "execution_count": 6,
   "id": "664ee7da",
   "metadata": {},
   "outputs": [
    {
     "data": {
      "text/html": [
       "<div>\n",
       "<style scoped>\n",
       "    .dataframe tbody tr th:only-of-type {\n",
       "        vertical-align: middle;\n",
       "    }\n",
       "\n",
       "    .dataframe tbody tr th {\n",
       "        vertical-align: top;\n",
       "    }\n",
       "\n",
       "    .dataframe thead th {\n",
       "        text-align: right;\n",
       "    }\n",
       "</style>\n",
       "<table border=\"1\" class=\"dataframe\">\n",
       "  <thead>\n",
       "    <tr style=\"text-align: right;\">\n",
       "      <th></th>\n",
       "      <th>Null Counts, Categorical</th>\n",
       "    </tr>\n",
       "  </thead>\n",
       "  <tbody>\n",
       "    <tr>\n",
       "      <th>color</th>\n",
       "      <td>19</td>\n",
       "    </tr>\n",
       "    <tr>\n",
       "      <th>director_name</th>\n",
       "      <td>104</td>\n",
       "    </tr>\n",
       "    <tr>\n",
       "      <th>actor_2_name</th>\n",
       "      <td>13</td>\n",
       "    </tr>\n",
       "    <tr>\n",
       "      <th>genres</th>\n",
       "      <td>0</td>\n",
       "    </tr>\n",
       "    <tr>\n",
       "      <th>actor_1_name</th>\n",
       "      <td>7</td>\n",
       "    </tr>\n",
       "    <tr>\n",
       "      <th>movie_title</th>\n",
       "      <td>0</td>\n",
       "    </tr>\n",
       "    <tr>\n",
       "      <th>actor_3_name</th>\n",
       "      <td>23</td>\n",
       "    </tr>\n",
       "    <tr>\n",
       "      <th>plot_keywords</th>\n",
       "      <td>153</td>\n",
       "    </tr>\n",
       "    <tr>\n",
       "      <th>movie_imdb_link</th>\n",
       "      <td>0</td>\n",
       "    </tr>\n",
       "    <tr>\n",
       "      <th>language</th>\n",
       "      <td>12</td>\n",
       "    </tr>\n",
       "    <tr>\n",
       "      <th>country</th>\n",
       "      <td>5</td>\n",
       "    </tr>\n",
       "    <tr>\n",
       "      <th>content_rating</th>\n",
       "      <td>303</td>\n",
       "    </tr>\n",
       "  </tbody>\n",
       "</table>\n",
       "</div>"
      ],
      "text/plain": [
       "                 Null Counts, Categorical\n",
       "color                                  19\n",
       "director_name                         104\n",
       "actor_2_name                           13\n",
       "genres                                  0\n",
       "actor_1_name                            7\n",
       "movie_title                             0\n",
       "actor_3_name                           23\n",
       "plot_keywords                         153\n",
       "movie_imdb_link                         0\n",
       "language                               12\n",
       "country                                 5\n",
       "content_rating                        303"
      ]
     },
     "execution_count": 6,
     "metadata": {},
     "output_type": "execute_result"
    }
   ],
   "source": [
    "null = pd.Series(movies[movies.columns[movies.dtypes == object]].isnull().sum(), name = 'Null Counts, Categorical')\n",
    "pd.DataFrame(null)"
   ]
  },
  {
   "cell_type": "code",
   "execution_count": 7,
   "id": "3b6a09e1",
   "metadata": {},
   "outputs": [
    {
     "data": {
      "text/html": [
       "<div>\n",
       "<style scoped>\n",
       "    .dataframe tbody tr th:only-of-type {\n",
       "        vertical-align: middle;\n",
       "    }\n",
       "\n",
       "    .dataframe tbody tr th {\n",
       "        vertical-align: top;\n",
       "    }\n",
       "\n",
       "    .dataframe thead th {\n",
       "        text-align: right;\n",
       "    }\n",
       "</style>\n",
       "<table border=\"1\" class=\"dataframe\">\n",
       "  <thead>\n",
       "    <tr style=\"text-align: right;\">\n",
       "      <th></th>\n",
       "      <th>Unique Counts, Categorical</th>\n",
       "    </tr>\n",
       "  </thead>\n",
       "  <tbody>\n",
       "    <tr>\n",
       "      <th>color</th>\n",
       "      <td>2</td>\n",
       "    </tr>\n",
       "    <tr>\n",
       "      <th>director_name</th>\n",
       "      <td>2398</td>\n",
       "    </tr>\n",
       "    <tr>\n",
       "      <th>actor_2_name</th>\n",
       "      <td>3032</td>\n",
       "    </tr>\n",
       "    <tr>\n",
       "      <th>genres</th>\n",
       "      <td>914</td>\n",
       "    </tr>\n",
       "    <tr>\n",
       "      <th>actor_1_name</th>\n",
       "      <td>2097</td>\n",
       "    </tr>\n",
       "    <tr>\n",
       "      <th>movie_title</th>\n",
       "      <td>4917</td>\n",
       "    </tr>\n",
       "    <tr>\n",
       "      <th>actor_3_name</th>\n",
       "      <td>3521</td>\n",
       "    </tr>\n",
       "    <tr>\n",
       "      <th>plot_keywords</th>\n",
       "      <td>4760</td>\n",
       "    </tr>\n",
       "    <tr>\n",
       "      <th>movie_imdb_link</th>\n",
       "      <td>4919</td>\n",
       "    </tr>\n",
       "    <tr>\n",
       "      <th>language</th>\n",
       "      <td>47</td>\n",
       "    </tr>\n",
       "    <tr>\n",
       "      <th>country</th>\n",
       "      <td>65</td>\n",
       "    </tr>\n",
       "    <tr>\n",
       "      <th>content_rating</th>\n",
       "      <td>18</td>\n",
       "    </tr>\n",
       "  </tbody>\n",
       "</table>\n",
       "</div>"
      ],
      "text/plain": [
       "                 Unique Counts, Categorical\n",
       "color                                     2\n",
       "director_name                          2398\n",
       "actor_2_name                           3032\n",
       "genres                                  914\n",
       "actor_1_name                           2097\n",
       "movie_title                            4917\n",
       "actor_3_name                           3521\n",
       "plot_keywords                          4760\n",
       "movie_imdb_link                        4919\n",
       "language                                 47\n",
       "country                                  65\n",
       "content_rating                           18"
      ]
     },
     "execution_count": 7,
     "metadata": {},
     "output_type": "execute_result"
    }
   ],
   "source": [
    "values = []\n",
    "for i in movies.columns[movies.dtypes == object]: \n",
    "    ser = len(movies[str(i)].value_counts())\n",
    "    values = values + [ser]\n",
    "    \n",
    "pd.DataFrame(values, index = [movies.columns[movies.dtypes == object]], columns = ['Unique Counts, Categorical'])"
   ]
  },
  {
   "cell_type": "markdown",
   "id": "19b5035f",
   "metadata": {},
   "source": [
    "##### Data Quality Check, Continuous Variables"
   ]
  },
  {
   "cell_type": "code",
   "execution_count": 11,
   "id": "5cdf7a76",
   "metadata": {},
   "outputs": [
    {
     "name": "stderr",
     "output_type": "stream",
     "text": [
      "/var/folders/6f/tmk9mhc93xz60c89qc9dr8kw0000gn/T/ipykernel_38289/1000149820.py:3: FutureWarning: The frame.append method is deprecated and will be removed from pandas in a future version. Use pandas.concat instead.\n",
      "  describe = describe.append(pd.Series(null_row, index = describe.columns, name = 'null count'))\n"
     ]
    },
    {
     "data": {
      "text/html": [
       "<div>\n",
       "<style scoped>\n",
       "    .dataframe tbody tr th:only-of-type {\n",
       "        vertical-align: middle;\n",
       "    }\n",
       "\n",
       "    .dataframe tbody tr th {\n",
       "        vertical-align: top;\n",
       "    }\n",
       "\n",
       "    .dataframe thead th {\n",
       "        text-align: right;\n",
       "    }\n",
       "</style>\n",
       "<table border=\"1\" class=\"dataframe\">\n",
       "  <thead>\n",
       "    <tr style=\"text-align: right;\">\n",
       "      <th></th>\n",
       "      <th>num_critic_for_reviews</th>\n",
       "      <th>duration</th>\n",
       "      <th>director_facebook_likes</th>\n",
       "      <th>actor_3_facebook_likes</th>\n",
       "      <th>actor_1_facebook_likes</th>\n",
       "      <th>gross</th>\n",
       "      <th>num_voted_users</th>\n",
       "      <th>cast_total_facebook_likes</th>\n",
       "      <th>facenumber_in_poster</th>\n",
       "      <th>num_user_for_reviews</th>\n",
       "      <th>budget</th>\n",
       "      <th>title_year</th>\n",
       "      <th>actor_2_facebook_likes</th>\n",
       "      <th>imdb_score</th>\n",
       "      <th>aspect_ratio</th>\n",
       "      <th>movie_facebook_likes</th>\n",
       "    </tr>\n",
       "  </thead>\n",
       "  <tbody>\n",
       "    <tr>\n",
       "      <th>count</th>\n",
       "      <td>4993.000000</td>\n",
       "      <td>5028.000000</td>\n",
       "      <td>4939.000000</td>\n",
       "      <td>5020.000000</td>\n",
       "      <td>5036.000000</td>\n",
       "      <td>4.159000e+03</td>\n",
       "      <td>5.043000e+03</td>\n",
       "      <td>5043.000000</td>\n",
       "      <td>5030.000000</td>\n",
       "      <td>5022.000000</td>\n",
       "      <td>4.551000e+03</td>\n",
       "      <td>4935.000000</td>\n",
       "      <td>5030.000000</td>\n",
       "      <td>5043.000000</td>\n",
       "      <td>4714.000000</td>\n",
       "      <td>5043.000000</td>\n",
       "    </tr>\n",
       "    <tr>\n",
       "      <th>mean</th>\n",
       "      <td>140.194272</td>\n",
       "      <td>107.201074</td>\n",
       "      <td>686.509212</td>\n",
       "      <td>645.009761</td>\n",
       "      <td>6560.047061</td>\n",
       "      <td>4.846841e+07</td>\n",
       "      <td>8.366816e+04</td>\n",
       "      <td>9699.063851</td>\n",
       "      <td>1.371173</td>\n",
       "      <td>272.770808</td>\n",
       "      <td>3.975262e+07</td>\n",
       "      <td>2002.470517</td>\n",
       "      <td>1651.754473</td>\n",
       "      <td>6.442138</td>\n",
       "      <td>2.220403</td>\n",
       "      <td>7525.964505</td>\n",
       "    </tr>\n",
       "    <tr>\n",
       "      <th>std</th>\n",
       "      <td>121.601675</td>\n",
       "      <td>25.197441</td>\n",
       "      <td>2813.328607</td>\n",
       "      <td>1665.041728</td>\n",
       "      <td>15020.759120</td>\n",
       "      <td>6.845299e+07</td>\n",
       "      <td>1.384853e+05</td>\n",
       "      <td>18163.799124</td>\n",
       "      <td>2.013576</td>\n",
       "      <td>377.982886</td>\n",
       "      <td>2.061149e+08</td>\n",
       "      <td>12.474599</td>\n",
       "      <td>4042.438863</td>\n",
       "      <td>1.125116</td>\n",
       "      <td>1.385113</td>\n",
       "      <td>19320.445110</td>\n",
       "    </tr>\n",
       "    <tr>\n",
       "      <th>min</th>\n",
       "      <td>1.000000</td>\n",
       "      <td>7.000000</td>\n",
       "      <td>0.000000</td>\n",
       "      <td>0.000000</td>\n",
       "      <td>0.000000</td>\n",
       "      <td>1.620000e+02</td>\n",
       "      <td>5.000000e+00</td>\n",
       "      <td>0.000000</td>\n",
       "      <td>0.000000</td>\n",
       "      <td>1.000000</td>\n",
       "      <td>2.180000e+02</td>\n",
       "      <td>1916.000000</td>\n",
       "      <td>0.000000</td>\n",
       "      <td>1.600000</td>\n",
       "      <td>1.180000</td>\n",
       "      <td>0.000000</td>\n",
       "    </tr>\n",
       "    <tr>\n",
       "      <th>25%</th>\n",
       "      <td>50.000000</td>\n",
       "      <td>93.000000</td>\n",
       "      <td>7.000000</td>\n",
       "      <td>133.000000</td>\n",
       "      <td>614.000000</td>\n",
       "      <td>5.340988e+06</td>\n",
       "      <td>8.593500e+03</td>\n",
       "      <td>1411.000000</td>\n",
       "      <td>0.000000</td>\n",
       "      <td>65.000000</td>\n",
       "      <td>6.000000e+06</td>\n",
       "      <td>1999.000000</td>\n",
       "      <td>281.000000</td>\n",
       "      <td>5.800000</td>\n",
       "      <td>1.850000</td>\n",
       "      <td>0.000000</td>\n",
       "    </tr>\n",
       "    <tr>\n",
       "      <th>50%</th>\n",
       "      <td>110.000000</td>\n",
       "      <td>103.000000</td>\n",
       "      <td>49.000000</td>\n",
       "      <td>371.500000</td>\n",
       "      <td>988.000000</td>\n",
       "      <td>2.551750e+07</td>\n",
       "      <td>3.435900e+04</td>\n",
       "      <td>3090.000000</td>\n",
       "      <td>1.000000</td>\n",
       "      <td>156.000000</td>\n",
       "      <td>2.000000e+07</td>\n",
       "      <td>2005.000000</td>\n",
       "      <td>595.000000</td>\n",
       "      <td>6.600000</td>\n",
       "      <td>2.350000</td>\n",
       "      <td>166.000000</td>\n",
       "    </tr>\n",
       "    <tr>\n",
       "      <th>75%</th>\n",
       "      <td>195.000000</td>\n",
       "      <td>118.000000</td>\n",
       "      <td>194.500000</td>\n",
       "      <td>636.000000</td>\n",
       "      <td>11000.000000</td>\n",
       "      <td>6.230944e+07</td>\n",
       "      <td>9.630900e+04</td>\n",
       "      <td>13756.500000</td>\n",
       "      <td>2.000000</td>\n",
       "      <td>326.000000</td>\n",
       "      <td>4.500000e+07</td>\n",
       "      <td>2011.000000</td>\n",
       "      <td>918.000000</td>\n",
       "      <td>7.200000</td>\n",
       "      <td>2.350000</td>\n",
       "      <td>3000.000000</td>\n",
       "    </tr>\n",
       "    <tr>\n",
       "      <th>max</th>\n",
       "      <td>813.000000</td>\n",
       "      <td>511.000000</td>\n",
       "      <td>23000.000000</td>\n",
       "      <td>23000.000000</td>\n",
       "      <td>640000.000000</td>\n",
       "      <td>7.605058e+08</td>\n",
       "      <td>1.689764e+06</td>\n",
       "      <td>656730.000000</td>\n",
       "      <td>43.000000</td>\n",
       "      <td>5060.000000</td>\n",
       "      <td>1.221550e+10</td>\n",
       "      <td>2016.000000</td>\n",
       "      <td>137000.000000</td>\n",
       "      <td>9.500000</td>\n",
       "      <td>16.000000</td>\n",
       "      <td>349000.000000</td>\n",
       "    </tr>\n",
       "    <tr>\n",
       "      <th>null count</th>\n",
       "      <td>50.000000</td>\n",
       "      <td>15.000000</td>\n",
       "      <td>104.000000</td>\n",
       "      <td>23.000000</td>\n",
       "      <td>7.000000</td>\n",
       "      <td>8.840000e+02</td>\n",
       "      <td>0.000000e+00</td>\n",
       "      <td>0.000000</td>\n",
       "      <td>13.000000</td>\n",
       "      <td>21.000000</td>\n",
       "      <td>4.920000e+02</td>\n",
       "      <td>108.000000</td>\n",
       "      <td>13.000000</td>\n",
       "      <td>0.000000</td>\n",
       "      <td>329.000000</td>\n",
       "      <td>0.000000</td>\n",
       "    </tr>\n",
       "  </tbody>\n",
       "</table>\n",
       "</div>"
      ],
      "text/plain": [
       "            num_critic_for_reviews     duration  director_facebook_likes  \\\n",
       "count                  4993.000000  5028.000000              4939.000000   \n",
       "mean                    140.194272   107.201074               686.509212   \n",
       "std                     121.601675    25.197441              2813.328607   \n",
       "min                       1.000000     7.000000                 0.000000   \n",
       "25%                      50.000000    93.000000                 7.000000   \n",
       "50%                     110.000000   103.000000                49.000000   \n",
       "75%                     195.000000   118.000000               194.500000   \n",
       "max                     813.000000   511.000000             23000.000000   \n",
       "null count               50.000000    15.000000               104.000000   \n",
       "\n",
       "            actor_3_facebook_likes  actor_1_facebook_likes         gross  \\\n",
       "count                  5020.000000             5036.000000  4.159000e+03   \n",
       "mean                    645.009761             6560.047061  4.846841e+07   \n",
       "std                    1665.041728            15020.759120  6.845299e+07   \n",
       "min                       0.000000                0.000000  1.620000e+02   \n",
       "25%                     133.000000              614.000000  5.340988e+06   \n",
       "50%                     371.500000              988.000000  2.551750e+07   \n",
       "75%                     636.000000            11000.000000  6.230944e+07   \n",
       "max                   23000.000000           640000.000000  7.605058e+08   \n",
       "null count               23.000000                7.000000  8.840000e+02   \n",
       "\n",
       "            num_voted_users  cast_total_facebook_likes  facenumber_in_poster  \\\n",
       "count          5.043000e+03                5043.000000           5030.000000   \n",
       "mean           8.366816e+04                9699.063851              1.371173   \n",
       "std            1.384853e+05               18163.799124              2.013576   \n",
       "min            5.000000e+00                   0.000000              0.000000   \n",
       "25%            8.593500e+03                1411.000000              0.000000   \n",
       "50%            3.435900e+04                3090.000000              1.000000   \n",
       "75%            9.630900e+04               13756.500000              2.000000   \n",
       "max            1.689764e+06              656730.000000             43.000000   \n",
       "null count     0.000000e+00                   0.000000             13.000000   \n",
       "\n",
       "            num_user_for_reviews        budget   title_year  \\\n",
       "count                5022.000000  4.551000e+03  4935.000000   \n",
       "mean                  272.770808  3.975262e+07  2002.470517   \n",
       "std                   377.982886  2.061149e+08    12.474599   \n",
       "min                     1.000000  2.180000e+02  1916.000000   \n",
       "25%                    65.000000  6.000000e+06  1999.000000   \n",
       "50%                   156.000000  2.000000e+07  2005.000000   \n",
       "75%                   326.000000  4.500000e+07  2011.000000   \n",
       "max                  5060.000000  1.221550e+10  2016.000000   \n",
       "null count             21.000000  4.920000e+02   108.000000   \n",
       "\n",
       "            actor_2_facebook_likes   imdb_score  aspect_ratio  \\\n",
       "count                  5030.000000  5043.000000   4714.000000   \n",
       "mean                   1651.754473     6.442138      2.220403   \n",
       "std                    4042.438863     1.125116      1.385113   \n",
       "min                       0.000000     1.600000      1.180000   \n",
       "25%                     281.000000     5.800000      1.850000   \n",
       "50%                     595.000000     6.600000      2.350000   \n",
       "75%                     918.000000     7.200000      2.350000   \n",
       "max                  137000.000000     9.500000     16.000000   \n",
       "null count               13.000000     0.000000    329.000000   \n",
       "\n",
       "            movie_facebook_likes  \n",
       "count                5043.000000  \n",
       "mean                 7525.964505  \n",
       "std                 19320.445110  \n",
       "min                     0.000000  \n",
       "25%                     0.000000  \n",
       "50%                   166.000000  \n",
       "75%                  3000.000000  \n",
       "max                349000.000000  \n",
       "null count              0.000000  "
      ]
     },
     "execution_count": 11,
     "metadata": {},
     "output_type": "execute_result"
    }
   ],
   "source": [
    "null_row = movies[movies.describe().columns].isnull().sum().to_dict()\n",
    "describe = movies.describe()\n",
    "describe = describe.append(pd.Series(null_row, index = describe.columns, name = 'null count'))\n",
    "describe"
   ]
  }
 ],
 "metadata": {
  "kernelspec": {
   "display_name": "Python 3 (ipykernel)",
   "language": "python",
   "name": "python3"
  },
  "language_info": {
   "codemirror_mode": {
    "name": "ipython",
    "version": 3
   },
   "file_extension": ".py",
   "mimetype": "text/x-python",
   "name": "python",
   "nbconvert_exporter": "python",
   "pygments_lexer": "ipython3",
   "version": "3.9.12"
  }
 },
 "nbformat": 4,
 "nbformat_minor": 5
}
