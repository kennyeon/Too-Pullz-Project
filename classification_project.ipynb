{
 "cells": [
  {
   "cell_type": "code",
   "execution_count": 297,
   "id": "d08e502b",
   "metadata": {},
   "outputs": [],
   "source": [
    "import pandas as pd\n",
    "import numpy as np\n",
    "import statsmodels.formula.api as sm\n",
    "import seaborn as sns\n",
    "import matplotlib.pyplot as plt\n",
    "import os\n",
    "import math"
   ]
  },
  {
   "cell_type": "markdown",
   "id": "815b6ef1",
   "metadata": {},
   "source": [
    "Response: imdb_score"
   ]
  },
  {
   "cell_type": "code",
   "execution_count": 298,
   "id": "22746968",
   "metadata": {},
   "outputs": [
    {
     "data": {
      "text/plain": [
       "['color',\n",
       " 'director_name',\n",
       " 'num_critic_for_reviews',\n",
       " 'duration',\n",
       " 'director_facebook_likes',\n",
       " 'actor_3_facebook_likes',\n",
       " 'actor_2_name',\n",
       " 'actor_1_facebook_likes',\n",
       " 'gross',\n",
       " 'genres',\n",
       " 'actor_1_name',\n",
       " 'movie_title',\n",
       " 'num_voted_users',\n",
       " 'cast_total_facebook_likes',\n",
       " 'actor_3_name',\n",
       " 'facenumber_in_poster',\n",
       " 'plot_keywords',\n",
       " 'movie_imdb_link',\n",
       " 'num_user_for_reviews',\n",
       " 'language',\n",
       " 'country',\n",
       " 'content_rating',\n",
       " 'budget',\n",
       " 'title_year',\n",
       " 'actor_2_facebook_likes',\n",
       " 'imdb_score',\n",
       " 'aspect_ratio',\n",
       " 'movie_facebook_likes']"
      ]
     },
     "execution_count": 298,
     "metadata": {},
     "output_type": "execute_result"
    }
   ],
   "source": [
    "movies = pd.read_csv('movie_metadata.csv')\n",
    "list(movies.columns)"
   ]
  },
  {
   "cell_type": "markdown",
   "id": "cc07e98c",
   "metadata": {},
   "source": [
    "# IMDB SCORE\n",
    "#### If score is above 75% quartile movie is good (1), else bad (0)"
   ]
  },
  {
   "cell_type": "code",
   "execution_count": 300,
   "id": "f756903e",
   "metadata": {},
   "outputs": [],
   "source": [
    "good_score = movies['imdb_score'].quantile(0.75)\n",
    "movies['good_movie'] = movies['imdb_score'].apply(lambda x: 1 if x >= good_score else 0)"
   ]
  },
  {
   "cell_type": "code",
   "execution_count": 301,
   "id": "fdd274fa",
   "metadata": {},
   "outputs": [
    {
     "data": {
      "text/plain": [
       "good_movie                   1.000000\n",
       "imdb_score                   0.681022\n",
       "num_voted_users              0.364947\n",
       "num_user_for_reviews         0.272405\n",
       "movie_facebook_likes         0.232860\n",
       "num_critic_for_reviews       0.221334\n",
       "duration                     0.200878\n",
       "gross                        0.165646\n",
       "director_facebook_likes      0.163755\n",
       "aspect_ratio                 0.066005\n",
       "actor_2_facebook_likes       0.043753\n",
       "cast_total_facebook_likes    0.042055\n",
       "actor_1_facebook_likes       0.038629\n",
       "actor_3_facebook_likes       0.027265\n",
       "budget                       0.000898\n",
       "facenumber_in_poster        -0.066470\n",
       "title_year                  -0.197580\n",
       "dtype: float64"
      ]
     },
     "execution_count": 301,
     "metadata": {},
     "output_type": "execute_result"
    }
   ],
   "source": [
    "movies.corrwith(movies.good_movie).sort_values(ascending = False)"
   ]
  },
  {
   "cell_type": "code",
   "execution_count": 302,
   "id": "4ba2f54f",
   "metadata": {},
   "outputs": [
    {
     "name": "stdout",
     "output_type": "stream",
     "text": [
      "color                         19\n",
      "director_name                104\n",
      "num_critic_for_reviews        50\n",
      "duration                      15\n",
      "director_facebook_likes      104\n",
      "actor_3_facebook_likes        23\n",
      "actor_2_name                  13\n",
      "actor_1_facebook_likes         7\n",
      "gross                        884\n",
      "genres                         0\n",
      "actor_1_name                   7\n",
      "movie_title                    0\n",
      "num_voted_users                0\n",
      "cast_total_facebook_likes      0\n",
      "actor_3_name                  23\n",
      "facenumber_in_poster          13\n",
      "plot_keywords                153\n",
      "movie_imdb_link                0\n",
      "num_user_for_reviews          21\n",
      "language                      12\n",
      "country                        5\n",
      "content_rating               303\n",
      "budget                       492\n",
      "title_year                   108\n",
      "actor_2_facebook_likes        13\n",
      "imdb_score                     0\n",
      "aspect_ratio                 329\n",
      "movie_facebook_likes           0\n",
      "good_movie                     0\n",
      "dtype: int64\n"
     ]
    }
   ],
   "source": [
    "missing_values_sum = movies.isna().sum()\n",
    "print(missing_values_sum)"
   ]
  },
  {
   "cell_type": "markdown",
   "id": "bd15aa9b",
   "metadata": {},
   "source": [
    "# EDA"
   ]
  },
  {
   "cell_type": "markdown",
   "id": "228d2c65",
   "metadata": {},
   "source": [
    "### GENRE"
   ]
  },
  {
   "cell_type": "code",
   "execution_count": 303,
   "id": "7ee7f719",
   "metadata": {
    "scrolled": true
   },
   "outputs": [
    {
     "data": {
      "image/png": "[encoded data removed]",
      "text/plain": [
       "<Figure size 1728x576 with 1 Axes>"
      ]
     },
     "metadata": {
      "needs_background": "light"
     },
     "output_type": "display_data"
    }
   ],
   "source": [
    "genres_df = movies.loc[:, [\"genres\", \"imdb_score\"]].copy()\n",
    "\n",
    "genres_df[\"Action\"] = [1 if \"Action\" in genre else 0 for genre in genres_df[\"genres\"]]\n",
    "genres_df[\"Adventure\"] = [1 if \"Adventure\" in genre else 0 for genre in genres_df[\"genres\"]]\n",
    "genres_df[\"Animation\"] = [1 if \"Animation\" in genre else 0 for genre in genres_df[\"genres\"]]\n",
    "genres_df[\"Biography\"] = [1 if \"Biography\" in genre else 0 for genre in genres_df[\"genres\"]]\n",
    "genres_df[\"Comedy\"] = [1 if \"Comedy\" in genre else 0 for genre in genres_df[\"genres\"]]\n",
    "genres_df[\"Crime\"] = [1 if \"Crime\" in genre else 0 for genre in genres_df[\"genres\"]]\n",
    "genres_df[\"Documentary\"] = [1 if \"Documentary\" in genre else 0 for genre in genres_df[\"genres\"]]\n",
    "genres_df[\"Drama\"] = [1 if \"Drama\" in genre else 0 for genre in genres_df[\"genres\"]]\n",
    "genres_df[\"Family\"] = [1 if \"Family\" in genre else 0 for genre in genres_df[\"genres\"]]\n",
    "genres_df[\"Fantasy\"] = [1 if \"Fantasy\" in genre else 0 for genre in genres_df[\"genres\"]]\n",
    "genres_df[\"Film-Noir\"] = [1 if \"Film-Noir\" in genre else 0 for genre in genres_df[\"genres\"]]\n",
    "genres_df[\"History\"] = [1 if \"History\" in genre else 0 for genre in genres_df[\"genres\"]]\n",
    "genres_df[\"Horror\"] = [1 if \"Horror\" in genre else 0 for genre in genres_df[\"genres\"]]\n",
    "genres_df[\"Musical\"] = [1 if \"Musical\" in genre else 0 for genre in genres_df[\"genres\"]]\n",
    "genres_df[\"Mystery\"] = [1 if \"Mystery\" in genre else 0 for genre in genres_df[\"genres\"]]\n",
    "genres_df[\"News\"] = [1 if \"News\" in genre else 0 for genre in genres_df[\"genres\"]]\n",
    "genres_df[\"Romance\"] = [1 if \"Romance\" in genre else 0 for genre in genres_df[\"genres\"]]\n",
    "genres_df[\"Sci-Fi\"] = [1 if \"Sci-Fi\" in genre else 0 for genre in genres_df[\"genres\"]]\n",
    "genres_df[\"Short\"] = [1 if \"Short\" in genre else 0 for genre in genres_df[\"genres\"]]\n",
    "genres_df[\"Sport\"] = [1 if \"Sport\" in genre else 0 for genre in genres_df[\"genres\"]]\n",
    "genres_df[\"Thriller\"] = [1 if \"Thriller\" in genre else 0 for genre in genres_df[\"genres\"]]\n",
    "genres_df[\"War\"] = [1 if \"War\" in genre else 0 for genre in genres_df[\"genres\"]]\n",
    "genres_df[\"Western\"] = [1 if \"Western\" in genre else 0 for genre in genres_df[\"genres\"]]\n",
    "\n",
    "\n",
    "means = []\n",
    "for column in genres_df.columns[2:]:\n",
    "    means.append(genres_df.loc[genres_df[column] == 1, \"imdb_score\"].mean())\n",
    "\n",
    "    \n",
    "fig, ax = plt.subplots(figsize=(24, 8))\n",
    "plt.bar(x=genres_df.columns[2:], height=means)\n",
    "plt.title(\"Average imdb scores for different genres\")\n",
    "plt.show()"
   ]
  },
  {
   "cell_type": "markdown",
   "id": "369342d2",
   "metadata": {},
   "source": [
    "### Country"
   ]
  },
  {
   "cell_type": "code",
   "execution_count": 304,
   "id": "07c92306",
   "metadata": {},
   "outputs": [],
   "source": [
    "movies['country'] = pd.Categorical(movies['country'])\n",
    "\n",
    "movies['country'] = movies['country'].cat.add_categories('Others')\n",
    "\n",
    "movies.loc[~movies['country'].isin(['USA', 'UK']), 'country'] = 'Others'\n",
    "\n",
    "movies['country'] = pd.Categorical(movies['country'])"
   ]
  },
  {
   "cell_type": "code",
   "execution_count": 305,
   "id": "ffcbcb83",
   "metadata": {},
   "outputs": [],
   "source": [
    "# Create dummy variables for the 'country' column\n",
    "dummies = pd.get_dummies(movies['country'], prefix = 'country')\n",
    "\n",
    "# Add the dummy variables to the original DataFrame\n",
    "movies = pd.concat([movies, dummies], axis=1)\n",
    "\n",
    "# Drop the original 'country' column\n",
    "movies.drop('country', axis=1, inplace=True)"
   ]
  },
  {
   "cell_type": "markdown",
   "id": "946400cf",
   "metadata": {},
   "source": [
    "### Facebook likes"
   ]
  },
  {
   "cell_type": "code",
   "execution_count": 306,
   "id": "fe74d981",
   "metadata": {},
   "outputs": [],
   "source": [
    "#combining all actor facebook likes\n",
    "movies['actors_facebook_likes'] = movies['actor_1_facebook_likes'] + movies['actor_2_facebook_likes'] + movies['actor_3_facebook_likes']"
   ]
  },
  {
   "cell_type": "code",
   "execution_count": 307,
   "id": "c6e59a62",
   "metadata": {},
   "outputs": [
    {
     "data": {
      "text/plain": [
       "<seaborn.axisgrid.FacetGrid at 0x7f7b54cf2fd0>"
      ]
     },
     "execution_count": 307,
     "metadata": {},
     "output_type": "execute_result"
    },
    {
     "data": {
      "image/png": "[encoded data removed]",
      "text/plain": [
       "<Figure size 360x360 with 1 Axes>"
      ]
     },
     "metadata": {
      "needs_background": "light"
     },
     "output_type": "display_data"
    }
   ],
   "source": [
    "sns.displot(movies, x=\"actors_facebook_likes\")"
   ]
  },
  {
   "cell_type": "code",
   "execution_count": 308,
   "id": "dd2c757a",
   "metadata": {},
   "outputs": [],
   "source": [
    "# If the actors have facebook likes greater than 75% of the others, they are famous (1) else not (0)\n",
    "famous = movies['actors_facebook_likes'].quantile(0.7)\n",
    "movies['actors_facebook_likes'] = movies['actors_facebook_likes'].apply(lambda x: 1 if x > famous else 0)"
   ]
  },
  {
   "cell_type": "markdown",
   "id": "bb4a9b05",
   "metadata": {},
   "source": [
    "### Budget"
   ]
  },
  {
   "cell_type": "code",
   "execution_count": 309,
   "id": "a074d96d",
   "metadata": {},
   "outputs": [
    {
     "data": {
      "text/plain": [
       "<seaborn.axisgrid.FacetGrid at 0x7f7ba1108cd0>"
      ]
     },
     "execution_count": 309,
     "metadata": {},
     "output_type": "execute_result"
    },
    {
     "data": {
      "image/png": "[encoded data removed]",
      "text/plain": [
       "<Figure size 360x360 with 1 Axes>"
      ]
     },
     "metadata": {
      "needs_background": "light"
     },
     "output_type": "display_data"
    }
   ],
   "source": [
    "sns.displot(movies, x=\"budget\")"
   ]
  },
  {
   "cell_type": "code",
   "execution_count": 310,
   "id": "baf27cce",
   "metadata": {},
   "outputs": [
    {
     "name": "stdout",
     "output_type": "stream",
     "text": [
      "MAX: 12215500000.0 , MIN: 218.0 , AVG: 39752620.436387606\n"
     ]
    }
   ],
   "source": [
    "print('MAX:', movies['budget'].max(), ', MIN:', movies['budget'].min(), ', AVG:', movies['budget'].mean())"
   ]
  },
  {
   "cell_type": "code",
   "execution_count": 311,
   "id": "729335cd",
   "metadata": {},
   "outputs": [],
   "source": [
    "# if budget > average, expensive (1), else cheap (0)\n",
    "movies['budget'] = movies['budget'].apply(lambda x: 1 if x > movies['budget'].mean() else 0)"
   ]
  },
  {
   "cell_type": "markdown",
   "id": "7a172c9e",
   "metadata": {},
   "source": [
    "## Check correlation"
   ]
  },
  {
   "cell_type": "code",
   "execution_count": 312,
   "id": "0ab93b2a",
   "metadata": {},
   "outputs": [
    {
     "data": {
      "text/plain": [
       "good_movie                      1.000000\n",
       "imdb_score                      0.681022\n",
       "num_voted_users                 0.364947\n",
       "num_user_for_reviews            0.272405\n",
       "movie_facebook_likes            0.232860\n",
       "                                  ...   \n",
       "country_Taiwan                       NaN\n",
       "country_Thailand                     NaN\n",
       "country_Turkey                       NaN\n",
       "country_United Arab Emirates         NaN\n",
       "country_West Germany                 NaN\n",
       "Length: 84, dtype: float64"
      ]
     },
     "execution_count": 312,
     "metadata": {},
     "output_type": "execute_result"
    }
   ],
   "source": [
    "movies.corrwith(movies.good_movie).sort_values(ascending = False)"
   ]
  },
  {
   "cell_type": "markdown",
   "id": "e8c3d18b",
   "metadata": {},
   "source": [
    "# CREATING THE MODEL"
   ]
  },
  {
   "cell_type": "code",
   "execution_count": 313,
   "id": "474d93d2",
   "metadata": {},
   "outputs": [
    {
     "name": "stdout",
     "output_type": "stream",
     "text": [
      "Optimization terminated successfully.\n",
      "         Current function value: 0.512483\n",
      "         Iterations 15\n",
      "                           Logit Regression Results                           \n",
      "==============================================================================\n",
      "Dep. Variable:             good_movie   No. Observations:                 4923\n",
      "Model:                          Logit   Df Residuals:                     4914\n",
      "Method:                           MLE   Df Model:                            8\n",
      "Date:                Tue, 28 Feb 2023   Pseudo R-squ.:                  0.1201\n",
      "Time:                        00:13:54   Log-Likelihood:                -2523.0\n",
      "converged:                       True   LL-Null:                       -2867.2\n",
      "Covariance Type:            nonrobust   LLR p-value:                2.180e-143\n",
      "=================================================================================================================\n",
      "                                                    coef    std err          z      P>|z|      [0.025      0.975]\n",
      "-----------------------------------------------------------------------------------------------------------------\n",
      "Intercept                                        40.0321        nan        nan        nan         nan         nan\n",
      "duration                                          0.0271      0.002     14.913      0.000       0.024       0.031\n",
      "title_year                                       -0.0285      0.003    -10.443      0.000      -0.034      -0.023\n",
      "director_facebook_likes                           0.0001   2.12e-05      5.351      0.000    7.19e-05       0.000\n",
      "actors_facebook_likes                             0.3784      0.083      4.578      0.000       0.216       0.540\n",
      "director_facebook_likes:actors_facebook_likes -3.635e-05   2.52e-05     -1.440      0.150   -8.58e-05    1.31e-05\n",
      "country_UK                                       13.5154        nan        nan        nan         nan         nan\n",
      "country_USA                                      12.8929        nan        nan        nan         nan         nan\n",
      "country_Others                                   13.6238        nan        nan        nan         nan         nan\n",
      "budget                                           -0.5981      0.091     -6.585      0.000      -0.776      -0.420\n",
      "=================================================================================================================\n"
     ]
    }
   ],
   "source": [
    "logit_model = sm.logit(formula= 'good_movie ~ duration + title_year + director_facebook_likes * actors_facebook_likes + country_UK + country_USA + country_Others + budget', data = movies).fit()\n",
    "print(logit_model.summary())"
   ]
  },
  {
   "cell_type": "code",
   "execution_count": 314,
   "id": "3771ef26",
   "metadata": {},
   "outputs": [],
   "source": [
    "def confusion_matrix_train(model,cutoff=0.46):\n",
    "    # Confusion matrix\n",
    "    cm_df = pd.DataFrame(model.pred_table(threshold = cutoff))\n",
    "    #Formatting the confusion matrix\n",
    "    cm_df.columns = ['Predicted 0', 'Predicted 1'] \n",
    "    cm_df = cm_df.rename(index={0: 'Actual 0',1: 'Actual 1'})\n",
    "    cm = np.array(cm_df)\n",
    "    # Calculate the accuracy\n",
    "    accuracy = (cm[0,0]+cm[1,1])/cm.sum()\n",
    "    fnr = (cm[1,0])/(cm[1,0]+cm[1,1])\n",
    "    precision = (cm[1,1])/(cm[0,1]+cm[1,1])\n",
    "    fpr = (cm[0,1])/(cm[0,0]+cm[0,1])\n",
    "    tpr = (cm[1,1])/(cm[1,0]+cm[1,1])\n",
    "    sns.heatmap(cm_df, annot=True, cmap='Blues', fmt='g')\n",
    "    plt.ylabel(\"Actual Values\")\n",
    "    plt.xlabel(\"Predicted Values\")\n",
    "    print(\"Classification accuracy = {:.1%}\".format(accuracy))\n",
    "    print(\"Precision = {:.1%}\".format(precision))\n",
    "    print(\"TPR or Recall = {:.1%}\".format(tpr))\n",
    "    print(\"FNR = {:.1%}\".format(fnr))\n",
    "    print(\"FPR = {:.1%}\".format(fpr))"
   ]
  },
  {
   "cell_type": "code",
   "execution_count": 315,
   "id": "30960832",
   "metadata": {},
   "outputs": [
    {
     "name": "stdout",
     "output_type": "stream",
     "text": [
      "Classification accuracy = 76.4%\n",
      "Precision = 63.5%\n",
      "TPR or Recall = 29.4%\n",
      "FNR = 70.6%\n",
      "FPR = 6.2%\n"
     ]
    },
    {
     "data": {
      "image/png": "[encoded data removed]",
      "text/plain": [
       "<Figure size 432x288 with 2 Axes>"
      ]
     },
     "metadata": {
      "needs_background": "light"
     },
     "output_type": "display_data"
    }
   ],
   "source": [
    "confusion_matrix_train(logit_model)"
   ]
  }
 ],
 "metadata": {
  "kernelspec": {
   "display_name": "Python 3 (ipykernel)",
   "language": "python",
   "name": "python3"
  },
  "language_info": {
   "codemirror_mode": {
    "name": "ipython",
    "version": 3
   },
   "file_extension": ".py",
   "mimetype": "text/x-python",
   "name": "python",
   "nbconvert_exporter": "python",
   "pygments_lexer": "ipython3",
   "version": "3.9.12"
  }
 },
 "nbformat": 4,
 "nbformat_minor": 5
}
