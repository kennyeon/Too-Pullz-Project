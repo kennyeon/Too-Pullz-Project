{
 "cells": [
  {
   "cell_type": "code",
   "execution_count": 1,
   "id": "d08e502b",
   "metadata": {},
   "outputs": [],
   "source": [
    "import pandas as pd\n",
    "import numpy as np\n",
    "import statsmodels.formula.api as sm\n",
    "import seaborn as sns\n",
    "import matplotlib.pyplot as plt\n",
    "from sklearn.metrics import roc_curve, auc\n",
    "import os\n",
    "import math"
   ]
  },
  {
   "cell_type": "markdown",
   "id": "815b6ef1",
   "metadata": {},
   "source": [
    "Response: imdb_score"
   ]
  },
  {
   "cell_type": "code",
   "execution_count": 2,
   "id": "22746968",
   "metadata": {},
   "outputs": [
    {
     "data": {
      "text/plain": [
       "['color',\n",
       " 'director_name',\n",
       " 'num_critic_for_reviews',\n",
       " 'duration',\n",
       " 'director_facebook_likes',\n",
       " 'actor_3_facebook_likes',\n",
       " 'actor_2_name',\n",
       " 'actor_1_facebook_likes',\n",
       " 'gross',\n",
       " 'genres',\n",
       " 'actor_1_name',\n",
       " 'movie_title',\n",
       " 'num_voted_users',\n",
       " 'cast_total_facebook_likes',\n",
       " 'actor_3_name',\n",
       " 'facenumber_in_poster',\n",
       " 'plot_keywords',\n",
       " 'movie_imdb_link',\n",
       " 'num_user_for_reviews',\n",
       " 'language',\n",
       " 'country',\n",
       " 'content_rating',\n",
       " 'budget',\n",
       " 'title_year',\n",
       " 'actor_2_facebook_likes',\n",
       " 'imdb_score',\n",
       " 'aspect_ratio',\n",
       " 'movie_facebook_likes']"
      ]
     },
     "execution_count": 2,
     "metadata": {},
     "output_type": "execute_result"
    }
   ],
   "source": [
    "movies = pd.read_csv('movie_metadata.csv')\n",
    "list(movies.columns)"
   ]
  },
  {
   "cell_type": "markdown",
   "id": "cc07e98c",
   "metadata": {},
   "source": [
    "# IMDB SCORE\n",
    "#### If score is above 75% quartile movie is good (1), else bad (0)"
   ]
  },
  {
   "cell_type": "code",
   "execution_count": 3,
   "id": "f756903e",
   "metadata": {},
   "outputs": [],
   "source": [
    "good_score = movies['imdb_score'].quantile(0.75)\n",
    "movies['good_movie'] = movies['imdb_score'].apply(lambda x: 1 if x >= good_score else 0)"
   ]
  },
  {
   "cell_type": "code",
   "execution_count": 4,
   "id": "fdd274fa",
   "metadata": {},
   "outputs": [
    {
     "data": {
      "text/plain": [
       "good_movie                   1.000000\n",
       "imdb_score                   0.681022\n",
       "num_voted_users              0.364947\n",
       "num_user_for_reviews         0.272405\n",
       "movie_facebook_likes         0.232860\n",
       "num_critic_for_reviews       0.221334\n",
       "duration                     0.200878\n",
       "gross                        0.165646\n",
       "director_facebook_likes      0.163755\n",
       "aspect_ratio                 0.066005\n",
       "actor_2_facebook_likes       0.043753\n",
       "cast_total_facebook_likes    0.042055\n",
       "actor_1_facebook_likes       0.038629\n",
       "actor_3_facebook_likes       0.027265\n",
       "budget                       0.000898\n",
       "facenumber_in_poster        -0.066470\n",
       "title_year                  -0.197580\n",
       "dtype: float64"
      ]
     },
     "execution_count": 4,
     "metadata": {},
     "output_type": "execute_result"
    }
   ],
   "source": [
    "movies.corrwith(movies.good_movie).sort_values(ascending = False)"
   ]
  },
  {
   "cell_type": "code",
   "execution_count": 5,
   "id": "4ba2f54f",
   "metadata": {},
   "outputs": [
    {
     "name": "stdout",
     "output_type": "stream",
     "text": [
      "color                         19\n",
      "director_name                104\n",
      "num_critic_for_reviews        50\n",
      "duration                      15\n",
      "director_facebook_likes      104\n",
      "actor_3_facebook_likes        23\n",
      "actor_2_name                  13\n",
      "actor_1_facebook_likes         7\n",
      "gross                        884\n",
      "genres                         0\n",
      "actor_1_name                   7\n",
      "movie_title                    0\n",
      "num_voted_users                0\n",
      "cast_total_facebook_likes      0\n",
      "actor_3_name                  23\n",
      "facenumber_in_poster          13\n",
      "plot_keywords                153\n",
      "movie_imdb_link                0\n",
      "num_user_for_reviews          21\n",
      "language                      12\n",
      "country                        5\n",
      "content_rating               303\n",
      "budget                       492\n",
      "title_year                   108\n",
      "actor_2_facebook_likes        13\n",
      "imdb_score                     0\n",
      "aspect_ratio                 329\n",
      "movie_facebook_likes           0\n",
      "good_movie                     0\n",
      "dtype: int64\n"
     ]
    }
   ],
   "source": [
    "missing_values_sum = movies.isna().sum()\n",
    "print(missing_values_sum)"
   ]
  },
  {
   "cell_type": "markdown",
   "id": "bd15aa9b",
   "metadata": {},
   "source": [
    "# EDA"
   ]
  },
  {
   "cell_type": "markdown",
   "id": "228d2c65",
   "metadata": {},
   "source": [
    "### GENRE"
   ]
  },
  {
   "cell_type": "code",
   "execution_count": 6,
   "id": "7ee7f719",
   "metadata": {
    "scrolled": true
   },
   "outputs": [
    {
     "data": {
      "image/png": "[encoded data removed]",
      "text/plain": [
       "<Figure size 1728x576 with 1 Axes>"
      ]
     },
     "metadata": {
      "needs_background": "light"
     },
     "output_type": "display_data"
    }
   ],
   "source": [
    "genres_df = movies.loc[:, [\"genres\", \"imdb_score\"]].copy()\n",
    "\n",
    "genres_df[\"Action\"] = [1 if \"Action\" in genre else 0 for genre in genres_df[\"genres\"]]\n",
    "genres_df[\"Adventure\"] = [1 if \"Adventure\" in genre else 0 for genre in genres_df[\"genres\"]]\n",
    "genres_df[\"Animation\"] = [1 if \"Animation\" in genre else 0 for genre in genres_df[\"genres\"]]\n",
    "genres_df[\"Biography\"] = [1 if \"Biography\" in genre else 0 for genre in genres_df[\"genres\"]]\n",
    "genres_df[\"Comedy\"] = [1 if \"Comedy\" in genre else 0 for genre in genres_df[\"genres\"]]\n",
    "genres_df[\"Crime\"] = [1 if \"Crime\" in genre else 0 for genre in genres_df[\"genres\"]]\n",
    "genres_df[\"Documentary\"] = [1 if \"Documentary\" in genre else 0 for genre in genres_df[\"genres\"]]\n",
    "genres_df[\"Drama\"] = [1 if \"Drama\" in genre else 0 for genre in genres_df[\"genres\"]]\n",
    "genres_df[\"Family\"] = [1 if \"Family\" in genre else 0 for genre in genres_df[\"genres\"]]\n",
    "genres_df[\"Fantasy\"] = [1 if \"Fantasy\" in genre else 0 for genre in genres_df[\"genres\"]]\n",
    "genres_df[\"Film-Noir\"] = [1 if \"Film-Noir\" in genre else 0 for genre in genres_df[\"genres\"]]\n",
    "genres_df[\"History\"] = [1 if \"History\" in genre else 0 for genre in genres_df[\"genres\"]]\n",
    "genres_df[\"Horror\"] = [1 if \"Horror\" in genre else 0 for genre in genres_df[\"genres\"]]\n",
    "genres_df[\"Musical\"] = [1 if \"Musical\" in genre else 0 for genre in genres_df[\"genres\"]]\n",
    "genres_df[\"Mystery\"] = [1 if \"Mystery\" in genre else 0 for genre in genres_df[\"genres\"]]\n",
    "genres_df[\"News\"] = [1 if \"News\" in genre else 0 for genre in genres_df[\"genres\"]]\n",
    "genres_df[\"Romance\"] = [1 if \"Romance\" in genre else 0 for genre in genres_df[\"genres\"]]\n",
    "genres_df[\"Sci-Fi\"] = [1 if \"Sci-Fi\" in genre else 0 for genre in genres_df[\"genres\"]]\n",
    "genres_df[\"Short\"] = [1 if \"Short\" in genre else 0 for genre in genres_df[\"genres\"]]\n",
    "genres_df[\"Sport\"] = [1 if \"Sport\" in genre else 0 for genre in genres_df[\"genres\"]]\n",
    "genres_df[\"Thriller\"] = [1 if \"Thriller\" in genre else 0 for genre in genres_df[\"genres\"]]\n",
    "genres_df[\"War\"] = [1 if \"War\" in genre else 0 for genre in genres_df[\"genres\"]]\n",
    "genres_df[\"Western\"] = [1 if \"Western\" in genre else 0 for genre in genres_df[\"genres\"]]\n",
    "\n",
    "\n",
    "means = []\n",
    "for column in genres_df.columns[2:]:\n",
    "    means.append(genres_df.loc[genres_df[column] == 1, \"imdb_score\"].mean())\n",
    "\n",
    "    \n",
    "fig, ax = plt.subplots(figsize=(24, 8))\n",
    "plt.bar(x=genres_df.columns[2:], height=means)\n",
    "plt.title(\"Average imdb scores for different genres\")\n",
    "plt.show()"
   ]
  },
  {
   "cell_type": "markdown",
   "id": "369342d2",
   "metadata": {},
   "source": [
    "### Country"
   ]
  },
  {
   "cell_type": "code",
   "execution_count": 7,
   "id": "07c92306",
   "metadata": {},
   "outputs": [],
   "source": [
    "movies['country'] = pd.Categorical(movies['country'])\n",
    "\n",
    "movies['country'] = movies['country'].cat.add_categories('Others')\n",
    "\n",
    "movies.loc[~movies['country'].isin(['USA', 'UK']), 'country'] = 'Others'\n",
    "\n",
    "movies['country'] = pd.Categorical(movies['country'])"
   ]
  },
  {
   "cell_type": "code",
   "execution_count": 8,
   "id": "ffcbcb83",
   "metadata": {},
   "outputs": [],
   "source": [
    "# Create dummy variables for the 'country' column\n",
    "dummies = pd.get_dummies(movies['country'], prefix = 'country')\n",
    "\n",
    "# Add the dummy variables to the original DataFrame\n",
    "movies = pd.concat([movies, dummies], axis=1)\n",
    "\n",
    "# Drop the original 'country' column\n",
    "movies.drop('country', axis=1, inplace=True)"
   ]
  },
  {
   "cell_type": "code",
   "execution_count": 9,
   "id": "ab5b3d6a",
   "metadata": {},
   "outputs": [
    {
     "data": {
      "text/plain": [
       "['color',\n",
       " 'director_name',\n",
       " 'num_critic_for_reviews',\n",
       " 'duration',\n",
       " 'director_facebook_likes',\n",
       " 'actor_3_facebook_likes',\n",
       " 'actor_2_name',\n",
       " 'actor_1_facebook_likes',\n",
       " 'gross',\n",
       " 'genres',\n",
       " 'actor_1_name',\n",
       " 'movie_title',\n",
       " 'num_voted_users',\n",
       " 'cast_total_facebook_likes',\n",
       " 'actor_3_name',\n",
       " 'facenumber_in_poster',\n",
       " 'plot_keywords',\n",
       " 'movie_imdb_link',\n",
       " 'num_user_for_reviews',\n",
       " 'language',\n",
       " 'content_rating',\n",
       " 'budget',\n",
       " 'title_year',\n",
       " 'actor_2_facebook_likes',\n",
       " 'imdb_score',\n",
       " 'aspect_ratio',\n",
       " 'movie_facebook_likes',\n",
       " 'good_movie',\n",
       " 'country_UK',\n",
       " 'country_USA',\n",
       " 'country_Others']"
      ]
     },
     "execution_count": 9,
     "metadata": {},
     "output_type": "execute_result"
    }
   ],
   "source": [
    "# create a list of columns to be removed\n",
    "cols_to_remove = [col for col in movies.columns if col.startswith('country') and col not in ['country_UK', 'country_USA', 'country_Others']]\n",
    "\n",
    "# drop the columns from the dataframe\n",
    "movies.drop(cols_to_remove, axis=1, inplace=True)\n",
    "\n",
    "list(movies.columns)"
   ]
  },
  {
   "cell_type": "markdown",
   "id": "946400cf",
   "metadata": {},
   "source": [
    "### Facebook likes"
   ]
  },
  {
   "cell_type": "code",
   "execution_count": 10,
   "id": "fe74d981",
   "metadata": {},
   "outputs": [],
   "source": [
    "#combining all actor facebook likes\n",
    "movies['actors_facebook_likes'] = movies['actor_1_facebook_likes'] + movies['actor_2_facebook_likes'] + movies['actor_3_facebook_likes']"
   ]
  },
  {
   "cell_type": "code",
   "execution_count": 11,
   "id": "c6e59a62",
   "metadata": {},
   "outputs": [
    {
     "data": {
      "text/plain": [
       "<seaborn.axisgrid.FacetGrid at 0x7fa4e0834bb0>"
      ]
     },
     "execution_count": 11,
     "metadata": {},
     "output_type": "execute_result"
    },
    {
     "data": {
      "image/png": "[encoded data removed]",
      "text/plain": [
       "<Figure size 360x360 with 1 Axes>"
      ]
     },
     "metadata": {
      "needs_background": "light"
     },
     "output_type": "display_data"
    }
   ],
   "source": [
    "sns.displot(movies, x=\"actors_facebook_likes\")"
   ]
  },
  {
   "cell_type": "code",
   "execution_count": 12,
   "id": "dd2c757a",
   "metadata": {},
   "outputs": [],
   "source": [
    "# If the actors have facebook likes greater than 75% of the others, they are famous (1) else not (0)\n",
    "famous = movies['actors_facebook_likes'].quantile(0.7)\n",
    "movies['actors_facebook_likes'] = movies['actors_facebook_likes'].apply(lambda x: 1 if x > famous else 0)"
   ]
  },
  {
   "cell_type": "markdown",
   "id": "bb4a9b05",
   "metadata": {},
   "source": [
    "### Budget"
   ]
  },
  {
   "cell_type": "code",
   "execution_count": 13,
   "id": "a074d96d",
   "metadata": {},
   "outputs": [
    {
     "data": {
      "text/plain": [
       "<seaborn.axisgrid.FacetGrid at 0x7fa4e00fd9a0>"
      ]
     },
     "execution_count": 13,
     "metadata": {},
     "output_type": "execute_result"
    },
    {
     "data": {
      "image/png": "[encoded data removed]",
      "text/plain": [
       "<Figure size 360x360 with 1 Axes>"
      ]
     },
     "metadata": {
      "needs_background": "light"
     },
     "output_type": "display_data"
    }
   ],
   "source": [
    "sns.displot(movies, x=\"budget\")"
   ]
  },
  {
   "cell_type": "code",
   "execution_count": 14,
   "id": "729335cd",
   "metadata": {},
   "outputs": [],
   "source": [
    "movies.dropna(inplace = True)"
   ]
  },
  {
   "cell_type": "markdown",
   "id": "7a172c9e",
   "metadata": {},
   "source": [
    "## Check correlation"
   ]
  },
  {
   "cell_type": "code",
   "execution_count": 15,
   "id": "0ab93b2a",
   "metadata": {},
   "outputs": [
    {
     "data": {
      "text/plain": [
       "good_movie                   1.000000\n",
       "imdb_score                   0.681445\n",
       "num_voted_users              0.437163\n",
       "num_user_for_reviews         0.322559\n",
       "duration                     0.301424\n",
       "num_critic_for_reviews       0.283649\n",
       "movie_facebook_likes         0.268881\n",
       "director_facebook_likes      0.182985\n",
       "gross                        0.182888\n",
       "country_Others               0.100260\n",
       "country_UK                   0.096814\n",
       "actors_facebook_likes        0.092504\n",
       "cast_total_facebook_likes    0.073699\n",
       "actor_2_facebook_likes       0.066739\n",
       "actor_1_facebook_likes       0.066040\n",
       "actor_3_facebook_likes       0.045431\n",
       "budget                       0.002025\n",
       "aspect_ratio                -0.029805\n",
       "facenumber_in_poster        -0.067898\n",
       "country_USA                 -0.147556\n",
       "title_year                  -0.148343\n",
       "dtype: float64"
      ]
     },
     "execution_count": 15,
     "metadata": {},
     "output_type": "execute_result"
    }
   ],
   "source": [
    "movies.corrwith(movies.good_movie).sort_values(ascending = False)"
   ]
  },
  {
   "cell_type": "markdown",
   "id": "e8c3d18b",
   "metadata": {},
   "source": [
    "# CREATING THE MODEL"
   ]
  },
  {
   "cell_type": "code",
   "execution_count": 16,
   "id": "092fbdce",
   "metadata": {},
   "outputs": [],
   "source": [
    "def confusion_matrix_data(data, actual_values, model, cutoff = 0.5):\n",
    "# Predict the values using the Logit model\n",
    "    pred_values = model.predict(data)\n",
    "# Specify the bins\n",
    "    bins = np.array([0,cutoff,1])\n",
    "# Confusion matrix\n",
    "    cm = np.histogram2d(actual_values, pred_values, bins=bins)[0]\n",
    "    cm_df = pd.DataFrame(cm)\n",
    "    cm_df.columns = ['Predicted 0','Predicted 1']\n",
    "    cm_df = cm_df.rename(index = {0: 'Actual 0',1:'Actual 1'})\n",
    "# Calculate the accuracy\n",
    "    accuracy = (cm[0,0]+cm[1,1])/cm.sum()\n",
    "    fnr = (cm[1,0])/(cm[1,0]+cm[1,1])\n",
    "    precision = (cm[1,1])/(cm[0,1]+cm[1,1])\n",
    "    fpr = (cm[0,1])/(cm[0,0]+cm[0,1])\n",
    "    tpr = (cm[1,1])/(cm[1,0]+cm[1,1])\n",
    "    fpr_roc, tpr_roc, auc_thresholds = roc_curve(actual_values, pred_values)\n",
    "    auc_value = (auc(fpr_roc, tpr_roc))# AUC of ROC\n",
    "    sns.heatmap(cm_df, annot=True, cmap='Blues', fmt='g')\n",
    "    plt.ylabel(\"Actual Values\")\n",
    "    plt.xlabel(\"Predicted Values\")\n",
    "    print(\"Classification accuracy = {:.1%}\".format(accuracy))\n",
    "    print(\"Precision = {:.1%}\".format(precision))\n",
    "    print(\"TPR or Recall = {:.1%}\".format(tpr))\n",
    "    print(\"FNR = {:.1%}\".format(fnr))\n",
    "    print(\"FPR = {:.1%}\".format(fpr))\n",
    "    print(\"ROC-AUC = {:.1%}\".format(auc_value))"
   ]
  },
  {
   "cell_type": "markdown",
   "id": "26e3a4c4",
   "metadata": {},
   "source": [
    "### Model 1 (all predictors)"
   ]
  },
  {
   "cell_type": "code",
   "execution_count": 17,
   "id": "0f66faf6",
   "metadata": {},
   "outputs": [
    {
     "name": "stdout",
     "output_type": "stream",
     "text": [
      "Optimization terminated successfully.\n",
      "         Current function value: 0.507292\n",
      "         Iterations 10\n",
      "                           Logit Regression Results                           \n",
      "==============================================================================\n",
      "Dep. Variable:             good_movie   No. Observations:                 3756\n",
      "Model:                          Logit   Df Residuals:                     3747\n",
      "Method:                           MLE   Df Model:                            8\n",
      "Date:                Tue, 28 Feb 2023   Pseudo R-squ.:                  0.1270\n",
      "Time:                        22:26:59   Log-Likelihood:                -1905.4\n",
      "converged:                       True   LL-Null:                       -2182.6\n",
      "Covariance Type:            nonrobust   LLR p-value:                1.459e-114\n",
      "===========================================================================================\n",
      "                              coef    std err          z      P>|z|      [0.025      0.975]\n",
      "-------------------------------------------------------------------------------------------\n",
      "Intercept                  -1.4332        nan        nan        nan         nan         nan\n",
      "duration                    0.0321      0.002     15.290      0.000       0.028       0.036\n",
      "director_facebook_likes   9.15e-05   1.25e-05      7.341      0.000    6.71e-05       0.000\n",
      "country_UK                 -0.1619        nan        nan        nan         nan         nan\n",
      "country_USA                -1.0996        nan        nan        nan         nan         nan\n",
      "country_Others             -0.1717        nan        nan        nan         nan         nan\n",
      "aspect_ratio               -1.1200      0.156     -7.190      0.000      -1.425      -0.815\n",
      "actors_facebook_likes       0.3159      0.086      3.684      0.000       0.148       0.484\n",
      "budget                  -6.781e-10   4.56e-10     -1.485      0.137   -1.57e-09    2.17e-10\n",
      "facenumber_in_poster       -0.0962      0.024     -4.028      0.000      -0.143      -0.049\n",
      "===========================================================================================\n"
     ]
    }
   ],
   "source": [
    "# creating a model using predictors with high correlation\n",
    "logit_model1 = sm.logit(data = movies, formula = 'good_movie ~ duration + director_facebook_likes + country_UK + country_USA + country_Others + aspect_ratio + actors_facebook_likes + budget + facenumber_in_poster').fit()\n",
    "print(logit_model1.summary())"
   ]
  },
  {
   "cell_type": "code",
   "execution_count": 18,
   "id": "28ef1af1",
   "metadata": {},
   "outputs": [
    {
     "name": "stdout",
     "output_type": "stream",
     "text": [
      "Classification accuracy = 76.7%\n",
      "Precision = 63.7%\n",
      "TPR or Recall = 30.0%\n",
      "FNR = 70.0%\n",
      "FPR = 6.3%\n",
      "ROC-AUC = 74.4%\n"
     ]
    },
    {
     "data": {
      "image/png": "[encoded data removed]",
      "text/plain": [
       "<Figure size 432x288 with 2 Axes>"
      ]
     },
     "metadata": {
      "needs_background": "light"
     },
     "output_type": "display_data"
    }
   ],
   "source": [
    "confusion_matrix_data(movies, movies.good_movie, logit_model1, cutoff = 0.46)"
   ]
  },
  {
   "cell_type": "markdown",
   "id": "f67b70ba",
   "metadata": {},
   "source": [
    "### Model 2"
   ]
  },
  {
   "cell_type": "code",
   "execution_count": 19,
   "id": "474d93d2",
   "metadata": {
    "scrolled": true
   },
   "outputs": [
    {
     "name": "stdout",
     "output_type": "stream",
     "text": [
      "Optimization terminated successfully.\n",
      "         Current function value: 0.522698\n",
      "         Iterations 7\n",
      "                           Logit Regression Results                           \n",
      "==============================================================================\n",
      "Dep. Variable:             good_movie   No. Observations:                 3756\n",
      "Model:                          Logit   Df Residuals:                     3750\n",
      "Method:                           MLE   Df Model:                            5\n",
      "Date:                Tue, 28 Feb 2023   Pseudo R-squ.:                  0.1005\n",
      "Time:                        22:26:59   Log-Likelihood:                -1963.3\n",
      "converged:                       True   LL-Null:                       -2182.6\n",
      "Covariance Type:            nonrobust   LLR p-value:                 1.353e-92\n",
      "===========================================================================================\n",
      "                              coef    std err          z      P>|z|      [0.025      0.975]\n",
      "-------------------------------------------------------------------------------------------\n",
      "Intercept                  48.3675      7.849      6.162      0.000      32.984      63.751\n",
      "duration                    0.0280      0.002     13.818      0.000       0.024       0.032\n",
      "title_year                 -0.0263      0.004     -6.719      0.000      -0.034      -0.019\n",
      "director_facebook_likes      8e-05   1.23e-05      6.480      0.000    5.58e-05       0.000\n",
      "actors_facebook_likes       0.2087      0.084      2.498      0.012       0.045       0.372\n",
      "budget                   -4.09e-10   4.46e-10     -0.917      0.359   -1.28e-09    4.65e-10\n",
      "===========================================================================================\n"
     ]
    }
   ],
   "source": [
    "logit_model2 = sm.logit(formula= 'good_movie ~ duration + title_year + director_facebook_likes + actors_facebook_likes + budget', data = movies).fit()\n",
    "print(logit_model2.summary())"
   ]
  },
  {
   "cell_type": "code",
   "execution_count": 20,
   "id": "30960832",
   "metadata": {},
   "outputs": [
    {
     "name": "stdout",
     "output_type": "stream",
     "text": [
      "Classification accuracy = 76.2%\n",
      "Precision = 67.8%\n",
      "TPR or Recall = 21.2%\n",
      "FNR = 78.8%\n",
      "FPR = 3.7%\n",
      "ROC-AUC = 71.0%\n"
     ]
    },
    {
     "data": {
      "image/png": "[encoded data removed]",
      "text/plain": [
       "<Figure size 432x288 with 2 Axes>"
      ]
     },
     "metadata": {
      "needs_background": "light"
     },
     "output_type": "display_data"
    }
   ],
   "source": [
    "confusion_matrix_data(movies, movies.good_movie, logit_model2, cutoff = 0.49)"
   ]
  },
  {
   "cell_type": "markdown",
   "id": "eff3196c",
   "metadata": {},
   "source": [
    "### Model 3"
   ]
  },
  {
   "cell_type": "code",
   "execution_count": 21,
   "id": "8ab35f37",
   "metadata": {},
   "outputs": [
    {
     "name": "stdout",
     "output_type": "stream",
     "text": [
      "Optimization terminated successfully.\n",
      "         Current function value: 0.506078\n",
      "         Iterations 6\n",
      "                           Logit Regression Results                           \n",
      "==============================================================================\n",
      "Dep. Variable:             good_movie   No. Observations:                 3756\n",
      "Model:                          Logit   Df Residuals:                     3749\n",
      "Method:                           MLE   Df Model:                            6\n",
      "Date:                Tue, 28 Feb 2023   Pseudo R-squ.:                  0.1291\n",
      "Time:                        22:27:00   Log-Likelihood:                -1900.8\n",
      "converged:                       True   LL-Null:                       -2182.6\n",
      "Covariance Type:            nonrobust   LLR p-value:                1.699e-118\n",
      "=================================================================================================================\n",
      "                                                    coef    std err          z      P>|z|      [0.025      0.975]\n",
      "-----------------------------------------------------------------------------------------------------------------\n",
      "Intercept                                         0.9755      0.462      2.113      0.035       0.071       1.880\n",
      "duration                                          0.0379      0.002     16.999      0.000       0.034       0.042\n",
      "director_facebook_likes                           0.0001   2.45e-05      5.274      0.000    8.13e-05       0.000\n",
      "actors_facebook_likes                             0.4458      0.090      4.930      0.000       0.269       0.623\n",
      "director_facebook_likes:actors_facebook_likes -5.757e-05   2.85e-05     -2.018      0.044      -0.000   -1.66e-06\n",
      "budget                                         3.208e-10   1.58e-10      2.031      0.042    1.12e-11     6.3e-10\n",
      "np.log(budget)                                   -0.3895      0.031    -12.761      0.000      -0.449      -0.330\n",
      "=================================================================================================================\n"
     ]
    }
   ],
   "source": [
    "logit_model3 = sm.logit(formula= 'good_movie ~ duration + director_facebook_likes * actors_facebook_likes + budget + np.log(budget)', data = movies).fit()\n",
    "print(logit_model3.summary())"
   ]
  },
  {
   "cell_type": "code",
   "execution_count": 22,
   "id": "e90e12c2",
   "metadata": {},
   "outputs": [],
   "source": [
    "from sklearn.metrics import precision_recall_curve, auc\n",
    "\n",
    "y = movies.good_movie\n",
    "y_pred = logit_model3.predict(movies)\n",
    "\n",
    "precision, recall, thresholds = precision_recall_curve(y, y_pred)\n",
    "pr_auc = auc(recall, precision)\n",
    "\n",
    "max_precision_index = np.argmax(precision[:-1])\n",
    "decision_threshold = thresholds[max_precision_index]"
   ]
  },
  {
   "cell_type": "code",
   "execution_count": 23,
   "id": "dd029ac9",
   "metadata": {},
   "outputs": [
    {
     "name": "stdout",
     "output_type": "stream",
     "text": [
      "Classification accuracy = 74.9%\n",
      "Precision = 81.4%\n",
      "TPR or Recall = 8.3%\n",
      "FNR = 91.7%\n",
      "FPR = 0.7%\n",
      "ROC-AUC = 75.2%\n"
     ]
    },
    {
     "data": {
      "image/png": "[encoded data removed]",
      "text/plain": [
       "<Figure size 432x288 with 2 Axes>"
      ]
     },
     "metadata": {
      "needs_background": "light"
     },
     "output_type": "display_data"
    }
   ],
   "source": [
    "confusion_matrix_data(movies, movies.good_movie, logit_model3, cutoff = decision_threshold)"
   ]
  }
 ],
 "metadata": {
  "kernelspec": {
   "display_name": "Python 3 (ipykernel)",
   "language": "python",
   "name": "python3"
  },
  "language_info": {
   "codemirror_mode": {
    "name": "ipython",
    "version": 3
   },
   "file_extension": ".py",
   "mimetype": "text/x-python",
   "name": "python",
   "nbconvert_exporter": "python",
   "pygments_lexer": "ipython3",
   "version": "3.9.12"
  }
 },
 "nbformat": 4,
 "nbformat_minor": 5
}
