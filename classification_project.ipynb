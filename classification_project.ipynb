{
 "cells": [
  {
   "cell_type": "code",
   "execution_count": 111,
   "id": "d08e502b",
   "metadata": {},
   "outputs": [],
   "source": [
    "import pandas as pd\n",
    "import numpy as np\n",
    "import statsmodels.formula.api as sm\n",
    "import seaborn as sns\n",
    "import matplotlib.pyplot as plt\n",
    "import os\n",
    "import math\n",
    "import time"
   ]
  },
  {
   "cell_type": "markdown",
   "id": "815b6ef1",
   "metadata": {},
   "source": [
    "Response: imdb_score"
   ]
  },
  {
   "cell_type": "code",
   "execution_count": 58,
   "id": "22746968",
   "metadata": {},
   "outputs": [
    {
     "data": {
      "text/plain": [
       "['color',\n",
       " 'director_name',\n",
       " 'num_critic_for_reviews',\n",
       " 'duration',\n",
       " 'director_facebook_likes',\n",
       " 'actor_3_facebook_likes',\n",
       " 'actor_2_name',\n",
       " 'actor_1_facebook_likes',\n",
       " 'gross',\n",
       " 'genres',\n",
       " 'actor_1_name',\n",
       " 'movie_title',\n",
       " 'num_voted_users',\n",
       " 'cast_total_facebook_likes',\n",
       " 'actor_3_name',\n",
       " 'facenumber_in_poster',\n",
       " 'plot_keywords',\n",
       " 'movie_imdb_link',\n",
       " 'num_user_for_reviews',\n",
       " 'language',\n",
       " 'country',\n",
       " 'content_rating',\n",
       " 'budget',\n",
       " 'title_year',\n",
       " 'actor_2_facebook_likes',\n",
       " 'imdb_score',\n",
       " 'aspect_ratio',\n",
       " 'movie_facebook_likes']"
      ]
     },
     "execution_count": 58,
     "metadata": {},
     "output_type": "execute_result"
    }
   ],
   "source": [
    "movies = pd.read_csv('movie_metadata.csv')\n",
    "list(movies.columns)"
   ]
  },
  {
   "cell_type": "markdown",
   "id": "cc07e98c",
   "metadata": {},
   "source": [
    "# IMDB SCORE\n",
    "#### If score is above 75% quartile movie is good (1), else bad (0)"
   ]
  },
  {
   "cell_type": "code",
   "execution_count": 59,
   "id": "f756903e",
   "metadata": {},
   "outputs": [],
   "source": [
    "good_score = movies['imdb_score'].quantile(0.75)\n",
    "movies['good_movie'] = movies['imdb_score'].apply(lambda x: 1 if x >= good_score else 0)"
   ]
  },
  {
   "cell_type": "code",
   "execution_count": 60,
   "id": "fdd274fa",
   "metadata": {},
   "outputs": [
    {
     "data": {
      "text/plain": [
       "good_movie                   1.000000\n",
       "imdb_score                   0.681022\n",
       "num_voted_users              0.364947\n",
       "num_user_for_reviews         0.272405\n",
       "movie_facebook_likes         0.232860\n",
       "num_critic_for_reviews       0.221334\n",
       "duration                     0.200878\n",
       "gross                        0.165646\n",
       "director_facebook_likes      0.163755\n",
       "aspect_ratio                 0.066005\n",
       "actor_2_facebook_likes       0.043753\n",
       "cast_total_facebook_likes    0.042055\n",
       "actor_1_facebook_likes       0.038629\n",
       "actor_3_facebook_likes       0.027265\n",
       "budget                       0.000898\n",
       "facenumber_in_poster        -0.066470\n",
       "title_year                  -0.197580\n",
       "dtype: float64"
      ]
     },
     "execution_count": 60,
     "metadata": {},
     "output_type": "execute_result"
    }
   ],
   "source": [
    "movies.corrwith(movies.good_movie).sort_values(ascending = False)"
   ]
  },
  {
   "cell_type": "code",
   "execution_count": 61,
   "id": "4ba2f54f",
   "metadata": {},
   "outputs": [
    {
     "name": "stdout",
     "output_type": "stream",
     "text": [
      "color                         19\n",
      "director_name                104\n",
      "num_critic_for_reviews        50\n",
      "duration                      15\n",
      "director_facebook_likes      104\n",
      "actor_3_facebook_likes        23\n",
      "actor_2_name                  13\n",
      "actor_1_facebook_likes         7\n",
      "gross                        884\n",
      "genres                         0\n",
      "actor_1_name                   7\n",
      "movie_title                    0\n",
      "num_voted_users                0\n",
      "cast_total_facebook_likes      0\n",
      "actor_3_name                  23\n",
      "facenumber_in_poster          13\n",
      "plot_keywords                153\n",
      "movie_imdb_link                0\n",
      "num_user_for_reviews          21\n",
      "language                      12\n",
      "country                        5\n",
      "content_rating               303\n",
      "budget                       492\n",
      "title_year                   108\n",
      "actor_2_facebook_likes        13\n",
      "imdb_score                     0\n",
      "aspect_ratio                 329\n",
      "movie_facebook_likes           0\n",
      "good_movie                     0\n",
      "dtype: int64\n"
     ]
    }
   ],
   "source": [
    "missing_values_sum = movies.isna().sum()\n",
    "print(missing_values_sum)"
   ]
  },
  {
   "cell_type": "markdown",
   "id": "bd15aa9b",
   "metadata": {},
   "source": [
    "# EDA"
   ]
  },
  {
   "cell_type": "markdown",
   "id": "228d2c65",
   "metadata": {},
   "source": [
    "### GENRE"
   ]
  },
  {
   "cell_type": "code",
   "execution_count": 62,
   "id": "7ee7f719",
   "metadata": {
    "scrolled": true
   },
   "outputs": [
    {
     "data": {
      "image/png": "[encoded data removed]",
      "text/plain": [
       "<Figure size 1728x576 with 1 Axes>"
      ]
     },
     "metadata": {
      "needs_background": "light"
     },
     "output_type": "display_data"
    }
   ],
   "source": [
    "genres_df = movies.loc[:, [\"genres\", \"imdb_score\"]].copy()\n",
    "\n",
    "genres_df[\"Action\"] = [1 if \"Action\" in genre else 0 for genre in genres_df[\"genres\"]]\n",
    "genres_df[\"Adventure\"] = [1 if \"Adventure\" in genre else 0 for genre in genres_df[\"genres\"]]\n",
    "genres_df[\"Animation\"] = [1 if \"Animation\" in genre else 0 for genre in genres_df[\"genres\"]]\n",
    "genres_df[\"Biography\"] = [1 if \"Biography\" in genre else 0 for genre in genres_df[\"genres\"]]\n",
    "genres_df[\"Comedy\"] = [1 if \"Comedy\" in genre else 0 for genre in genres_df[\"genres\"]]\n",
    "genres_df[\"Crime\"] = [1 if \"Crime\" in genre else 0 for genre in genres_df[\"genres\"]]\n",
    "genres_df[\"Documentary\"] = [1 if \"Documentary\" in genre else 0 for genre in genres_df[\"genres\"]]\n",
    "genres_df[\"Drama\"] = [1 if \"Drama\" in genre else 0 for genre in genres_df[\"genres\"]]\n",
    "genres_df[\"Family\"] = [1 if \"Family\" in genre else 0 for genre in genres_df[\"genres\"]]\n",
    "genres_df[\"Fantasy\"] = [1 if \"Fantasy\" in genre else 0 for genre in genres_df[\"genres\"]]\n",
    "genres_df[\"Film-Noir\"] = [1 if \"Film-Noir\" in genre else 0 for genre in genres_df[\"genres\"]]\n",
    "genres_df[\"History\"] = [1 if \"History\" in genre else 0 for genre in genres_df[\"genres\"]]\n",
    "genres_df[\"Horror\"] = [1 if \"Horror\" in genre else 0 for genre in genres_df[\"genres\"]]\n",
    "genres_df[\"Musical\"] = [1 if \"Musical\" in genre else 0 for genre in genres_df[\"genres\"]]\n",
    "genres_df[\"Mystery\"] = [1 if \"Mystery\" in genre else 0 for genre in genres_df[\"genres\"]]\n",
    "genres_df[\"News\"] = [1 if \"News\" in genre else 0 for genre in genres_df[\"genres\"]]\n",
    "genres_df[\"Romance\"] = [1 if \"Romance\" in genre else 0 for genre in genres_df[\"genres\"]]\n",
    "genres_df[\"Sci-Fi\"] = [1 if \"Sci-Fi\" in genre else 0 for genre in genres_df[\"genres\"]]\n",
    "genres_df[\"Short\"] = [1 if \"Short\" in genre else 0 for genre in genres_df[\"genres\"]]\n",
    "genres_df[\"Sport\"] = [1 if \"Sport\" in genre else 0 for genre in genres_df[\"genres\"]]\n",
    "genres_df[\"Thriller\"] = [1 if \"Thriller\" in genre else 0 for genre in genres_df[\"genres\"]]\n",
    "genres_df[\"War\"] = [1 if \"War\" in genre else 0 for genre in genres_df[\"genres\"]]\n",
    "genres_df[\"Western\"] = [1 if \"Western\" in genre else 0 for genre in genres_df[\"genres\"]]\n",
    "\n",
    "\n",
    "means = []\n",
    "for column in genres_df.columns[2:]:\n",
    "    means.append(genres_df.loc[genres_df[column] == 1, \"imdb_score\"].mean())\n",
    "\n",
    "    \n",
    "fig, ax = plt.subplots(figsize=(24, 8))\n",
    "plt.bar(x=genres_df.columns[2:], height=means)\n",
    "plt.title(\"Average imdb scores for different genres\")\n",
    "plt.show()"
   ]
  },
  {
   "cell_type": "markdown",
   "id": "369342d2",
   "metadata": {},
   "source": [
    "### Country"
   ]
  },
  {
   "cell_type": "code",
   "execution_count": 63,
   "id": "07c92306",
   "metadata": {},
   "outputs": [],
   "source": [
    "movies['country'] = pd.Categorical(movies['country'])\n",
    "\n",
    "movies['country'] = movies['country'].cat.add_categories('Others')\n",
    "\n",
    "movies.loc[~movies['country'].isin(['USA', 'UK']), 'country'] = 'Others'\n",
    "\n",
    "movies['country'] = pd.Categorical(movies['country'])"
   ]
  },
  {
   "cell_type": "code",
   "execution_count": 64,
   "id": "ffcbcb83",
   "metadata": {},
   "outputs": [],
   "source": [
    "# Create dummy variables for the 'country' column\n",
    "dummies = pd.get_dummies(movies['country'], prefix = 'country')\n",
    "\n",
    "# Add the dummy variables to the original DataFrame\n",
    "movies = pd.concat([movies, dummies], axis=1)\n",
    "\n",
    "# Drop the original 'country' column\n",
    "movies.drop('country', axis=1, inplace=True)"
   ]
  },
  {
   "cell_type": "code",
   "execution_count": 65,
   "id": "f7b6e160",
   "metadata": {},
   "outputs": [],
   "source": [
    "# create a list of columns to be removed\n",
    "cols_to_remove = [col for col in movies.columns if col.startswith('country') and col not in ['country_UK', 'country_USA', 'country_Others']]\n",
    "\n",
    "# drop the columns from the dataframe\n",
    "movies.drop(cols_to_remove, axis=1, inplace=True)"
   ]
  },
  {
   "cell_type": "code",
   "execution_count": 66,
   "id": "03e72f2f",
   "metadata": {},
   "outputs": [
    {
     "data": {
      "text/plain": [
       "['color',\n",
       " 'director_name',\n",
       " 'num_critic_for_reviews',\n",
       " 'duration',\n",
       " 'director_facebook_likes',\n",
       " 'actor_3_facebook_likes',\n",
       " 'actor_2_name',\n",
       " 'actor_1_facebook_likes',\n",
       " 'gross',\n",
       " 'genres',\n",
       " 'actor_1_name',\n",
       " 'movie_title',\n",
       " 'num_voted_users',\n",
       " 'cast_total_facebook_likes',\n",
       " 'actor_3_name',\n",
       " 'facenumber_in_poster',\n",
       " 'plot_keywords',\n",
       " 'movie_imdb_link',\n",
       " 'num_user_for_reviews',\n",
       " 'language',\n",
       " 'content_rating',\n",
       " 'budget',\n",
       " 'title_year',\n",
       " 'actor_2_facebook_likes',\n",
       " 'imdb_score',\n",
       " 'aspect_ratio',\n",
       " 'movie_facebook_likes',\n",
       " 'good_movie',\n",
       " 'country_UK',\n",
       " 'country_USA',\n",
       " 'country_Others']"
      ]
     },
     "execution_count": 66,
     "metadata": {},
     "output_type": "execute_result"
    }
   ],
   "source": [
    "list(movies.columns)"
   ]
  },
  {
   "cell_type": "markdown",
   "id": "946400cf",
   "metadata": {},
   "source": [
    "### Facebook likes"
   ]
  },
  {
   "cell_type": "code",
   "execution_count": 67,
   "id": "fe74d981",
   "metadata": {},
   "outputs": [],
   "source": [
    "#combining all actor facebook likes\n",
    "movies['actors_facebook_likes'] = movies['actor_1_facebook_likes'] + movies['actor_2_facebook_likes'] + movies['actor_3_facebook_likes']"
   ]
  },
  {
   "cell_type": "code",
   "execution_count": 68,
   "id": "c6e59a62",
   "metadata": {},
   "outputs": [
    {
     "data": {
      "text/plain": [
       "<seaborn.axisgrid.FacetGrid at 0x7fecda208dc0>"
      ]
     },
     "execution_count": 68,
     "metadata": {},
     "output_type": "execute_result"
    },
    {
     "data": {
      "image/png": "[encoded data removed]",
      "text/plain": [
       "<Figure size 360x360 with 1 Axes>"
      ]
     },
     "metadata": {
      "needs_background": "light"
     },
     "output_type": "display_data"
    }
   ],
   "source": [
    "sns.displot(movies, x=\"actors_facebook_likes\")"
   ]
  },
  {
   "cell_type": "code",
   "execution_count": 69,
   "id": "dd2c757a",
   "metadata": {},
   "outputs": [],
   "source": [
    "# If the actors have facebook likes greater than 75% of the others, they are famous (1) else not (0)\n",
    "famous = movies['actors_facebook_likes'].quantile(0.7)\n",
    "movies['actors_facebook_likes'] = movies['actors_facebook_likes'].apply(lambda x: 1 if x > famous else 0)"
   ]
  },
  {
   "cell_type": "markdown",
   "id": "bb4a9b05",
   "metadata": {},
   "source": [
    "### Budget"
   ]
  },
  {
   "cell_type": "code",
   "execution_count": 70,
   "id": "a074d96d",
   "metadata": {},
   "outputs": [
    {
     "data": {
      "text/plain": [
       "<seaborn.axisgrid.FacetGrid at 0x7fed0c390700>"
      ]
     },
     "execution_count": 70,
     "metadata": {},
     "output_type": "execute_result"
    },
    {
     "data": {
      "image/png": "[encoded data removed]",
      "text/plain": [
       "<Figure size 360x360 with 1 Axes>"
      ]
     },
     "metadata": {
      "needs_background": "light"
     },
     "output_type": "display_data"
    }
   ],
   "source": [
    "sns.displot(movies, x=\"budget\")"
   ]
  },
  {
   "cell_type": "code",
   "execution_count": 71,
   "id": "baf27cce",
   "metadata": {},
   "outputs": [
    {
     "name": "stdout",
     "output_type": "stream",
     "text": [
      "MAX: 12215500000.0 , MIN: 218.0 , AVG: 39752620.436387606\n"
     ]
    }
   ],
   "source": [
    "print('MAX:', movies['budget'].max(), ', MIN:', movies['budget'].min(), ', AVG:', movies['budget'].mean())"
   ]
  },
  {
   "cell_type": "code",
   "execution_count": 72,
   "id": "729335cd",
   "metadata": {},
   "outputs": [],
   "source": [
    "# if budget > average, expensive (1), else cheap (0)\n",
    "movies['budget'] = movies['budget'].apply(lambda x: 1 if x > movies['budget'].mean() else 0)"
   ]
  },
  {
   "cell_type": "markdown",
   "id": "7a172c9e",
   "metadata": {},
   "source": [
    "## Check correlation"
   ]
  },
  {
   "cell_type": "code",
   "execution_count": 73,
   "id": "0ab93b2a",
   "metadata": {},
   "outputs": [
    {
     "data": {
      "text/plain": [
       "good_movie                   1.000000\n",
       "imdb_score                   0.681022\n",
       "num_voted_users              0.364947\n",
       "num_user_for_reviews         0.272405\n",
       "movie_facebook_likes         0.232860\n",
       "num_critic_for_reviews       0.221334\n",
       "duration                     0.200878\n",
       "gross                        0.165646\n",
       "director_facebook_likes      0.163755\n",
       "country_UK                   0.081439\n",
       "country_Others               0.080515\n",
       "aspect_ratio                 0.066005\n",
       "actors_facebook_likes        0.052131\n",
       "actor_2_facebook_likes       0.043753\n",
       "cast_total_facebook_likes    0.042055\n",
       "actor_1_facebook_likes       0.038629\n",
       "actor_3_facebook_likes       0.027265\n",
       "budget                      -0.057380\n",
       "facenumber_in_poster        -0.066470\n",
       "country_USA                 -0.121831\n",
       "title_year                  -0.197580\n",
       "dtype: float64"
      ]
     },
     "execution_count": 73,
     "metadata": {},
     "output_type": "execute_result"
    }
   ],
   "source": [
    "movies.corrwith(movies.good_movie).sort_values(ascending = False)"
   ]
  },
  {
   "cell_type": "markdown",
   "id": "e8c3d18b",
   "metadata": {},
   "source": [
    "# CREATING THE MODEL"
   ]
  },
  {
   "cell_type": "code",
   "execution_count": 98,
   "id": "46ef5aeb",
   "metadata": {},
   "outputs": [],
   "source": [
    "def confusion_matrix_train(model,cutoff=0.43):\n",
    "    # Confusion matrix\n",
    "    cm_df = pd.DataFrame(model.pred_table(threshold = cutoff))\n",
    "    #Formatting the confusion matrix\n",
    "    cm_df.columns = ['Predicted 0', 'Predicted 1'] \n",
    "    cm_df = cm_df.rename(index={0: 'Actual 0',1: 'Actual 1'})\n",
    "    cm = np.array(cm_df)\n",
    "    # Calculate the accuracy\n",
    "    accuracy = (cm[0,0]+cm[1,1])/cm.sum()\n",
    "    fnr = (cm[1,0])/(cm[1,0]+cm[1,1])\n",
    "    precision = (cm[1,1])/(cm[0,1]+cm[1,1])\n",
    "    fpr = (cm[0,1])/(cm[0,0]+cm[0,1])\n",
    "    tpr = (cm[1,1])/(cm[1,0]+cm[1,1])\n",
    "    sns.heatmap(cm_df, annot=True, cmap='Blues', fmt='g')\n",
    "    plt.ylabel(\"Actual Values\")\n",
    "    plt.xlabel(\"Predicted Values\")\n",
    "    print(\"Classification accuracy = {:.1%}\".format(accuracy))\n",
    "    print(\"Precision = {:.1%}\".format(precision))\n",
    "    print(\"TPR or Recall = {:.1%}\".format(tpr))\n",
    "    print(\"FNR = {:.1%}\".format(fnr))\n",
    "    print(\"FPR = {:.1%}\".format(fpr))"
   ]
  },
  {
   "cell_type": "markdown",
   "id": "8ce508e3",
   "metadata": {},
   "source": [
    "### Model 1 (all predictors)"
   ]
  },
  {
   "cell_type": "code",
   "execution_count": 107,
   "id": "e561a223",
   "metadata": {},
   "outputs": [
    {
     "name": "stdout",
     "output_type": "stream",
     "text": [
      "Optimization terminated successfully.\n",
      "         Current function value: 0.520436\n",
      "         Iterations 7\n",
      "                           Logit Regression Results                           \n",
      "==============================================================================\n",
      "Dep. Variable:             good_movie   No. Observations:                 4617\n",
      "Model:                          Logit   Df Residuals:                     4608\n",
      "Method:                           MLE   Df Model:                            8\n",
      "Date:                Tue, 28 Feb 2023   Pseudo R-squ.:                  0.1159\n",
      "Time:                        18:18:58   Log-Likelihood:                -2402.9\n",
      "converged:                       True   LL-Null:                       -2717.8\n",
      "Covariance Type:            nonrobust   LLR p-value:                8.504e-131\n",
      "===========================================================================================\n",
      "                              coef    std err          z      P>|z|      [0.025      0.975]\n",
      "-------------------------------------------------------------------------------------------\n",
      "Intercept                  -2.3405        nan        nan        nan         nan         nan\n",
      "duration                    0.0325      0.002     17.065      0.000       0.029       0.036\n",
      "director_facebook_likes  9.239e-05   1.19e-05      7.740      0.000     6.9e-05       0.000\n",
      "country_UK                 -0.5833        nan        nan        nan         nan         nan\n",
      "country_USA                -1.2134        nan        nan        nan         nan         nan\n",
      "country_Others             -0.5438        nan        nan        nan         nan         nan\n",
      "aspect_ratio               -0.4934      0.130     -3.801      0.000      -0.748      -0.239\n",
      "actors_facebook_likes       0.2886      0.081      3.562      0.000       0.130       0.447\n",
      "budget                     -0.7503      0.092     -8.144      0.000      -0.931      -0.570\n",
      "facenumber_in_poster       -0.1035      0.021     -4.874      0.000      -0.145      -0.062\n",
      "===========================================================================================\n"
     ]
    },
    {
     "ename": "NameError",
     "evalue": "name 'logit_modell' is not defined",
     "output_type": "error",
     "traceback": [
      "\u001b[0;31m---------------------------------------------------------------------------\u001b[0m",
      "\u001b[0;31mNameError\u001b[0m                                 Traceback (most recent call last)",
      "Input \u001b[0;32mIn [107]\u001b[0m, in \u001b[0;36m<cell line: 4>\u001b[0;34m()\u001b[0m\n\u001b[1;32m      2\u001b[0m logit_model1 \u001b[38;5;241m=\u001b[39m sm\u001b[38;5;241m.\u001b[39mlogit(data \u001b[38;5;241m=\u001b[39m movies, formula \u001b[38;5;241m=\u001b[39m \u001b[38;5;124m'\u001b[39m\u001b[38;5;124mgood_movie ~ duration + director_facebook_likes + country_UK + country_USA + country_Others + aspect_ratio + actors_facebook_likes + budget + facenumber_in_poster\u001b[39m\u001b[38;5;124m'\u001b[39m)\u001b[38;5;241m.\u001b[39mfit()\n\u001b[1;32m      3\u001b[0m \u001b[38;5;28mprint\u001b[39m(logit_model1\u001b[38;5;241m.\u001b[39msummary())\n\u001b[0;32m----> 4\u001b[0m \u001b[43mlogit_modell\u001b[49m\u001b[38;5;241m.\u001b[39maic\n",
      "\u001b[0;31mNameError\u001b[0m: name 'logit_modell' is not defined"
     ]
    }
   ],
   "source": [
    "# creating a model using predictors with high correlation\n",
    "logit_model1 = sm.logit(data = movies, formula = 'good_movie ~ duration + director_facebook_likes + country_UK + country_USA + country_Others + aspect_ratio + actors_facebook_likes + budget + facenumber_in_poster').fit()\n",
    "print(logit_model1.summary())"
   ]
  },
  {
   "cell_type": "code",
   "execution_count": 99,
   "id": "a854091d",
   "metadata": {},
   "outputs": [
    {
     "name": "stdout",
     "output_type": "stream",
     "text": [
      "Classification accuracy = 76.1%\n",
      "Precision = 62.2%\n",
      "TPR or Recall = 33.5%\n",
      "FNR = 66.5%\n",
      "FPR = 7.7%\n"
     ]
    },
    {
     "data": {
      "image/png": "[encoded data removed]",
      "text/plain": [
       "<Figure size 432x288 with 2 Axes>"
      ]
     },
     "metadata": {
      "needs_background": "light"
     },
     "output_type": "display_data"
    }
   ],
   "source": [
    "confusion_matrix_train(logit_model1)"
   ]
  },
  {
   "cell_type": "code",
   "execution_count": 40,
   "id": "474d93d2",
   "metadata": {
    "scrolled": false
   },
   "outputs": [
    {
     "name": "stdout",
     "output_type": "stream",
     "text": [
      "Optimization terminated successfully.\n",
      "         Current function value: 0.512483\n",
      "         Iterations 9\n",
      "                           Logit Regression Results                           \n",
      "==============================================================================\n",
      "Dep. Variable:             good_movie   No. Observations:                 4923\n",
      "Model:                          Logit   Df Residuals:                     4914\n",
      "Method:                           MLE   Df Model:                            8\n",
      "Date:                Tue, 28 Feb 2023   Pseudo R-squ.:                  0.1201\n",
      "Time:                        09:12:27   Log-Likelihood:                -2523.0\n",
      "converged:                       True   LL-Null:                       -2867.2\n",
      "Covariance Type:            nonrobust   LLR p-value:                2.180e-143\n",
      "=================================================================================================================\n",
      "                                                    coef    std err          z      P>|z|      [0.025      0.975]\n",
      "-----------------------------------------------------------------------------------------------------------------\n",
      "Intercept                                        40.0321   4.17e+06   9.61e-06      1.000   -8.16e+06    8.16e+06\n",
      "duration                                          0.0271      0.002     14.913      0.000       0.024       0.031\n",
      "title_year                                       -0.0285      0.003    -10.443      0.000      -0.034      -0.023\n",
      "director_facebook_likes                           0.0001   2.12e-05      5.351      0.000    7.19e-05       0.000\n",
      "actors_facebook_likes                             0.3784      0.083      4.578      0.000       0.216       0.540\n",
      "director_facebook_likes:actors_facebook_likes -3.635e-05   2.52e-05     -1.440      0.150   -8.58e-05    1.31e-05\n",
      "country_UK                                       13.5154   4.17e+06   3.24e-06      1.000   -8.16e+06    8.16e+06\n",
      "country_USA                                      12.8929   4.17e+06    3.1e-06      1.000   -8.16e+06    8.16e+06\n",
      "country_Others                                   13.6238   4.17e+06   3.27e-06      1.000   -8.16e+06    8.16e+06\n",
      "budget                                           -0.5981      0.091     -6.585      0.000      -0.776      -0.420\n",
      "=================================================================================================================\n"
     ]
    }
   ],
   "source": [
    "logit_model = sm.logit(formula= 'good_movie ~ duration + title_year + director_facebook_likes * actors_facebook_likes + country_UK + country_USA + country_Others + budget', data = movies).fit()\n",
    "print(logit_model.summary())"
   ]
  },
  {
   "cell_type": "code",
   "execution_count": 92,
   "id": "3771ef26",
   "metadata": {},
   "outputs": [],
   "source": [
    "def confusion_matrix_train(model,cutoff=0.43):\n",
    "    # Confusion matrix\n",
    "    cm_df = pd.DataFrame(model.pred_table(threshold = cutoff))\n",
    "    #Formatting the confusion matrix\n",
    "    cm_df.columns = ['Predicted 0', 'Predicted 1'] \n",
    "    cm_df = cm_df.rename(index={0: 'Actual 0',1: 'Actual 1'})\n",
    "    cm = np.array(cm_df)\n",
    "    # Calculate the accuracy\n",
    "    accuracy = (cm[0,0]+cm[1,1])/cm.sum()\n",
    "    fnr = (cm[1,0])/(cm[1,0]+cm[1,1])\n",
    "    precision = (cm[1,1])/(cm[0,1]+cm[1,1])\n",
    "    fpr = (cm[0,1])/(cm[0,0]+cm[0,1])\n",
    "    tpr = (cm[1,1])/(cm[1,0]+cm[1,1])\n",
    "    sns.heatmap(cm_df, annot=True, cmap='Blues', fmt='g')\n",
    "    plt.ylabel(\"Actual Values\")\n",
    "    plt.xlabel(\"Predicted Values\")\n",
    "    print(\"Classification accuracy = {:.1%}\".format(accuracy))\n",
    "    print(\"Precision = {:.1%}\".format(precision))\n",
    "    print(\"TPR or Recall = {:.1%}\".format(tpr))\n",
    "    print(\"FNR = {:.1%}\".format(fnr))\n",
    "    print(\"FPR = {:.1%}\".format(fpr))"
   ]
  },
  {
   "cell_type": "code",
   "execution_count": 93,
   "id": "30960832",
   "metadata": {},
   "outputs": [
    {
     "name": "stdout",
     "output_type": "stream",
     "text": [
      "Classification accuracy = 76.1%\n",
      "Precision = 62.2%\n",
      "TPR or Recall = 33.5%\n",
      "FNR = 66.5%\n",
      "FPR = 7.7%\n"
     ]
    },
    {
     "data": {
      "image/png": "[encoded data removed]",
      "text/plain": [
       "<Figure size 432x288 with 2 Axes>"
      ]
     },
     "metadata": {
      "needs_background": "light"
     },
     "output_type": "display_data"
    }
   ],
   "source": [
    "confusion_matrix_train(logit_model1)"
   ]
  },
  {
   "cell_type": "markdown",
   "id": "dfef4852",
   "metadata": {},
   "source": [
    "# Gab work"
   ]
  },
  {
   "cell_type": "code",
   "execution_count": 94,
   "id": "42be9175",
   "metadata": {},
   "outputs": [],
   "source": [
    "import numpy as np\n",
    "import pandas as pd\n",
    "import matplotlib.pyplot as plt\n",
    "import seaborn as sns\n",
    "import statsmodels.formula.api as sm\n",
    "from sklearn.metrics import roc_curve, auc"
   ]
  },
  {
   "cell_type": "code",
   "execution_count": 95,
   "id": "046cc05a",
   "metadata": {},
   "outputs": [],
   "source": [
    "def confusion_matrix_data(data, actual_values, model, cutoff = 0.5):\n",
    "# Predict the values using the Logit model\n",
    "    pred_values = model.predict(data)\n",
    "# Specify the bins\n",
    "    bins = np.array([0,cutoff,1])\n",
    "# Confusion matrix\n",
    "    cm = np.histogram2d(actual_values, pred_values, bins=bins)[0]\n",
    "    cm_df = pd.DataFrame(cm)\n",
    "    cm_df.columns = ['Predicted 0','Predicted 1']\n",
    "    cm_df = cm_df.rename(index = {0: 'Actual 0',1:'Actual 1'})\n",
    "# Calculate the accuracy\n",
    "    accuracy = (cm[0,0]+cm[1,1])/cm.sum()\n",
    "    fnr = (cm[1,0])/(cm[1,0]+cm[1,1])\n",
    "    precision = (cm[1,1])/(cm[0,1]+cm[1,1])\n",
    "    fpr = (cm[0,1])/(cm[0,0]+cm[0,1])\n",
    "    tpr = (cm[1,1])/(cm[1,0]+cm[1,1])\n",
    "    fpr_roc, tpr_roc, auc_thresholds = roc_curve(actual_values, pred_values)\n",
    "    auc_value = (auc(fpr_roc, tpr_roc))# AUC of ROC\n",
    "    sns.heatmap(cm_df, annot=True, cmap='Blues', fmt='g')\n",
    "    plt.ylabel(\"Actual Values\")\n",
    "    plt.xlabel(\"Predicted Values\")\n",
    "    print(\"Classification accuracy = {:.1%}\".format(accuracy))\n",
    "    print(\"Precision = {:.1%}\".format(precision))\n",
    "    print(\"TPR or Recall = {:.1%}\".format(tpr))\n",
    "    print(\"FNR = {:.1%}\".format(fnr))\n",
    "    print(\"FPR = {:.1%}\".format(fpr))\n",
    "    print(\"ROC-AUC = {:.1%}\".format(auc_value))\n",
    "    return cm_df"
   ]
  },
  {
   "cell_type": "code",
   "execution_count": 96,
   "id": "0774e7ab",
   "metadata": {},
   "outputs": [
    {
     "data": {
      "text/plain": [
       "0       1\n",
       "1       1\n",
       "2       1\n",
       "3       1\n",
       "5       1\n",
       "       ..\n",
       "5026    0\n",
       "5027    0\n",
       "5033    0\n",
       "5035    0\n",
       "5042    0\n",
       "Name: budget, Length: 3975, dtype: int64"
      ]
     },
     "execution_count": 96,
     "metadata": {},
     "output_type": "execute_result"
    }
   ],
   "source": [
    "# Did not dummy budget for this one, wanted to try out a transformation instead\n",
    "movies2 = movies.dropna()\n",
    "movies2.budget"
   ]
  },
  {
   "cell_type": "code",
   "execution_count": 93,
   "id": "ddbf7f41",
   "metadata": {},
   "outputs": [
    {
     "name": "stdout",
     "output_type": "stream",
     "text": [
      "Optimization terminated successfully.\n",
      "         Current function value: 0.496666\n",
      "         Iterations 7\n"
     ]
    },
    {
     "data": {
      "text/html": [
       "<table class=\"simpletable\">\n",
       "<caption>Logit Regression Results</caption>\n",
       "<tr>\n",
       "  <th>Dep. Variable:</th>      <td>good_movie</td>    <th>  No. Observations:  </th>   <td>  3756</td>  \n",
       "</tr>\n",
       "<tr>\n",
       "  <th>Model:</th>                 <td>Logit</td>      <th>  Df Residuals:      </th>   <td>  3747</td>  \n",
       "</tr>\n",
       "<tr>\n",
       "  <th>Method:</th>                 <td>MLE</td>       <th>  Df Model:          </th>   <td>     8</td>  \n",
       "</tr>\n",
       "<tr>\n",
       "  <th>Date:</th>            <td>Tue, 28 Feb 2023</td> <th>  Pseudo R-squ.:     </th>   <td>0.1453</td>  \n",
       "</tr>\n",
       "<tr>\n",
       "  <th>Time:</th>                <td>09:26:07</td>     <th>  Log-Likelihood:    </th>  <td> -1865.5</td> \n",
       "</tr>\n",
       "<tr>\n",
       "  <th>converged:</th>             <td>True</td>       <th>  LL-Null:           </th>  <td> -2182.6</td> \n",
       "</tr>\n",
       "<tr>\n",
       "  <th>Covariance Type:</th>     <td>nonrobust</td>    <th>  LLR p-value:       </th> <td>1.014e-131</td>\n",
       "</tr>\n",
       "</table>\n",
       "<table class=\"simpletable\">\n",
       "<tr>\n",
       "                        <td></td>                           <th>coef</th>     <th>std err</th>      <th>z</th>      <th>P>|z|</th>  <th>[0.025</th>    <th>0.975]</th>  \n",
       "</tr>\n",
       "<tr>\n",
       "  <th>Intercept</th>                                     <td>    0.8739</td> <td>      nan</td> <td>      nan</td> <td>   nan</td> <td>      nan</td> <td>      nan</td>\n",
       "</tr>\n",
       "<tr>\n",
       "  <th>duration</th>                                      <td>    0.0368</td> <td>    0.002</td> <td>   16.458</td> <td> 0.000</td> <td>    0.032</td> <td>    0.041</td>\n",
       "</tr>\n",
       "<tr>\n",
       "  <th>director_facebook_likes</th>                       <td>    0.0001</td> <td> 2.44e-05</td> <td>    5.670</td> <td> 0.000</td> <td> 9.06e-05</td> <td>    0.000</td>\n",
       "</tr>\n",
       "<tr>\n",
       "  <th>actors_facebook_likes</th>                         <td>    0.5218</td> <td>    0.092</td> <td>    5.662</td> <td> 0.000</td> <td>    0.341</td> <td>    0.702</td>\n",
       "</tr>\n",
       "<tr>\n",
       "  <th>director_facebook_likes:actors_facebook_likes</th> <td>-5.841e-05</td> <td> 2.84e-05</td> <td>   -2.057</td> <td> 0.040</td> <td>   -0.000</td> <td>-2.76e-06</td>\n",
       "</tr>\n",
       "<tr>\n",
       "  <th>country_UK</th>                                    <td>    0.5566</td> <td>      nan</td> <td>      nan</td> <td>   nan</td> <td>      nan</td> <td>      nan</td>\n",
       "</tr>\n",
       "<tr>\n",
       "  <th>country_USA</th>                                   <td>   -0.2409</td> <td>      nan</td> <td>      nan</td> <td>   nan</td> <td>      nan</td> <td>      nan</td>\n",
       "</tr>\n",
       "<tr>\n",
       "  <th>country_Others</th>                                <td>    0.5582</td> <td>      nan</td> <td>      nan</td> <td>   nan</td> <td>      nan</td> <td>      nan</td>\n",
       "</tr>\n",
       "<tr>\n",
       "  <th>budget</th>                                        <td>   2.5e-10</td> <td> 1.57e-10</td> <td>    1.597</td> <td> 0.110</td> <td>-5.68e-11</td> <td> 5.57e-10</td>\n",
       "</tr>\n",
       "<tr>\n",
       "  <th>np.log(budget)</th>                                <td>   -0.3750</td> <td>    0.031</td> <td>  -12.175</td> <td> 0.000</td> <td>   -0.435</td> <td>   -0.315</td>\n",
       "</tr>\n",
       "</table>"
      ],
      "text/plain": [
       "<class 'statsmodels.iolib.summary.Summary'>\n",
       "\"\"\"\n",
       "                           Logit Regression Results                           \n",
       "==============================================================================\n",
       "Dep. Variable:             good_movie   No. Observations:                 3756\n",
       "Model:                          Logit   Df Residuals:                     3747\n",
       "Method:                           MLE   Df Model:                            8\n",
       "Date:                Tue, 28 Feb 2023   Pseudo R-squ.:                  0.1453\n",
       "Time:                        09:26:07   Log-Likelihood:                -1865.5\n",
       "converged:                       True   LL-Null:                       -2182.6\n",
       "Covariance Type:            nonrobust   LLR p-value:                1.014e-131\n",
       "=================================================================================================================\n",
       "                                                    coef    std err          z      P>|z|      [0.025      0.975]\n",
       "-----------------------------------------------------------------------------------------------------------------\n",
       "Intercept                                         0.8739        nan        nan        nan         nan         nan\n",
       "duration                                          0.0368      0.002     16.458      0.000       0.032       0.041\n",
       "director_facebook_likes                           0.0001   2.44e-05      5.670      0.000    9.06e-05       0.000\n",
       "actors_facebook_likes                             0.5218      0.092      5.662      0.000       0.341       0.702\n",
       "director_facebook_likes:actors_facebook_likes -5.841e-05   2.84e-05     -2.057      0.040      -0.000   -2.76e-06\n",
       "country_UK                                        0.5566        nan        nan        nan         nan         nan\n",
       "country_USA                                      -0.2409        nan        nan        nan         nan         nan\n",
       "country_Others                                    0.5582        nan        nan        nan         nan         nan\n",
       "budget                                           2.5e-10   1.57e-10      1.597      0.110   -5.68e-11    5.57e-10\n",
       "np.log(budget)                                   -0.3750      0.031    -12.175      0.000      -0.435      -0.315\n",
       "=================================================================================================================\n",
       "\"\"\""
      ]
     },
     "execution_count": 93,
     "metadata": {},
     "output_type": "execute_result"
    }
   ],
   "source": [
    "logit_modelg = sm.logit(formula= 'good_movie ~ duration + director_facebook_likes * actors_facebook_likes + country_UK + country_USA + country_Others + budget + np.log(budget)', data = movies2).fit()\n",
    "logit_modelg.summary()"
   ]
  },
  {
   "cell_type": "code",
   "execution_count": 97,
   "id": "6b93cbb2",
   "metadata": {},
   "outputs": [
    {
     "name": "stdout",
     "output_type": "stream",
     "text": [
      "Classification accuracy = 76.4%\n",
      "Precision = 64.3%\n",
      "TPR or Recall = 29.2%\n",
      "FNR = 70.8%\n",
      "FPR = 6.0%\n",
      "ROC-AUC = 74.8%\n"
     ]
    },
    {
     "data": {
      "text/html": [
       "<div>\n",
       "<style scoped>\n",
       "    .dataframe tbody tr th:only-of-type {\n",
       "        vertical-align: middle;\n",
       "    }\n",
       "\n",
       "    .dataframe tbody tr th {\n",
       "        vertical-align: top;\n",
       "    }\n",
       "\n",
       "    .dataframe thead th {\n",
       "        text-align: right;\n",
       "    }\n",
       "</style>\n",
       "<table border=\"1\" class=\"dataframe\">\n",
       "  <thead>\n",
       "    <tr style=\"text-align: right;\">\n",
       "      <th></th>\n",
       "      <th>Predicted 0</th>\n",
       "      <th>Predicted 1</th>\n",
       "    </tr>\n",
       "  </thead>\n",
       "  <tbody>\n",
       "    <tr>\n",
       "      <th>Actual 0</th>\n",
       "      <td>2723.0</td>\n",
       "      <td>175.0</td>\n",
       "    </tr>\n",
       "    <tr>\n",
       "      <th>Actual 1</th>\n",
       "      <td>762.0</td>\n",
       "      <td>315.0</td>\n",
       "    </tr>\n",
       "  </tbody>\n",
       "</table>\n",
       "</div>"
      ],
      "text/plain": [
       "          Predicted 0  Predicted 1\n",
       "Actual 0       2723.0        175.0\n",
       "Actual 1        762.0        315.0"
      ]
     },
     "execution_count": 97,
     "metadata": {},
     "output_type": "execute_result"
    },
    {
     "data": {
      "image/png": "[encoded data removed]",
      "text/plain": [
       "<Figure size 432x288 with 2 Axes>"
      ]
     },
     "metadata": {
      "needs_background": "light"
     },
     "output_type": "display_data"
    }
   ],
   "source": [
    "confusion_matrix_data(movies2, movies2.good_movie, logit_model1, cutoff = 0.46)"
   ]
  },
  {
   "cell_type": "code",
   "execution_count": 95,
   "id": "d126d7b2",
   "metadata": {},
   "outputs": [
    {
     "name": "stdout",
     "output_type": "stream",
     "text": [
      "0.7631650099403579\n"
     ]
    }
   ],
   "source": [
    "y = movies2.good_movie\n",
    "y_pred = logit_modelg.predict(movies2)\n",
    "fpr, tpr, auc_thresholds = roc_curve(y, y_pred)\n",
    "print(auc(fpr, tpr)) # AUC of ROC"
   ]
  }
 ],
 "metadata": {
  "kernelspec": {
   "display_name": "Python 3 (ipykernel)",
   "language": "python",
   "name": "python3"
  },
  "language_info": {
   "codemirror_mode": {
    "name": "ipython",
    "version": 3
   },
   "file_extension": ".py",
   "mimetype": "text/x-python",
   "name": "python",
   "nbconvert_exporter": "python",
   "pygments_lexer": "ipython3",
   "version": "3.9.12"
  }
 },
 "nbformat": 4,
 "nbformat_minor": 5
}
