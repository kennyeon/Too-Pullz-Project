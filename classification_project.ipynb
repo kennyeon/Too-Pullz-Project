{
 "cells": [
  {
   "cell_type": "code",
   "execution_count": 1,
   "id": "d08e502b",
   "metadata": {},
   "outputs": [],
   "source": [
    "import pandas as pd\n",
    "import numpy as np\n",
    "import statsmodels.formula.api as sm\n",
    "import seaborn as sns\n",
    "import matplotlib.pyplot as plt\n",
    "import os\n",
    "import math"
   ]
  },
  {
   "cell_type": "markdown",
   "id": "815b6ef1",
   "metadata": {},
   "source": [
    "Response: imdb_score"
   ]
  },
  {
   "cell_type": "code",
   "execution_count": 2,
   "id": "22746968",
   "metadata": {},
   "outputs": [
    {
     "data": {
      "text/plain": [
       "['color',\n",
       " 'director_name',\n",
       " 'num_critic_for_reviews',\n",
       " 'duration',\n",
       " 'director_facebook_likes',\n",
       " 'actor_3_facebook_likes',\n",
       " 'actor_2_name',\n",
       " 'actor_1_facebook_likes',\n",
       " 'gross',\n",
       " 'genres',\n",
       " 'actor_1_name',\n",
       " 'movie_title',\n",
       " 'num_voted_users',\n",
       " 'cast_total_facebook_likes',\n",
       " 'actor_3_name',\n",
       " 'facenumber_in_poster',\n",
       " 'plot_keywords',\n",
       " 'movie_imdb_link',\n",
       " 'num_user_for_reviews',\n",
       " 'language',\n",
       " 'country',\n",
       " 'content_rating',\n",
       " 'budget',\n",
       " 'title_year',\n",
       " 'actor_2_facebook_likes',\n",
       " 'imdb_score',\n",
       " 'aspect_ratio',\n",
       " 'movie_facebook_likes']"
      ]
     },
     "execution_count": 2,
     "metadata": {},
     "output_type": "execute_result"
    }
   ],
   "source": [
    "movies = pd.read_csv('movie_metadata.csv')\n",
    "list(movies.columns)"
   ]
  },
  {
   "cell_type": "markdown",
   "id": "cc07e98c",
   "metadata": {},
   "source": [
    "# IMDB SCORE\n",
    "#### If score is above 75% quartile movie is good (1), else bad (0)"
   ]
  },
  {
   "cell_type": "code",
   "execution_count": 3,
   "id": "f756903e",
   "metadata": {},
   "outputs": [],
   "source": [
    "good_score = movies['imdb_score'].quantile(0.75)\n",
    "movies['good_movie'] = movies['imdb_score'].apply(lambda x: 1 if x >= good_score else 0)"
   ]
  },
  {
   "cell_type": "code",
   "execution_count": 4,
   "id": "fdd274fa",
   "metadata": {},
   "outputs": [
    {
     "data": {
      "text/plain": [
       "good_movie                   1.000000\n",
       "imdb_score                   0.681022\n",
       "num_voted_users              0.364947\n",
       "num_user_for_reviews         0.272405\n",
       "movie_facebook_likes         0.232860\n",
       "num_critic_for_reviews       0.221334\n",
       "duration                     0.200878\n",
       "gross                        0.165646\n",
       "director_facebook_likes      0.163755\n",
       "aspect_ratio                 0.066005\n",
       "actor_2_facebook_likes       0.043753\n",
       "cast_total_facebook_likes    0.042055\n",
       "actor_1_facebook_likes       0.038629\n",
       "actor_3_facebook_likes       0.027265\n",
       "budget                       0.000898\n",
       "facenumber_in_poster        -0.066470\n",
       "title_year                  -0.197580\n",
       "dtype: float64"
      ]
     },
     "execution_count": 4,
     "metadata": {},
     "output_type": "execute_result"
    }
   ],
   "source": [
    "movies.corrwith(movies.good_movie).sort_values(ascending = False)"
   ]
  },
  {
   "cell_type": "code",
   "execution_count": 5,
   "id": "4ba2f54f",
   "metadata": {},
   "outputs": [
    {
     "name": "stdout",
     "output_type": "stream",
     "text": [
      "color                         19\n",
      "director_name                104\n",
      "num_critic_for_reviews        50\n",
      "duration                      15\n",
      "director_facebook_likes      104\n",
      "actor_3_facebook_likes        23\n",
      "actor_2_name                  13\n",
      "actor_1_facebook_likes         7\n",
      "gross                        884\n",
      "genres                         0\n",
      "actor_1_name                   7\n",
      "movie_title                    0\n",
      "num_voted_users                0\n",
      "cast_total_facebook_likes      0\n",
      "actor_3_name                  23\n",
      "facenumber_in_poster          13\n",
      "plot_keywords                153\n",
      "movie_imdb_link                0\n",
      "num_user_for_reviews          21\n",
      "language                      12\n",
      "country                        5\n",
      "content_rating               303\n",
      "budget                       492\n",
      "title_year                   108\n",
      "actor_2_facebook_likes        13\n",
      "imdb_score                     0\n",
      "aspect_ratio                 329\n",
      "movie_facebook_likes           0\n",
      "good_movie                     0\n",
      "dtype: int64\n"
     ]
    }
   ],
   "source": [
    "missing_values_sum = movies.isna().sum()\n",
    "print(missing_values_sum)"
   ]
  },
  {
   "cell_type": "markdown",
   "id": "bd15aa9b",
   "metadata": {},
   "source": [
    "# EDA"
   ]
  },
  {
   "cell_type": "markdown",
   "id": "228d2c65",
   "metadata": {},
   "source": [
    "### GENRE"
   ]
  },
  {
   "cell_type": "code",
   "execution_count": 6,
   "id": "7ee7f719",
   "metadata": {
    "scrolled": true
   },
   "outputs": [
    {
     "data": {
      "image/png": "[encoded data removed]",
      "text/plain": [
       "<Figure size 1728x576 with 1 Axes>"
      ]
     },
     "metadata": {
      "needs_background": "light"
     },
     "output_type": "display_data"
    }
   ],
   "source": [
    "genres_df = movies.loc[:, [\"genres\", \"imdb_score\"]].copy()\n",
    "\n",
    "genres_df[\"Action\"] = [1 if \"Action\" in genre else 0 for genre in genres_df[\"genres\"]]\n",
    "genres_df[\"Adventure\"] = [1 if \"Adventure\" in genre else 0 for genre in genres_df[\"genres\"]]\n",
    "genres_df[\"Animation\"] = [1 if \"Animation\" in genre else 0 for genre in genres_df[\"genres\"]]\n",
    "genres_df[\"Biography\"] = [1 if \"Biography\" in genre else 0 for genre in genres_df[\"genres\"]]\n",
    "genres_df[\"Comedy\"] = [1 if \"Comedy\" in genre else 0 for genre in genres_df[\"genres\"]]\n",
    "genres_df[\"Crime\"] = [1 if \"Crime\" in genre else 0 for genre in genres_df[\"genres\"]]\n",
    "genres_df[\"Documentary\"] = [1 if \"Documentary\" in genre else 0 for genre in genres_df[\"genres\"]]\n",
    "genres_df[\"Drama\"] = [1 if \"Drama\" in genre else 0 for genre in genres_df[\"genres\"]]\n",
    "genres_df[\"Family\"] = [1 if \"Family\" in genre else 0 for genre in genres_df[\"genres\"]]\n",
    "genres_df[\"Fantasy\"] = [1 if \"Fantasy\" in genre else 0 for genre in genres_df[\"genres\"]]\n",
    "genres_df[\"Film-Noir\"] = [1 if \"Film-Noir\" in genre else 0 for genre in genres_df[\"genres\"]]\n",
    "genres_df[\"History\"] = [1 if \"History\" in genre else 0 for genre in genres_df[\"genres\"]]\n",
    "genres_df[\"Horror\"] = [1 if \"Horror\" in genre else 0 for genre in genres_df[\"genres\"]]\n",
    "genres_df[\"Musical\"] = [1 if \"Musical\" in genre else 0 for genre in genres_df[\"genres\"]]\n",
    "genres_df[\"Mystery\"] = [1 if \"Mystery\" in genre else 0 for genre in genres_df[\"genres\"]]\n",
    "genres_df[\"News\"] = [1 if \"News\" in genre else 0 for genre in genres_df[\"genres\"]]\n",
    "genres_df[\"Romance\"] = [1 if \"Romance\" in genre else 0 for genre in genres_df[\"genres\"]]\n",
    "genres_df[\"Sci-Fi\"] = [1 if \"Sci-Fi\" in genre else 0 for genre in genres_df[\"genres\"]]\n",
    "genres_df[\"Short\"] = [1 if \"Short\" in genre else 0 for genre in genres_df[\"genres\"]]\n",
    "genres_df[\"Sport\"] = [1 if \"Sport\" in genre else 0 for genre in genres_df[\"genres\"]]\n",
    "genres_df[\"Thriller\"] = [1 if \"Thriller\" in genre else 0 for genre in genres_df[\"genres\"]]\n",
    "genres_df[\"War\"] = [1 if \"War\" in genre else 0 for genre in genres_df[\"genres\"]]\n",
    "genres_df[\"Western\"] = [1 if \"Western\" in genre else 0 for genre in genres_df[\"genres\"]]\n",
    "\n",
    "\n",
    "means = []\n",
    "for column in genres_df.columns[2:]:\n",
    "    means.append(genres_df.loc[genres_df[column] == 1, \"imdb_score\"].mean())\n",
    "\n",
    "    \n",
    "fig, ax = plt.subplots(figsize=(24, 8))\n",
    "plt.bar(x=genres_df.columns[2:], height=means)\n",
    "plt.title(\"Average imdb scores for different genres\")\n",
    "plt.show()"
   ]
  },
  {
   "cell_type": "markdown",
   "id": "369342d2",
   "metadata": {},
   "source": [
    "### Country"
   ]
  },
  {
   "cell_type": "code",
   "execution_count": 7,
   "id": "07c92306",
   "metadata": {},
   "outputs": [],
   "source": [
    "movies['country'] = pd.Categorical(movies['country'])\n",
    "\n",
    "movies['country'] = movies['country'].cat.add_categories('Others')\n",
    "\n",
    "movies.loc[~movies['country'].isin(['USA', 'UK']), 'country'] = 'Others'\n",
    "\n",
    "movies['country'] = pd.Categorical(movies['country'])"
   ]
  },
  {
   "cell_type": "code",
   "execution_count": 8,
   "id": "ffcbcb83",
   "metadata": {},
   "outputs": [],
   "source": [
    "# Create dummy variables for the 'country' column\n",
    "dummies = pd.get_dummies(movies['country'], prefix = 'country')\n",
    "\n",
    "# Add the dummy variables to the original DataFrame\n",
    "movies = pd.concat([movies, dummies], axis=1)\n",
    "\n",
    "# Drop the original 'country' column\n",
    "movies.drop('country', axis=1, inplace=True)"
   ]
  },
  {
   "cell_type": "markdown",
   "id": "946400cf",
   "metadata": {},
   "source": [
    "### Facebook likes"
   ]
  },
  {
   "cell_type": "code",
   "execution_count": 9,
   "id": "fe74d981",
   "metadata": {},
   "outputs": [],
   "source": [
    "#combining all actor facebook likes\n",
    "movies['actors_facebook_likes'] = movies['actor_1_facebook_likes'] + movies['actor_2_facebook_likes'] + movies['actor_3_facebook_likes']"
   ]
  },
  {
   "cell_type": "code",
   "execution_count": 10,
   "id": "c6e59a62",
   "metadata": {},
   "outputs": [
    {
     "data": {
      "text/plain": [
       "<seaborn.axisgrid.FacetGrid at 0x7fc691465460>"
      ]
     },
     "execution_count": 10,
     "metadata": {},
     "output_type": "execute_result"
    },
    {
     "data": {
      "image/png": "[encoded data removed]",
      "text/plain": [
       "<Figure size 360x360 with 1 Axes>"
      ]
     },
     "metadata": {
      "needs_background": "light"
     },
     "output_type": "display_data"
    }
   ],
   "source": [
    "sns.displot(movies, x=\"actors_facebook_likes\")"
   ]
  },
  {
   "cell_type": "code",
   "execution_count": 11,
   "id": "dd2c757a",
   "metadata": {},
   "outputs": [],
   "source": [
    "# If the actors have facebook likes greater than 75% of the others, they are famous (1) else not (0)\n",
    "famous = movies['actors_facebook_likes'].quantile(0.7)\n",
    "movies['actors_facebook_likes'] = movies['actors_facebook_likes'].apply(lambda x: 1 if x > famous else 0)"
   ]
  },
  {
   "cell_type": "markdown",
   "id": "bb4a9b05",
   "metadata": {},
   "source": [
    "### Budget"
   ]
  },
  {
   "cell_type": "code",
   "execution_count": 12,
   "id": "a074d96d",
   "metadata": {},
   "outputs": [
    {
     "data": {
      "text/plain": [
       "<seaborn.axisgrid.FacetGrid at 0x7fdeab591c70>"
      ]
     },
     "execution_count": 12,
     "metadata": {},
     "output_type": "execute_result"
    },
    {
     "data": {
      "image/png": "[encoded data removed]",
      "text/plain": [
       "<Figure size 360x360 with 1 Axes>"
      ]
     },
     "metadata": {
      "needs_background": "light"
     },
     "output_type": "display_data"
    }
   ],
   "source": [
    "sns.displot(movies, x=\"budget\")"
   ]
  },
  {
   "cell_type": "code",
   "execution_count": 13,
   "id": "baf27cce",
   "metadata": {},
   "outputs": [
    {
     "name": "stdout",
     "output_type": "stream",
     "text": [
      "MAX: 12215500000.0 , MIN: 218.0 , AVG: 39752620.436387606\n"
     ]
    }
   ],
   "source": [
    "print('MAX:', movies['budget'].max(), ', MIN:', movies['budget'].min(), ', AVG:', movies['budget'].mean())"
   ]
  },
  {
   "cell_type": "code",
   "execution_count": 14,
   "id": "729335cd",
   "metadata": {},
   "outputs": [],
   "source": [
    "# if budget > average, expensive (1), else cheap (0)\n",
    "movies['budget'] = movies['budget'].apply(lambda x: 1 if x > movies['budget'].mean() else 0)"
   ]
  },
  {
   "cell_type": "markdown",
   "id": "7a172c9e",
   "metadata": {},
   "source": [
    "## Check correlation"
   ]
  },
  {
   "cell_type": "code",
   "execution_count": 12,
   "id": "0ab93b2a",
   "metadata": {},
   "outputs": [
    {
     "data": {
      "text/plain": [
       "good_movie                      1.000000\n",
       "imdb_score                      0.681022\n",
       "num_voted_users                 0.364947\n",
       "num_user_for_reviews            0.272405\n",
       "movie_facebook_likes            0.232860\n",
       "                                  ...   \n",
       "country_Taiwan                       NaN\n",
       "country_Thailand                     NaN\n",
       "country_Turkey                       NaN\n",
       "country_United Arab Emirates         NaN\n",
       "country_West Germany                 NaN\n",
       "Length: 84, dtype: float64"
      ]
     },
     "execution_count": 12,
     "metadata": {},
     "output_type": "execute_result"
    }
   ],
   "source": [
    "movies.corrwith(movies.good_movie).sort_values(ascending = False)"
   ]
  },
  {
   "cell_type": "markdown",
   "id": "e8c3d18b",
   "metadata": {},
   "source": [
    "# CREATING THE MODEL"
   ]
  },
  {
   "cell_type": "code",
   "execution_count": 13,
   "id": "474d93d2",
   "metadata": {
    "scrolled": true
   },
   "outputs": [
    {
     "name": "stdout",
     "output_type": "stream",
     "text": [
      "Optimization terminated successfully.\n",
      "         Current function value: 0.513657\n",
      "         Iterations 7\n",
      "                           Logit Regression Results                           \n",
      "==============================================================================\n",
      "Dep. Variable:             good_movie   No. Observations:                 4538\n",
      "Model:                          Logit   Df Residuals:                     4529\n",
      "Method:                           MLE   Df Model:                            8\n",
      "Date:                Tue, 28 Feb 2023   Pseudo R-squ.:                  0.1166\n",
      "Time:                        21:28:51   Log-Likelihood:                -2331.0\n",
      "converged:                       True   LL-Null:                       -2638.6\n",
      "Covariance Type:            nonrobust   LLR p-value:                1.261e-127\n",
      "=================================================================================================================\n",
      "                                                    coef    std err          z      P>|z|      [0.025      0.975]\n",
      "-----------------------------------------------------------------------------------------------------------------\n",
      "Intercept                                        45.0548   2.42e+06   1.86e-05      1.000   -4.74e+06    4.74e+06\n",
      "duration                                          0.0241      0.002     13.437      0.000       0.021       0.028\n",
      "title_year                                       -0.0318      0.003    -11.180      0.000      -0.037      -0.026\n",
      "director_facebook_likes                           0.0001   2.14e-05      4.925      0.000    6.34e-05       0.000\n",
      "actors_facebook_likes                             0.3179      0.083      3.821      0.000       0.155       0.481\n",
      "director_facebook_likes:actors_facebook_likes -3.091e-05   2.53e-05     -1.220      0.223   -8.06e-05    1.88e-05\n",
      "country_UK                                       15.2353   2.42e+06    6.3e-06      1.000   -4.74e+06    4.74e+06\n",
      "country_USA                                      14.5073   2.42e+06      6e-06      1.000   -4.74e+06    4.74e+06\n",
      "country_Others                                   15.3122   2.42e+06   6.33e-06      1.000   -4.74e+06    4.74e+06\n",
      "budget                                        -3.966e-10   3.81e-10     -1.042      0.297   -1.14e-09    3.49e-10\n",
      "=================================================================================================================\n"
     ]
    }
   ],
   "source": [
    "logit_model = sm.logit(formula= 'good_movie ~ duration + title_year + director_facebook_likes * actors_facebook_likes + country_UK + country_USA + country_Others + budget', data = movies).fit()\n",
    "print(logit_model.summary())"
   ]
  },
  {
   "cell_type": "code",
   "execution_count": 14,
   "id": "3771ef26",
   "metadata": {},
   "outputs": [],
   "source": [
    "def confusion_matrix_train(model,cutoff=0.46):\n",
    "    # Confusion matrix\n",
    "    cm_df = pd.DataFrame(model.pred_table(threshold = cutoff))\n",
    "    #Formatting the confusion matrix\n",
    "    cm_df.columns = ['Predicted 0', 'Predicted 1'] \n",
    "    cm_df = cm_df.rename(index={0: 'Actual 0',1: 'Actual 1'})\n",
    "    cm = np.array(cm_df)\n",
    "    # Calculate the accuracy\n",
    "    accuracy = (cm[0,0]+cm[1,1])/cm.sum()\n",
    "    fnr = (cm[1,0])/(cm[1,0]+cm[1,1])\n",
    "    precision = (cm[1,1])/(cm[0,1]+cm[1,1])\n",
    "    fpr = (cm[0,1])/(cm[0,0]+cm[0,1])\n",
    "    tpr = (cm[1,1])/(cm[1,0]+cm[1,1])\n",
    "    sns.heatmap(cm_df, annot=True, cmap='Blues', fmt='g')\n",
    "    plt.ylabel(\"Actual Values\")\n",
    "    plt.xlabel(\"Predicted Values\")\n",
    "    print(\"Classification accuracy = {:.1%}\".format(accuracy))\n",
    "    print(\"Precision = {:.1%}\".format(precision))\n",
    "    print(\"TPR or Recall = {:.1%}\".format(tpr))\n",
    "    print(\"FNR = {:.1%}\".format(fnr))\n",
    "    print(\"FPR = {:.1%}\".format(fpr))"
   ]
  },
  {
   "cell_type": "code",
   "execution_count": 15,
   "id": "30960832",
   "metadata": {},
   "outputs": [
    {
     "name": "stdout",
     "output_type": "stream",
     "text": [
      "Classification accuracy = 76.6%\n",
      "Precision = 64.0%\n",
      "TPR or Recall = 29.3%\n",
      "FNR = 70.7%\n",
      "FPR = 6.0%\n"
     ]
    },
    {
     "data": {
      "image/png": "[encoded data removed]",
      "text/plain": [
       "<Figure size 432x288 with 2 Axes>"
      ]
     },
     "metadata": {
      "needs_background": "light"
     },
     "output_type": "display_data"
    }
   ],
   "source": [
    "confusion_matrix_train(logit_model)"
   ]
  },
  {
   "cell_type": "markdown",
   "id": "dfef4852",
   "metadata": {},
   "source": [
    "# Gab work"
   ]
  },
  {
   "cell_type": "code",
   "execution_count": 16,
   "id": "42be9175",
   "metadata": {},
   "outputs": [],
   "source": [
    "import numpy as np\n",
    "import pandas as pd\n",
    "import matplotlib.pyplot as plt\n",
    "import seaborn as sns\n",
    "import statsmodels.formula.api as sm\n",
    "from sklearn.metrics import roc_curve, auc"
   ]
  },
  {
   "cell_type": "code",
   "execution_count": 17,
   "id": "046cc05a",
   "metadata": {},
   "outputs": [],
   "source": [
    "def confusion_matrix_data(data, actual_values, model, cutoff = 0.5):\n",
    "# Predict the values using the Logit model\n",
    "    pred_values = model.predict(data)\n",
    "# Specify the bins\n",
    "    bins = np.array([0,cutoff,1])\n",
    "# Confusion matrix\n",
    "    cm = np.histogram2d(actual_values, pred_values, bins=bins)[0]\n",
    "    cm_df = pd.DataFrame(cm)\n",
    "    cm_df.columns = ['Predicted 0','Predicted 1']\n",
    "    cm_df = cm_df.rename(index = {0: 'Actual 0',1:'Actual 1'})\n",
    "# Calculate the accuracy\n",
    "    accuracy = (cm[0,0]+cm[1,1])/cm.sum()\n",
    "    fnr = (cm[1,0])/(cm[1,0]+cm[1,1])\n",
    "    precision = (cm[1,1])/(cm[0,1]+cm[1,1])\n",
    "    fpr = (cm[0,1])/(cm[0,0]+cm[0,1])\n",
    "    tpr = (cm[1,1])/(cm[1,0]+cm[1,1])\n",
    "    fpr_roc, tpr_roc, auc_thresholds = roc_curve(actual_values, pred_values)\n",
    "    auc_value = (auc(fpr_roc, tpr_roc))# AUC of ROC\n",
    "    sns.heatmap(cm_df, annot=True, cmap='Blues', fmt='g')\n",
    "    plt.ylabel(\"Actual Values\")\n",
    "    plt.xlabel(\"Predicted Values\")\n",
    "    print(\"Classification accuracy = {:.1%}\".format(accuracy))\n",
    "    print(\"Precision = {:.1%}\".format(precision))\n",
    "    print(\"TPR or Recall = {:.1%}\".format(tpr))\n",
    "    print(\"FNR = {:.1%}\".format(fnr))\n",
    "    print(\"FPR = {:.1%}\".format(fpr))\n",
    "    print(\"ROC-AUC = {:.1%}\".format(auc_value))\n",
    "    return cm_df"
   ]
  },
  {
   "cell_type": "code",
   "execution_count": 18,
   "id": "0774e7ab",
   "metadata": {},
   "outputs": [
    {
     "data": {
      "text/plain": [
       "0       237000000.0\n",
       "1       300000000.0\n",
       "2       245000000.0\n",
       "3       250000000.0\n",
       "5       263700000.0\n",
       "           ...     \n",
       "5026         4500.0\n",
       "5027        10000.0\n",
       "5033         7000.0\n",
       "5035         7000.0\n",
       "5042         1100.0\n",
       "Name: budget, Length: 3756, dtype: float64"
      ]
     },
     "execution_count": 18,
     "metadata": {},
     "output_type": "execute_result"
    }
   ],
   "source": [
    "# Did not dummy budget for this one, wanted to try out a transformation instead\n",
    "movies2 = movies.dropna()\n",
    "movies2.budget"
   ]
  },
  {
   "cell_type": "code",
   "execution_count": 89,
   "id": "ddbf7f41",
   "metadata": {},
   "outputs": [
    {
     "name": "stdout",
     "output_type": "stream",
     "text": [
      "Optimization terminated successfully.\n",
      "         Current function value: 0.506078\n",
      "         Iterations 6\n"
     ]
    },
    {
     "data": {
      "text/html": [
       "<table class=\"simpletable\">\n",
       "<caption>Logit Regression Results</caption>\n",
       "<tr>\n",
       "  <th>Dep. Variable:</th>      <td>good_movie</td>    <th>  No. Observations:  </th>   <td>  3756</td>  \n",
       "</tr>\n",
       "<tr>\n",
       "  <th>Model:</th>                 <td>Logit</td>      <th>  Df Residuals:      </th>   <td>  3749</td>  \n",
       "</tr>\n",
       "<tr>\n",
       "  <th>Method:</th>                 <td>MLE</td>       <th>  Df Model:          </th>   <td>     6</td>  \n",
       "</tr>\n",
       "<tr>\n",
       "  <th>Date:</th>            <td>Tue, 28 Feb 2023</td> <th>  Pseudo R-squ.:     </th>   <td>0.1291</td>  \n",
       "</tr>\n",
       "<tr>\n",
       "  <th>Time:</th>                <td>21:53:22</td>     <th>  Log-Likelihood:    </th>  <td> -1900.8</td> \n",
       "</tr>\n",
       "<tr>\n",
       "  <th>converged:</th>             <td>True</td>       <th>  LL-Null:           </th>  <td> -2182.6</td> \n",
       "</tr>\n",
       "<tr>\n",
       "  <th>Covariance Type:</th>     <td>nonrobust</td>    <th>  LLR p-value:       </th> <td>1.699e-118</td>\n",
       "</tr>\n",
       "</table>\n",
       "<table class=\"simpletable\">\n",
       "<tr>\n",
       "                        <td></td>                           <th>coef</th>     <th>std err</th>      <th>z</th>      <th>P>|z|</th>  <th>[0.025</th>    <th>0.975]</th>  \n",
       "</tr>\n",
       "<tr>\n",
       "  <th>Intercept</th>                                     <td>    0.9755</td> <td>    0.462</td> <td>    2.113</td> <td> 0.035</td> <td>    0.071</td> <td>    1.880</td>\n",
       "</tr>\n",
       "<tr>\n",
       "  <th>duration</th>                                      <td>    0.0379</td> <td>    0.002</td> <td>   16.999</td> <td> 0.000</td> <td>    0.034</td> <td>    0.042</td>\n",
       "</tr>\n",
       "<tr>\n",
       "  <th>director_facebook_likes</th>                       <td>    0.0001</td> <td> 2.45e-05</td> <td>    5.274</td> <td> 0.000</td> <td> 8.13e-05</td> <td>    0.000</td>\n",
       "</tr>\n",
       "<tr>\n",
       "  <th>actors_facebook_likes</th>                         <td>    0.4458</td> <td>    0.090</td> <td>    4.930</td> <td> 0.000</td> <td>    0.269</td> <td>    0.623</td>\n",
       "</tr>\n",
       "<tr>\n",
       "  <th>director_facebook_likes:actors_facebook_likes</th> <td>-5.757e-05</td> <td> 2.85e-05</td> <td>   -2.018</td> <td> 0.044</td> <td>   -0.000</td> <td>-1.66e-06</td>\n",
       "</tr>\n",
       "<tr>\n",
       "  <th>budget</th>                                        <td> 3.208e-10</td> <td> 1.58e-10</td> <td>    2.031</td> <td> 0.042</td> <td> 1.12e-11</td> <td>  6.3e-10</td>\n",
       "</tr>\n",
       "<tr>\n",
       "  <th>np.log(budget)</th>                                <td>   -0.3895</td> <td>    0.031</td> <td>  -12.761</td> <td> 0.000</td> <td>   -0.449</td> <td>   -0.330</td>\n",
       "</tr>\n",
       "</table>"
      ],
      "text/plain": [
       "<class 'statsmodels.iolib.summary.Summary'>\n",
       "\"\"\"\n",
       "                           Logit Regression Results                           \n",
       "==============================================================================\n",
       "Dep. Variable:             good_movie   No. Observations:                 3756\n",
       "Model:                          Logit   Df Residuals:                     3749\n",
       "Method:                           MLE   Df Model:                            6\n",
       "Date:                Tue, 28 Feb 2023   Pseudo R-squ.:                  0.1291\n",
       "Time:                        21:53:22   Log-Likelihood:                -1900.8\n",
       "converged:                       True   LL-Null:                       -2182.6\n",
       "Covariance Type:            nonrobust   LLR p-value:                1.699e-118\n",
       "=================================================================================================================\n",
       "                                                    coef    std err          z      P>|z|      [0.025      0.975]\n",
       "-----------------------------------------------------------------------------------------------------------------\n",
       "Intercept                                         0.9755      0.462      2.113      0.035       0.071       1.880\n",
       "duration                                          0.0379      0.002     16.999      0.000       0.034       0.042\n",
       "director_facebook_likes                           0.0001   2.45e-05      5.274      0.000    8.13e-05       0.000\n",
       "actors_facebook_likes                             0.4458      0.090      4.930      0.000       0.269       0.623\n",
       "director_facebook_likes:actors_facebook_likes -5.757e-05   2.85e-05     -2.018      0.044      -0.000   -1.66e-06\n",
       "budget                                         3.208e-10   1.58e-10      2.031      0.042    1.12e-11     6.3e-10\n",
       "np.log(budget)                                   -0.3895      0.031    -12.761      0.000      -0.449      -0.330\n",
       "=================================================================================================================\n",
       "\"\"\""
      ]
     },
     "execution_count": 89,
     "metadata": {},
     "output_type": "execute_result"
    }
   ],
   "source": [
    "logit_modelg = sm.logit(formula= 'good_movie ~ duration + director_facebook_likes * actors_facebook_likes + budget + np.log(budget)', data = movies2).fit()\n",
    "logit_modelg.summary()"
   ]
  },
  {
   "cell_type": "code",
   "execution_count": 90,
   "id": "6b93cbb2",
   "metadata": {},
   "outputs": [
    {
     "name": "stdout",
     "output_type": "stream",
     "text": [
      "Classification accuracy = 76.9%\n",
      "Precision = 65.7%\n",
      "TPR or Recall = 28.4%\n",
      "FNR = 71.6%\n",
      "FPR = 5.4%\n",
      "ROC-AUC = 75.2%\n"
     ]
    },
    {
     "data": {
      "text/html": [
       "<div>\n",
       "<style scoped>\n",
       "    .dataframe tbody tr th:only-of-type {\n",
       "        vertical-align: middle;\n",
       "    }\n",
       "\n",
       "    .dataframe tbody tr th {\n",
       "        vertical-align: top;\n",
       "    }\n",
       "\n",
       "    .dataframe thead th {\n",
       "        text-align: right;\n",
       "    }\n",
       "</style>\n",
       "<table border=\"1\" class=\"dataframe\">\n",
       "  <thead>\n",
       "    <tr style=\"text-align: right;\">\n",
       "      <th></th>\n",
       "      <th>Predicted 0</th>\n",
       "      <th>Predicted 1</th>\n",
       "    </tr>\n",
       "  </thead>\n",
       "  <tbody>\n",
       "    <tr>\n",
       "      <th>Actual 0</th>\n",
       "      <td>2601.0</td>\n",
       "      <td>149.0</td>\n",
       "    </tr>\n",
       "    <tr>\n",
       "      <th>Actual 1</th>\n",
       "      <td>720.0</td>\n",
       "      <td>286.0</td>\n",
       "    </tr>\n",
       "  </tbody>\n",
       "</table>\n",
       "</div>"
      ],
      "text/plain": [
       "          Predicted 0  Predicted 1\n",
       "Actual 0       2601.0        149.0\n",
       "Actual 1        720.0        286.0"
      ]
     },
     "execution_count": 90,
     "metadata": {},
     "output_type": "execute_result"
    },
    {
     "data": {
      "image/png": "[encoded data removed]",
      "text/plain": [
       "<Figure size 432x288 with 2 Axes>"
      ]
     },
     "metadata": {
      "needs_background": "light"
     },
     "output_type": "display_data"
    }
   ],
   "source": [
    "confusion_matrix_data(movies2, movies2.good_movie, logit_modelg, cutoff = 0.46)"
   ]
  },
  {
   "cell_type": "code",
   "execution_count": 91,
   "id": "d126d7b2",
   "metadata": {},
   "outputs": [],
   "source": [
    "from sklearn.metrics import precision_recall_curve, auc\n",
    "\n",
    "y = movies2.good_movie\n",
    "y_pred = logit_modelg.predict(movies2)\n",
    "\n",
    "precision, recall, thresholds = precision_recall_curve(y, y_pred)\n",
    "pr_auc = auc(recall, precision)\n",
    "\n",
    "max_precision_index = np.argmax(precision[:-1])\n",
    "decision_threshold = thresholds[max_precision_index]\n"
   ]
  },
  {
   "cell_type": "code",
   "execution_count": 92,
   "id": "479d5ec7",
   "metadata": {},
   "outputs": [
    {
     "data": {
      "text/plain": [
       "0.7705685870216994"
      ]
     },
     "execution_count": 92,
     "metadata": {},
     "output_type": "execute_result"
    }
   ],
   "source": [
    "decision_threshold"
   ]
  },
  {
   "cell_type": "code",
   "execution_count": 93,
   "id": "af50f3cd",
   "metadata": {},
   "outputs": [
    {
     "name": "stdout",
     "output_type": "stream",
     "text": [
      "Classification accuracy = 74.9%\n",
      "Precision = 81.4%\n",
      "TPR or Recall = 8.3%\n",
      "FNR = 91.7%\n",
      "FPR = 0.7%\n",
      "ROC-AUC = 75.2%\n"
     ]
    },
    {
     "data": {
      "text/html": [
       "<div>\n",
       "<style scoped>\n",
       "    .dataframe tbody tr th:only-of-type {\n",
       "        vertical-align: middle;\n",
       "    }\n",
       "\n",
       "    .dataframe tbody tr th {\n",
       "        vertical-align: top;\n",
       "    }\n",
       "\n",
       "    .dataframe thead th {\n",
       "        text-align: right;\n",
       "    }\n",
       "</style>\n",
       "<table border=\"1\" class=\"dataframe\">\n",
       "  <thead>\n",
       "    <tr style=\"text-align: right;\">\n",
       "      <th></th>\n",
       "      <th>Predicted 0</th>\n",
       "      <th>Predicted 1</th>\n",
       "    </tr>\n",
       "  </thead>\n",
       "  <tbody>\n",
       "    <tr>\n",
       "      <th>Actual 0</th>\n",
       "      <td>2731.0</td>\n",
       "      <td>19.0</td>\n",
       "    </tr>\n",
       "    <tr>\n",
       "      <th>Actual 1</th>\n",
       "      <td>923.0</td>\n",
       "      <td>83.0</td>\n",
       "    </tr>\n",
       "  </tbody>\n",
       "</table>\n",
       "</div>"
      ],
      "text/plain": [
       "          Predicted 0  Predicted 1\n",
       "Actual 0       2731.0         19.0\n",
       "Actual 1        923.0         83.0"
      ]
     },
     "execution_count": 93,
     "metadata": {},
     "output_type": "execute_result"
    },
    {
     "data": {
      "image/png": "[encoded data removed]",
      "text/plain": [
       "<Figure size 432x288 with 2 Axes>"
      ]
     },
     "metadata": {
      "needs_background": "light"
     },
     "output_type": "display_data"
    }
   ],
   "source": [
    "confusion_matrix_data(movies2, movies2.good_movie, logit_modelg, cutoff = decision_threshold)"
   ]
  },
  {
   "cell_type": "code",
   "execution_count": null,
   "id": "0416cf6a",
   "metadata": {},
   "outputs": [],
   "source": []
  }
 ],
 "metadata": {
  "kernelspec": {
   "display_name": "Python 3 (ipykernel)",
   "language": "python",
   "name": "python3"
  },
  "language_info": {
   "codemirror_mode": {
    "name": "ipython",
    "version": 3
   },
   "file_extension": ".py",
   "mimetype": "text/x-python",
   "name": "python",
   "nbconvert_exporter": "python",
   "pygments_lexer": "ipython3",
   "version": "3.9.12"
  }
 },
 "nbformat": 4,
 "nbformat_minor": 5
}
